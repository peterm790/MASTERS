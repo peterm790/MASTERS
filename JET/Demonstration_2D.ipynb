{
 "cells": [
  {
   "cell_type": "code",
   "execution_count": null,
   "metadata": {},
   "outputs": [],
   "source": [
    "### import the things\n",
    "import matplotlib.pyplot as plt\n",
    "import numpy as np\n",
    "import pandas as pd\n",
    "import xarray as xr\n",
    "import cartopy.crs as ccrs\n",
    "import glob\n",
    "import os\n",
    "import scipy.stats\n",
    "from matplotlib import cm\n",
    "import cmocean"
   ]
  },
  {
   "cell_type": "code",
   "execution_count": null,
   "metadata": {},
   "outputs": [],
   "source": [
    "data_path  = '/media/peter/Storage/data/'"
   ]
  },
  {
   "cell_type": "code",
   "execution_count": null,
   "metadata": {},
   "outputs": [],
   "source": [
    "def get_pressure_weighted(x):\n",
    "    dPref = (x.plev.values[0]-x.plev.values[-1])  #(p-ps)\n",
    "    integral = []\n",
    "    for i in range(len(x.plev)): #Integral of variable from P to Ps calculated as area between each pressure variable trapezoid then summed\n",
    "        if i+1 < len(x.plev):\n",
    "            area=((x.loc[dict(plev=x.plev.values[i])] + x.loc[dict(plev=x.plev.values[i+1])])/2)*(x.plev.values[i]-x.plev.values[i+1])\n",
    "            integral.append(area)\n",
    "    pw = (sum(integral))/dPref\n",
    "    return(pw)"
   ]
  },
  {
   "cell_type": "code",
   "execution_count": null,
   "metadata": {},
   "outputs": [],
   "source": [
    "def low_pass_weights(window, cutoff):\n",
    "    order = ((window - 1) // 2 ) + 1\n",
    "    nwts = 2 * order + 1\n",
    "    w = np.zeros([nwts])\n",
    "    n = nwts // 2\n",
    "    w[n] = 2 * cutoff\n",
    "    k = np.arange(1., n)\n",
    "    sigma = np.sin(np.pi * k / n) * n / (np.pi * k)\n",
    "    firstfactor = np.sin(2. * np.pi * cutoff * k) / (np.pi * k)\n",
    "    w[n-1:0:-1] = firstfactor * sigma\n",
    "    w[n+1:-1] = firstfactor * sigma\n",
    "    return w[1:-1]\n",
    "\n",
    "wgts = low_pass_weights(41, 1/10)\n",
    "weight = xr.DataArray(list(wgts), dims=['window'])"
   ]
  },
  {
   "cell_type": "code",
   "execution_count": null,
   "metadata": {},
   "outputs": [],
   "source": [
    "def jetenator(x):\n",
    "    x = x.fillna(0)\n",
    "    x = x.ws.rolling(time=41, center=True).construct('window').dot(weight)\n",
    "    x = x.dropna(dim='time',how='all')\n",
    "    limit = np.quantile(x.values,0.9)\n",
    "    x = x.where((x>=limit))\n",
    "    x = x/x\n",
    "    x = x.fillna(0)\n",
    "    #x = x.resample(time='QS-DEC').mean(dim='time',skipna=True)\n",
    "    return x"
   ]
  },
  {
   "cell_type": "code",
   "execution_count": null,
   "metadata": {},
   "outputs": [],
   "source": [
    "def get_files():\n",
    "    models = glob.glob(\"/terra/data/cmip5/global/historical/*\")\n",
    "    avail={}\n",
    "    for model in models:\n",
    "        ua = glob.glob(str(model)+\"/r1i1p1/day/2deg/ua_*\")\n",
    "        va = glob.glob(str(model)+\"/r1i1p1/day/2deg/va_*\")\n",
    "        try:\n",
    "            test = ua[0]\n",
    "            avail[model.split('/')[-1]] = [ua,va]\n",
    "        except:\n",
    "             pass\n",
    "    return avail\n",
    "\n",
    "files = get_files()"
   ]
  },
  {
   "cell_type": "code",
   "execution_count": null,
   "metadata": {},
   "outputs": [],
   "source": [
    "model = 'HadGEM2-CC'\n",
    "file = files[model]"
   ]
  },
  {
   "cell_type": "code",
   "execution_count": null,
   "metadata": {},
   "outputs": [],
   "source": [
    "U = xr.open_mfdataset(file)[0]\n",
    "V = xr.open_mfdataset(file)[1]\n",
    "x = np.sqrt(np.square(U.ua) + np.square(V.va))\n",
    "x = x.rename({'__xarray_dataarray_variable__':'ws'})\n",
    "x = x.sel(plev=slice(85000.0,70000.0))\n",
    "x = x.sel(time=slice('2000', '2000'))\n",
    "x = get_pressure_weighted(x)\n",
    "jet = jetenator(x)\n",
    "x = x.ws.rolling(time=41, center=True).construct('window').dot(weight)\n",
    "x = x.dropna(dim='time',how='all')"
   ]
  },
  {
   "cell_type": "code",
   "execution_count": null,
   "metadata": {},
   "outputs": [],
   "source": [
    "for i in range(len(jet.time)):\n",
    "    ax = plt.axes(projection=ccrs.Orthographic())\n",
    "    ax.coastlines()\n",
    "    ax.contourf(x.lon, x.lat, x[i], cmap = cmocean.cm.speed,transform = ccrs.PlateCarree(),alpha=0.6,zorder=1)\n",
    "    ax.contour(jet.lon,jet.lat,jet[i],colors = 'black', transform = ccrs.PlateCarree(),alpha=1,zorder=2)\n",
    "    plt.title('HadGEM2-CC \\n'+str(jet[i].time.values))\n",
    "    ax.set_extent([-50, 32, -15, -85], ccrs.PlateCarree())\n",
    "    ax.gridlines(linewidth=0.5, color='gray', alpha=0.5)\n",
    "    plt.savefig('../JET_OUT/demonstration/'+str(i)+'_togif.png')\n",
    "    plt.close()"
   ]
  }
 ],
 "metadata": {
  "kernelspec": {
   "display_name": "Python 3",
   "language": "python",
   "name": "python3"
  },
  "language_info": {
   "codemirror_mode": {
    "name": "ipython",
    "version": 3
   },
   "file_extension": ".py",
   "mimetype": "text/x-python",
   "name": "python",
   "nbconvert_exporter": "python",
   "pygments_lexer": "ipython3",
   "version": "3.7.6"
  }
 },
 "nbformat": 4,
 "nbformat_minor": 4
}
