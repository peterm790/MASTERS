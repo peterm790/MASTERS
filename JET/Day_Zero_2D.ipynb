{
 "cells": [
  {
   "cell_type": "code",
   "execution_count": null,
   "metadata": {},
   "outputs": [],
   "source": [
    "import matplotlib.pyplot as plt\n",
    "import numpy as np\n",
    "import pandas as pd\n",
    "import xarray as xr\n",
    "import cartopy.crs as ccrs\n",
    "import glob\n",
    "import os\n",
    "import scipy.stats\n",
    "from matplotlib import cm"
   ]
  },
  {
   "cell_type": "code",
   "execution_count": null,
   "metadata": {},
   "outputs": [],
   "source": [
    "def get_pressure_weighted(x):\n",
    "    dPref = (x.plev.values[0]-x.plev.values[-1])  #(p-ps)\n",
    "    integral = []\n",
    "    for i in range(len(x.plev)): #Integral of variable from P to Ps calculated as area between each pressure variable trapezoid then summed\n",
    "        if i+1 < len(x.plev):\n",
    "            area=((x.loc[dict(plev=x.plev.values[i])] + x.loc[dict(plev=x.plev.values[i+1])])/2)*(x.plev.values[i]-x.plev.values[i+1])\n",
    "            integral.append(area)\n",
    "    pw = (sum(integral))/dPref\n",
    "    return(pw)"
   ]
  },
  {
   "cell_type": "code",
   "execution_count": null,
   "metadata": {},
   "outputs": [],
   "source": [
    "def low_pass_weights(window, cutoff):\n",
    "    order = ((window - 1) // 2 ) + 1\n",
    "    nwts = 2 * order + 1\n",
    "    w = np.zeros([nwts])\n",
    "    n = nwts // 2\n",
    "    w[n] = 2 * cutoff\n",
    "    k = np.arange(1., n)\n",
    "    sigma = np.sin(np.pi * k / n) * n / (np.pi * k)\n",
    "    firstfactor = np.sin(2. * np.pi * cutoff * k) / (np.pi * k)\n",
    "    w[n-1:0:-1] = firstfactor * sigma\n",
    "    w[n+1:-1] = firstfactor * sigma\n",
    "    return w[1:-1]\n",
    "\n",
    "wgts = low_pass_weights(41, 1/10)\n",
    "weight = xr.DataArray(list(wgts), dims=['window'])"
   ]
  },
  {
   "cell_type": "code",
   "execution_count": null,
   "metadata": {},
   "outputs": [],
   "source": [
    "def jettracker(x):\n",
    "    x = x.fillna(0)\n",
    "    x = x.ws.rolling(time=41, center=True).construct('window').dot(weight)\n",
    "    x = x.dropna(dim='time',how='all')\n",
    "    limit = np.quantile(x.values,0.9)\n",
    "    x = x.where((x>=limit))\n",
    "    x = x/x\n",
    "    x = x.fillna(0)\n",
    "    x = x.resample(time='QS-DEC').mean(dim='time',skipna=True)\n",
    "    return x"
   ]
  },
  {
   "cell_type": "code",
   "execution_count": null,
   "metadata": {},
   "outputs": [],
   "source": [
    "def rainref(pr,x):\n",
    "    pr = pr.sel(lat=-34,method='nearest')\n",
    "    pr = pr.sel(lon=18,method='nearest')\n",
    "    pr = pr.resample(time='QS-DEC').mean(dim='time',skipna=True)\n",
    "    pr = pr.sel(time=list(x.time.values))\n",
    "    return pr"
   ]
  },
  {
   "cell_type": "code",
   "execution_count": null,
   "metadata": {},
   "outputs": [],
   "source": [
    "model = 'ERA5'"
   ]
  },
  {
   "cell_type": "code",
   "execution_count": null,
   "metadata": {},
   "outputs": [],
   "source": [
    "file = [glob.glob(\"/terra/data/reanalysis/global/reanalysis/ECMWF/ERA5/day/native/ua_*\"),glob.glob(\"/terra/data/reanalysis/global/reanalysis/ECMWF/ERA5/day/native/va_*\")]"
   ]
  },
  {
   "cell_type": "code",
   "execution_count": null,
   "metadata": {},
   "outputs": [],
   "source": [
    "\n",
    "\n",
    "U = xr.open_mfdataset(file)[0]\n",
    "V = xr.open_mfdataset(file)[1]\n",
    "U = U.rename({'latitude':'lat'})\n",
    "U = U.rename({'longitude':'lon'})\n",
    "U = U.rename({'level':'plev'})\n",
    "V = V.rename({'latitude':'lat'})\n",
    "V = V.rename({'longitude':'lon'})\n",
    "V = V.rename({'level':'plev'})\n",
    "levels=[850,700]\n",
    "x = np.sqrt(np.square(U.ua) + np.square(V.va))\n",
    "x = x.rename({'__xarray_dataarray_variable__':'ws'})\n",
    "x = x.sel(plev=slice(85000.0,70000.0))\n",
    "x = x.sel(lat = slice(-15,-75))\n",
    "x = xr.concat([x.sel(lon = slice(0,30)),x.sel(lon = slice(320,360))],dim='lon')\n",
    "x.coords['lon'] = (x.coords['lon'] + 180) % 360 - 180\n",
    "x = get_pressure_weighted(x)\n",
    "x = x.sel(time=slice('1980', '2020'))\n",
    "ERA5 = jetenator(x)\n",
    "\n",
    "\n",
    "pr =xr.open_mfdataset(glob.glob(\"/terra/data/reanalysis/global/reanalysis/ECMWF/ERA5/day/native/pr*\"))\n",
    "pr = pr = pr.sel(time=slice('1980', '2020'))\n",
    "ERA5_pr = rainref(pr,ERA5)\n",
    "    "
   ]
  },
  {
   "cell_type": "code",
   "execution_count": null,
   "metadata": {},
   "outputs": [],
   "source": [
    "def is_winter(month):\n",
    "    return (month == 4) | (month == 5) | (month == 6) | (month == 7) | (month == 8) | (month == 9)\n"
   ]
  },
  {
   "cell_type": "code",
   "execution_count": null,
   "metadata": {},
   "outputs": [],
   "source": [
    "D0 = ERA5.sel(time=slice('2015', '2017'))\n",
    "\n",
    "clim = ERA5.where(is_winter(ERA5.time.dt.month)).mean(dim='time',skipna=True)\n",
    "D0 = D0.where(is_winter(D0.time.dt.month)).mean(dim='time',skipna=True)\n",
    "\n",
    "\n",
    "levels = np.linspace(-0.15,0.15, 21)\n",
    "\n",
    "ax = plt.axes(projection=ccrs.Orthographic())\n",
    "ax.coastlines()\n",
    "plt.rcParams['hatch.linewidth']=0.4\n",
    "plt.rcParams['hatch.color']='black'\n",
    "c = ax.contourf(clim.lon,clim.lat,D0-clim,cmap='bwr_r',levels = levels,transform = ccrs.PlateCarree())\n",
    "plt.title('ERA5 Day Zero Winter Anomaly')\n",
    "ax.set_extent([-50, 32, -15, -85], ccrs.PlateCarree())\n",
    "plt.colorbar(c)\n",
    "ax.gridlines(linewidth=0.5, color='gray', alpha=0.5)\n",
    "plt.savefig('../JET_OUT/Day_Zero_2D/D0_anom.pdf')\n",
    "plt.savefig('../JET_OUT/Day_Zero_2D/D0_anom.png',dpi=1200)\n",
    "plt.savefig('../JET_OUT/Day_Zero_2D/D0_anom.svg', format='svg', dpi=1200)\n",
    "plt.show()\n"
   ]
  },
  {
   "cell_type": "code",
   "execution_count": null,
   "metadata": {},
   "outputs": [],
   "source": []
  }
 ],
 "metadata": {
  "kernelspec": {
   "display_name": "Python 3",
   "language": "python",
   "name": "python3"
  },
  "language_info": {
   "codemirror_mode": {
    "name": "ipython",
    "version": 3
   },
   "file_extension": ".py",
   "mimetype": "text/x-python",
   "name": "python",
   "nbconvert_exporter": "python",
   "pygments_lexer": "ipython3",
   "version": "3.7.6"
  }
 },
 "nbformat": 4,
 "nbformat_minor": 4
}
