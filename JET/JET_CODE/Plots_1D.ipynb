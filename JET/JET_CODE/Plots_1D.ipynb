{
 "cells": [
  {
   "cell_type": "code",
   "execution_count": 1,
   "metadata": {},
   "outputs": [],
   "source": [
    "import numpy as np\n",
    "import pandas as pd\n",
    "import pickle\n",
    "import matplotlib.pyplot as plt\n",
    "import seaborn as sns\n",
    "import os"
   ]
  },
  {
   "cell_type": "code",
   "execution_count": 2,
   "metadata": {},
   "outputs": [],
   "source": [
    "dic = pickle.load( open( \"../JET_OUT/jettrack_1D.p\", \"rb\" ) )"
   ]
  },
  {
   "cell_type": "code",
   "execution_count": 3,
   "metadata": {},
   "outputs": [],
   "source": [
    "def make_patch_spines_invisible(ax):\n",
    "    ax.set_frame_on(True)\n",
    "    ax.patch.set_visible(False)\n",
    "    for sp in ax.spines.values():\n",
    "        sp.set_visible(False)"
   ]
  },
  {
   "cell_type": "markdown",
   "metadata": {},
   "source": [
    "#Busy plot"
   ]
  },
  {
   "cell_type": "code",
   "execution_count": null,
   "metadata": {},
   "outputs": [],
   "source": [
    "for index in dic:\n",
    "    fig, ax1 = plt.subplots(figsize=(10,6))\n",
    "    fig.subplots_adjust(right=0.75)\n",
    "    ax2 = ax1.twinx()\n",
    "    ax3 = ax1.twinx()\n",
    "    ax3.spines[\"right\"].set_position((\"axes\", 1.18))\n",
    "    make_patch_spines_invisible(ax3)\n",
    "    ax3.spines[\"right\"].set_visible(True)\n",
    "    sns.kdeplot(y = list(dic[index].lat),lw=2.5,color='g', label='Model Latitude',ax=ax1, alpha = 0.4)\n",
    "    for index2 in dic:\n",
    "        sns.kdeplot(y = list(dic[index2].lat),lw=.2,color='g' ,ax=ax1, alpha = 0.1)\n",
    "    sns.kdeplot(y = list(dic[index].ua),color='r',lw=2.5, label='Model Velocity',ax=ax2, alpha = 0.4)\n",
    "    for index2 in dic:\n",
    "        sns.kdeplot(y = list(dic[index2].ua),lw=.2,color='r' ,ax=ax2, alpha = 0.1)\n",
    "    sns.kdeplot(y = list(dic[index].width),color='b',lw=2.5, label='Model Width',ax=ax3, alpha = 0.4, clip = (0,60))\n",
    "    for index2 in dic:\n",
    "        sns.kdeplot(y = list(dic[index2].width),lw=.2,color='b',ax=ax3, alpha = 0.1, clip = (0,60))\n",
    "    sns.kdeplot(y = list(dic['NOAA'].lat),lw=2,color='g',linestyle = ':',label='Reanalysis Latitude', ax = ax1)\n",
    "    sns.kdeplot(y = list(dic['NOAA'].ua),color='r',linestyle=':',label='Reanalysis Velocity', lw=2,ax=ax2)\n",
    "    sns.kdeplot(y = list(dic['NOAA'].width),color='b',linestyle=':',lw=2, label = 'Reanalysis Width', ax=ax3, clip = (0,60))\n",
    "    ax1.set_xlabel(\"Kernel Density Estimate\")\n",
    "    ax1.set_ylabel(\"Latitude\")\n",
    "    ax2.set_ylabel(\"Velocity\")\n",
    "    ax3.set_ylabel(\"Width\")\n",
    "    ax1.yaxis.label.set_color('g')\n",
    "    ax2.yaxis.label.set_color('r')\n",
    "    ax3.yaxis.label.set_color('b')\n",
    "    tkw = dict(size=4, width=1.5)\n",
    "    ax1.tick_params(axis='y', colors='g', **tkw)\n",
    "    ax2.tick_params(axis='y', colors='r', **tkw)\n",
    "    ax3.tick_params(axis='y', colors='b', **tkw)\n",
    "    ax1.tick_params(axis='x', **tkw)\n",
    "    lines1, labels1 = ax1.get_legend_handles_labels()\n",
    "    lines2, labels2 = ax2.get_legend_handles_labels()\n",
    "    lines3, labels3 = ax3.get_legend_handles_labels()\n",
    "    ax3.legend(lines1 + lines2 + lines3, labels1 + labels2 + labels3, loc=0)\n",
    "    plt.title(str(index)+' Jet Analyses', fontsize=16, ha='center')\n",
    "    plt.savefig('../JET_OUT/busyplot/pdf/busyplot_'+str(index)+'.pdf')\n",
    "    plt.savefig('../JET_OUT/busyplot/png/busyplot_'+str(index)+'.png', format='png', dpi=1200)\n",
    "    plt.close()\n",
    "    \n",
    "    "
   ]
  },
  {
   "cell_type": "code",
   "execution_count": null,
   "metadata": {},
   "outputs": [],
   "source": [
    "def is_winter(month):\n",
    "    return (month == 6) | (month == 7) | (month == 8)\n",
    "\n",
    "def is_summer(month):\n",
    "    return (month == 12) | (month == 1) | (month == 2)\n",
    "\n",
    "def is_autumn(month):\n",
    "    return (month == 3) | (month == 4) | (month == 5)\n",
    "\n",
    "def is_spring(month):\n",
    "    return (month == 9) | (month == 10) | (month == 11)"
   ]
  },
  {
   "cell_type": "code",
   "execution_count": null,
   "metadata": {},
   "outputs": [],
   "source": [
    "label = {'lat':'latitude',\n",
    "'width':'width',\n",
    "'ua':'velocity',\n",
    "'top':'Northern Extent',\n",
    "'bottom':'Southern Extent'}"
   ]
  },
  {
   "cell_type": "code",
   "execution_count": null,
   "metadata": {},
   "outputs": [],
   "source": [
    "#seasonality"
   ]
  },
  {
   "cell_type": "code",
   "execution_count": null,
   "metadata": {},
   "outputs": [],
   "source": [
    "for metric in ['lat','width','ua','top','bottom']:\n",
    "    winter = pd.to_numeric(dic['NOAA'].where(is_winter(dic['NOAA'].months)).dropna().set_index('years')[metric])\n",
    "    summer = pd.to_numeric(dic['NOAA'].where(is_summer(dic['NOAA'].months)).dropna().set_index('years')[metric])\n",
    "    spring = pd.to_numeric(dic['NOAA'].where(is_spring(dic['NOAA'].months)).dropna().set_index('years')[metric])\n",
    "    autumn = pd.to_numeric(dic['NOAA'].where(is_autumn(dic['NOAA'].months)).dropna().set_index('years')[metric])\n",
    "    fig, ax1 = plt.subplots(figsize=(10,6))\n",
    "    sns.kdeplot(y = list(winter),lw=3.5,color='b',  label='Winter Width',ax=ax1)\n",
    "    sns.kdeplot(y = list(summer),lw=3.5,color='r',  label='Summer Width',ax=ax1)\n",
    "    sns.kdeplot(y = list(spring),lw=3.5,color='g',  label='spring Width',ax=ax1)\n",
    "    sns.kdeplot(y = list(autumn),lw=3.5,color='y',  label='Autumn Width',ax=ax1)\n",
    "    ax1.set_xlabel(\"Kernel Density Estimate\")\n",
    "    ax1.set_ylabel(str(metric))\n",
    "    plt.title('NOAA Jet '+label[metric]+' Seasonal Distribution Shift', fontsize=16, ha='center')\n",
    "    plt.savefig('../JET_OUT/seasonal_shift/png/'+str(metric)+'_seasonality.png',dpi=100)\n",
    "    plt.savefig('../JET_OUT/seasonal_shift/pdf/'+str(metric)+'_seasonality.pdf')\n",
    "    plt.savefig('../JET_OUT/seasonal_shift/svg/'+str(metric)+'_seasonality.svg',format='svg', dpi=1200)\n",
    "    plt.close()"
   ]
  },
  {
   "cell_type": "code",
   "execution_count": null,
   "metadata": {},
   "outputs": [],
   "source": [
    "#area difference only works in older notebook"
   ]
  },
  {
   "cell_type": "code",
   "execution_count": null,
   "metadata": {},
   "outputs": [],
   "source": [
    "#requires an older (or newer?) version of matplotlib - works locally. Can't find a work around to ax.lines[]"
   ]
  },
  {
   "cell_type": "code",
   "execution_count": null,
   "metadata": {},
   "outputs": [],
   "source": [
    "index = 'HadCM3'\n",
    "\n",
    "\n",
    "fig, ax1 = plt.subplots(figsize=(10,6))\n",
    "fig.subplots_adjust(right=0.75)\n",
    "ax = sns.kdeplot(list(dic[index].lat),lw=2.5,color='r', shade=True, vertical=False, label='Model Latitude',ax=ax1)\n",
    "ax = sns.kdeplot(list(dic['NOAA'].lat),lw=2,color='r',shade=True,linestyle = ':', vertical=False,label='Reananalysis Latitude', ax = ax1)\n",
    "l1 = ax.lines[0]\n",
    "l2 = ax.lines[1]\n",
    "x1, y1 = l1.get_xydata().T\n",
    "x2, y2 = l2.get_xydata().T\n",
    "xmin = max(x1.min(), x2.min())\n",
    "xmax = min(x1.max(), x2.max())\n",
    "x = np.linspace(xmin, xmax, 100)\n",
    "y1 = np.interp(x, x1, y1)\n",
    "y2 = np.interp(x, x2, y2)\n",
    "y = np.minimum(y1, y2)\n",
    "ax.fill_between(x, y, color=\"white\", alpha=1)\n",
    "tkw = dict(size=4, width=1.5)\n",
    "lines1, labels1 = ax1.get_legend_handles_labels()\n",
    "ax1.legend()\n",
    "plt.title(str(index)+' Jet Latitude Area difference', fontsize=16, ha='center')\n",
    "plt.show()"
   ]
  },
  {
   "cell_type": "code",
   "execution_count": null,
   "metadata": {},
   "outputs": [],
   "source": [
    "#Results Table"
   ]
  },
  {
   "cell_type": "code",
   "execution_count": null,
   "metadata": {},
   "outputs": [],
   "source": [
    "monthly={}\n",
    "annual={}\n",
    "winter={}\n",
    "seasonal={}\n",
    "for index in dic:\n",
    "    annual[index] = pd.DataFrame(pd.to_numeric(dic[index].set_index('years').lat).groupby(level='years').mean())\n",
    "    annual[index]['ua'] = pd.to_numeric(dic[index].set_index('years').ua).groupby(level='years').mean()\n",
    "    annual[index]['width'] = pd.to_numeric(dic[index].set_index('years').width).groupby(level='years').mean()\n",
    "    annual[index]['pr'] = pd.to_numeric(dic[index].set_index('years').pr).groupby(level='years').mean()\n",
    "    annual[index]['top'] = pd.to_numeric(dic[index].set_index('years').top).groupby(level='years').mean()\n",
    "    annual[index]['bottom'] = pd.to_numeric(dic[index].set_index('years').bottom).groupby(level='years').mean()\n",
    "    monthly[index] = pd.DataFrame(pd.to_numeric(dic[index].set_index(['years','months']).lat).groupby(['years','months']).mean())\n",
    "    monthly[index]['ua'] = pd.to_numeric(dic[index].set_index(['years','months']).ua).groupby(['years','months']).mean()\n",
    "    monthly[index]['width'] = pd.to_numeric(dic[index].set_index(['years','months']).width).groupby(['years','months']).mean()\n",
    "    monthly[index]['pr'] = pd.to_numeric(dic[index].set_index(['years','months']).pr).groupby(['years','months']).mean()\n",
    "    monthly[index]['top'] = pd.to_numeric(dic[index].set_index(['years','months']).top).groupby(['years','months']).mean()\n",
    "    monthly[index]['bottom'] = pd.to_numeric(dic[index].set_index(['years','months']).bottom).groupby(['years','months']).mean()\n",
    "    winter[index] = pd.DataFrame(pd.to_numeric(dic[index].where(is_winter(dic[index].months)).dropna().set_index('years').lat).groupby(level='years').mean())\n",
    "    winter[index]['ua'] = pd.to_numeric(dic[index].where(is_winter(dic[index].months)).dropna().set_index('years').ua).groupby(level='years').mean()\n",
    "    winter[index]['width'] = pd.to_numeric(dic[index].where(is_winter(dic[index].months)).dropna().set_index('years').width).groupby(level='years').mean()\n",
    "    winter[index]['pr'] = pd.to_numeric(dic[index].where(is_winter(dic[index].months)).dropna().set_index('years').pr).groupby(level='years').mean()\n",
    "    winter[index]['top'] = pd.to_numeric(dic[index].where(is_winter(dic[index].months)).dropna().set_index('years').top).groupby(level='years').mean()\n",
    "    winter[index]['bottom'] = pd.to_numeric(dic[index].where(is_winter(dic[index].months)).dropna().set_index('years').bottom).groupby(level='years').mean()\n",
    "    seasonal[index] = pd.DataFrame(pd.to_numeric(dic[index].set_index(['years','seasons']).lat).groupby(level=['years','seasons']).mean())\n",
    "    seasonal[index]['ua'] = pd.to_numeric(dic[index].set_index(['years','seasons']).ua).groupby(level=['years','seasons']).mean()\n",
    "    seasonal[index]['width'] = pd.to_numeric(dic[index].set_index(['years','seasons']).width).groupby(level=['years','seasons']).mean()\n",
    "    seasonal[index]['pr'] = pd.to_numeric(dic[index].set_index(['years','seasons']).pr).groupby(level=['years','seasons']).mean()\n",
    "    seasonal[index]['top'] = pd.to_numeric(dic[index].set_index(['years','seasons']).top).groupby(level=['years','seasons']).mean()\n",
    "    seasonal[index]['bottom'] = pd.to_numeric(dic[index].set_index(['years','seasons']).bottom).groupby(level=['years','seasons']).mean()"
   ]
  },
  {
   "cell_type": "code",
   "execution_count": null,
   "metadata": {},
   "outputs": [],
   "source": [
    "# mean var winter anoma Summ anom pr correlation\n",
    "df = pd.DataFrame([],columns=[\"model\" ,\"latitude\" ,\"Velocity\", \"Width\",\"Northern Extent\",\"Southern Extent\", \"Lat std\", \"ua std\", \"width std\" ,\"Northern Extent std\",\"Southern Extent std\" ,\"lat anom\" , \"ua anom\" , \"width anom\",\"Northern Extent anom\",\"Southern Extent anom\",\"lat pr corr\" ,\"lat p-value\", \"ua pr corr\" , \"ua p-value\", \"width pr corr\", \"width p-value\",\"Northern Extent corr\",\"Northern Extent p-value\",\"Southern Extent corr\",\"Southern Extent p-values\"])"
   ]
  },
  {
   "cell_type": "code",
   "execution_count": null,
   "metadata": {},
   "outputs": [],
   "source": [
    "df_float = df.iloc[:,:1].join(df.iloc[:,1:].astype('float'))\n",
    "for colname in df.columns:      #only p-values in scientific rest in decimal/float\n",
    "    if \"p-value\" in colname:\n",
    "        df_float[colname] = df[colname]\n",
    "        \n",
    "df = df_float"
   ]
  },
  {
   "cell_type": "code",
   "execution_count": null,
   "metadata": {},
   "outputs": [],
   "source": [
    "dfloat.to_csv('../JET_OUT/results_table.csv',float_format='%.3f')"
   ]
  }
 ],
 "metadata": {
  "kernelspec": {
   "display_name": "Dask [shared installation]",
   "language": "python",
   "name": "dask"
  },
  "language_info": {
   "codemirror_mode": {
    "name": "ipython",
    "version": 3
   },
   "file_extension": ".py",
   "mimetype": "text/x-python",
   "name": "python",
   "nbconvert_exporter": "python",
   "pygments_lexer": "ipython3",
   "version": "3.8.8"
  }
 },
 "nbformat": 4,
 "nbformat_minor": 4
}
