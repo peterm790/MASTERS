{
 "cells": [
  {
   "cell_type": "code",
   "execution_count": 1,
   "metadata": {},
   "outputs": [],
   "source": [
    "import numpy as np\n",
    "import pandas as pd\n",
    "import glob\n",
    "import math\n",
    "import statistics\n",
    "import scipy.stats as stats\n",
    "import pickle\n",
    "import matplotlib.pyplot as plt\n",
    "from sklearn.neighbors import KernelDensity"
   ]
  },
  {
   "cell_type": "code",
   "execution_count": 2,
   "metadata": {},
   "outputs": [],
   "source": [
    "dic = pickle.load( open( \"../JET_OUT/jettrack_1D.p\", \"rb\" ) )"
   ]
  },
  {
   "cell_type": "code",
   "execution_count": 3,
   "metadata": {},
   "outputs": [],
   "source": [
    "def is_winter(month):\n",
    "    return (month == 6) | (month == 7) | (month == 8)# | (month == 5) | (month == 9) | (month == 4)"
   ]
  },
  {
   "cell_type": "code",
   "execution_count": 4,
   "metadata": {},
   "outputs": [],
   "source": [
    "def getrange(numbers):\n",
    "    return max(numbers) - min(numbers)"
   ]
  },
  {
   "cell_type": "code",
   "execution_count": 5,
   "metadata": {},
   "outputs": [],
   "source": [
    "monthly={}\n",
    "annual={}\n",
    "winter={}\n",
    "seasonal={}\n",
    "for index in dic:\n",
    "    annual[index] = pd.DataFrame(pd.to_numeric(dic[index].set_index('years').lat).groupby(level='years').mean())\n",
    "    annual[index]['ua'] = pd.to_numeric(dic[index].set_index('years').ua).groupby(level='years').mean()\n",
    "    annual[index]['width'] = pd.to_numeric(dic[index].set_index('years').width).groupby(level='years').mean()\n",
    "    annual[index]['pr'] = pd.to_numeric(dic[index].set_index('years').pr).groupby(level='years').mean()\n",
    "    monthly[index] = pd.DataFrame(pd.to_numeric(dic[index].set_index(['years','months']).lat).groupby(['years','months']).mean())\n",
    "    monthly[index]['ua'] = pd.to_numeric(dic[index].set_index(['years','months']).ua).groupby(['years','months']).mean()\n",
    "    monthly[index]['width'] = pd.to_numeric(dic[index].set_index(['years','months']).width).groupby(['years','months']).mean()\n",
    "    monthly[index]['pr'] = pd.to_numeric(dic[index].set_index(['years','months']).pr).groupby(['years','months']).mean()\n",
    "    winter[index] = pd.DataFrame(pd.to_numeric(dic[index].where(is_winter(dic[index].months)).dropna().set_index('years').lat).groupby(level='years').mean())\n",
    "    winter[index]['ua'] = pd.to_numeric(dic[index].where(is_winter(dic[index].months)).dropna().set_index('years').ua).groupby(level='years').mean()\n",
    "    winter[index]['width'] = pd.to_numeric(dic[index].where(is_winter(dic[index].months)).dropna().set_index('years').width).groupby(level='years').mean()\n",
    "    winter[index]['pr'] = pd.to_numeric(dic[index].where(is_winter(dic[index].months)).dropna().set_index('years').pr).groupby(level='years').mean()\n",
    "    seasonal[index] = pd.DataFrame(pd.to_numeric(dic[index].set_index(['years','seasons']).lat).groupby(level=['years','seasons']).mean())\n",
    "    seasonal[index]['ua'] = pd.to_numeric(dic[index].set_index(['years','seasons']).ua).groupby(level=['years','seasons']).mean()\n",
    "    seasonal[index]['width'] = pd.to_numeric(dic[index].set_index(['years','seasons']).width).groupby(level=['years','seasons']).mean()\n",
    "    seasonal[index]['pr'] = pd.to_numeric(dic[index].set_index(['years','seasons']).pr).groupby(level=['years','seasons']).mean()"
   ]
  },
  {
   "cell_type": "code",
   "execution_count": 6,
   "metadata": {},
   "outputs": [],
   "source": [
    "results={}\n",
    "for s,season in zip([1,2,3,4],['DJF','MAM','JJA','SON']):\n",
    "    results[season]=[]\n",
    "    for index in dic:\n",
    "        #\n",
    "        i = 1000\n",
    "        #\n",
    "        #latitude\n",
    "        #\n",
    "        x = np.linspace(min((np.min(dic[key].where(dic[key].seasons==s).dropna().lat) for key in dic)),max((np.max(dic[key].where(dic[key].seasons==s).dropna().lat) for key in dic)),int(i))\n",
    "        bw = 1.059*np.min([np.std(dic['NOAA'].where(dic['NOAA'].seasons==s).dropna().lat),stats.iqr(dic['NOAA'].where(dic['NOAA'].seasons==s).dropna().lat)/1.34])*216**(-1/5.)\n",
    "        kde = KernelDensity(kernel='gaussian', bandwidth=bw).fit(np.array(dic['NOAA'].where(dic['NOAA'].seasons==s).dropna().lat)[:, np.newaxis]) # replicates sns\n",
    "        ref = np.exp(kde.score_samples(x[:, np.newaxis]))\n",
    "        #\n",
    "        bw = 1.059*np.min([np.std(dic[index].where(dic[index].seasons==s).dropna().lat),stats.iqr(dic[index].where(dic[index].seasons==s).dropna().lat)/1.34])*216**(-1/5.)\n",
    "        kde = KernelDensity(kernel='gaussian', bandwidth=bw).fit(np.array(dic[index].where(dic[index].seasons==s).dropna().lat)[:, np.newaxis]) # replicates sns\n",
    "        cmip = np.exp(kde.score_samples(x[:, np.newaxis]))\n",
    "        #\n",
    "        score = []\n",
    "        scale = getrange(x)/i\n",
    "        for j in range(len(ref)):\n",
    "            score.append(abs(ref[j]-cmip[j])*scale)\n",
    "        lat = np.sum(score)\n",
    "        #\n",
    "        #Velocity\n",
    "        #\n",
    "        x = np.linspace(min((np.min(dic[key].where(dic[key].seasons==s).dropna().ua) for key in dic)),max((np.max(dic[key].where(dic[key].seasons==s).dropna().ua) for key in dic)),int(i))\n",
    "        bw = 1.059*np.min([np.std(dic['NOAA'].where(dic['NOAA'].seasons==s).dropna().ua),stats.iqr(dic['NOAA'].where(dic['NOAA'].seasons==s).dropna().ua)/1.34])*216**(-1/5.)\n",
    "        kde = KernelDensity(kernel='gaussian', bandwidth=bw).fit(np.array(dic['NOAA'].where(dic['NOAA'].seasons==s).dropna().ua)[:, np.newaxis]) # replicates sns\n",
    "        ref = np.exp(kde.score_samples(x[:, np.newaxis]))\n",
    "        #\n",
    "        bw = 1.059*np.min([np.std(dic[index].where(dic[index].seasons==s).dropna().ua),stats.iqr(dic[index].where(dic[index].seasons==s).dropna().ua)/1.34])*216**(-1/5.)\n",
    "        kde = KernelDensity(kernel='gaussian', bandwidth=bw).fit(np.array(dic[index].where(dic[index].seasons==s).dropna().ua)[:, np.newaxis]) # replicates sns\n",
    "        cmip = np.exp(kde.score_samples(x[:, np.newaxis]))\n",
    "        #\n",
    "        score = []\n",
    "        scale = getrange(x)/i\n",
    "        for j in range(len(ref)):\n",
    "            score.append(abs(ref[j]-cmip[j])*scale)\n",
    "        ua = np.sum(score)\n",
    "        #Width\n",
    "        #\n",
    "        x = np.linspace(min((np.min(dic[key].where(dic[key].seasons==s).dropna().width) for key in dic)),max((np.max(dic[key].where(dic[key].seasons==s).dropna().width) for key in dic)),int(i))\n",
    "        bw = 1.059*np.min([np.std(dic['NOAA'].where(dic['NOAA'].seasons==s).dropna().width),stats.iqr(dic['NOAA'].where(dic['NOAA'].seasons==s).dropna().width)/1.34])*216**(-1/5.)\n",
    "        kde = KernelDensity(kernel='gaussian', bandwidth=bw).fit(np.array(dic['NOAA'].where(dic['NOAA'].seasons==s).dropna().width)[:, np.newaxis]) # replicates sns\n",
    "        ref = np.exp(kde.score_samples(x[:, np.newaxis]))\n",
    "        #\n",
    "        bw = 1.059*np.min([np.std(dic[index].where(dic[index].seasons==s).dropna().width),stats.iqr(dic[index].where(dic[index].seasons==s).dropna().width)/1.34])*216**(-1/5.)\n",
    "        kde = KernelDensity(kernel='gaussian', bandwidth=bw).fit(np.array(dic[index].where(dic[index].seasons==s).dropna().width)[:, np.newaxis]) # replicates sns\n",
    "        cmip = np.exp(kde.score_samples(x[:, np.newaxis]))\n",
    "        #\n",
    "        score = []\n",
    "        scale = getrange(x)/i\n",
    "        for j in range(len(ref)):\n",
    "            score.append(abs(ref[j]-cmip[j])*scale)\n",
    "        width = np.sum(score)\n",
    "        #\n",
    "        results[season].append([index,lat,ua,width])"
   ]
  },
  {
   "cell_type": "code",
   "execution_count": 7,
   "metadata": {},
   "outputs": [],
   "source": [
    "for index in results:\n",
    "    results[index] = pd.DataFrame(results[index],columns=['Model','lat','ua', 'width'])\n",
    "    results[index] = results[index].set_index('Model')"
   ]
  },
  {
   "cell_type": "code",
   "execution_count": 8,
   "metadata": {},
   "outputs": [],
   "source": [
    "resultsfinal = results['DJF'] + results['MAM'] + results['JJA'] + results['SON']\n",
    "resultsfinal = resultsfinal.sort_values('lat')"
   ]
  },
  {
   "cell_type": "code",
   "execution_count": 10,
   "metadata": {},
   "outputs": [],
   "source": [
    "resultsfinal.to_csv('../JET_OUT/scores_1D.csv')"
   ]
  },
  {
   "cell_type": "code",
   "execution_count": null,
   "metadata": {},
   "outputs": [],
   "source": []
  }
 ],
 "metadata": {
  "kernelspec": {
   "display_name": "Dask [shared installation]",
   "language": "python",
   "name": "dask"
  },
  "language_info": {
   "codemirror_mode": {
    "name": "ipython",
    "version": 3
   },
   "file_extension": ".py",
   "mimetype": "text/x-python",
   "name": "python",
   "nbconvert_exporter": "python",
   "pygments_lexer": "ipython3",
   "version": "3.8.8"
  }
 },
 "nbformat": 4,
 "nbformat_minor": 4
}
