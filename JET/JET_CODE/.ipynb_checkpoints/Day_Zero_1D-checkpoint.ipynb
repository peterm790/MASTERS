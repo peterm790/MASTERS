{
 "cells": [
  {
   "cell_type": "code",
   "execution_count": 1,
   "metadata": {},
   "outputs": [],
   "source": [
    "import numpy as np\n",
    "import pandas as pd\n",
    "import xarray as xr\n",
    "import glob\n",
    "import math\n",
    "import statistics\n",
    "import pickle\n",
    "import matplotlib.pyplot as plt\n",
    "import seaborn as sns"
   ]
  },
  {
   "cell_type": "code",
   "execution_count": 2,
   "metadata": {},
   "outputs": [],
   "source": [
    "dic = pickle.load( open( \"/home/pmarsh/MASTERS/JET/JET_STREAM_OUT/jet1D/jettrack.p\", \"rb\" ) )"
   ]
  },
  {
   "cell_type": "code",
   "execution_count": 3,
   "metadata": {},
   "outputs": [],
   "source": [
    "def is_winter(month):\n",
    "    return (month == 4) | (month == 5) | (month == 6) | (month == 7) | (month == 8) | (month == 9)"
   ]
  },
  {
   "cell_type": "code",
   "execution_count": 4,
   "metadata": {},
   "outputs": [],
   "source": [
    "ind_list = [2015,2016,2017]"
   ]
  },
  {
   "cell_type": "code",
   "execution_count": 5,
   "metadata": {},
   "outputs": [],
   "source": [
    "label = {'lat':'Latitude',\n",
    "'width':'Width',\n",
    "'ua':'Velocity',\n",
    "'top':'Northern Extent',\n",
    "'bottom':'Southern Extent'}"
   ]
  },
  {
   "cell_type": "code",
   "execution_count": null,
   "metadata": {},
   "outputs": [],
   "source": [
    "for metric in ['lat','width','ua','top','bottom']:\n",
    "    winter = pd.to_numeric(dic['ERA5'].where(is_winter(dic['ERA5'].months)).dropna().set_index('years')[metric])\n",
    "    D0 = winter.loc[ind_list]\n",
    "    fig, ax1 = plt.subplots(figsize=(10,6))\n",
    "    sns.kdeplot(list(winter),lw=3.5,color='black', vertical=True, label='Winter Climatology',ax=ax1)\n",
    "    sns.kdeplot(list(D0),lw=3.5,color='red', vertical=True, label='Day Zero',ax=ax1)\n",
    "    ax1.set_xlabel(\"Kernel Density Estimate\")\n",
    "    ax1.set_ylabel(str(metric))\n",
    "    plt.title('NOAA Jet '+label[metric]+' Day Zero Distribution Shift', fontsize=16, ha='center')\n",
    "    plt.savefig('../JET_OUT/Day_Zero_1D/png/'+str(metric)+'_shift.png',dpi=100)\n",
    "    plt.savefig('../JET_OUT/Day_Zero_1D/pdf/'+str(metric)+'_shift.pdf')\n",
    "    plt.savefig('../JET_OUT/Day_Zero_1D/svg/'+str(metric)+'_shift.svg',format='svg', dpi=1200)\n",
    "    plt.close()"
   ]
  },
  {
   "cell_type": "code",
   "execution_count": null,
   "metadata": {},
   "outputs": [],
   "source": [
    "metric = 'ua'"
   ]
  },
  {
   "cell_type": "code",
   "execution_count": null,
   "metadata": {},
   "outputs": [],
   "source": [
    "winter = pd.to_numeric(dic['ERA5'].where(is_winter(dic['ERA5'].months)).dropna().set_index('years')[metric])\n",
    "D0 = winter.loc[ind_list]\n",
    "winter = winter.groupby(level='years').mean()\n",
    "D0 = D0.groupby(level='years').mean()"
   ]
  },
  {
   "cell_type": "code",
   "execution_count": null,
   "metadata": {},
   "outputs": [],
   "source": [
    "ax = sns.regplot(x=winter.index, y=winter.values, data=winter)\n",
    "sns.regplot(x = D0.index,y=D0.values,data=D0,fit_reg=False,color='red')\n",
    "ax.set(xlim=(1979, 2018))\n",
    "plt.title(\"Mean Winter Jet Velocity Trend\")\n",
    "plt.ylabel(\"m/s\")\n",
    "plt.savefig('../JET_OUT/Day_Zero_1D/png/'+str(metric)+'_trend.png',dpi=100)\n",
    "plt.savefig('../JET_OUT/Day_Zero_1D/pdf/'+str(metric)+'_trend.pdf')\n",
    "plt.savefig('../JET_OUT/Day_Zero_1D/svg/'+str(metric)+'_trend.svg',format='svg', dpi=1200)\n",
    "plt.show()"
   ]
  }
 ],
 "metadata": {
  "kernelspec": {
   "display_name": "Python 3",
   "language": "python",
   "name": "python3"
  },
  "language_info": {
   "codemirror_mode": {
    "name": "ipython",
    "version": 3
   },
   "file_extension": ".py",
   "mimetype": "text/x-python",
   "name": "python",
   "nbconvert_exporter": "python",
   "pygments_lexer": "ipython3",
   "version": "3.8.3"
  }
 },
 "nbformat": 4,
 "nbformat_minor": 4
}
