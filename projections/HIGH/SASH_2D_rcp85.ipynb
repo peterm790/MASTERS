{
 "cells": [
  {
   "cell_type": "code",
   "execution_count": 1,
   "metadata": {},
   "outputs": [],
   "source": [
    "import numpy as np\n",
    "import pandas as pd\n",
    "import xarray as xr\n",
    "import zarr\n",
    "import math\n",
    "import glob\n",
    "import pickle\n",
    "import statistics\n",
    "import scipy.stats as stats\n",
    "from sklearn.neighbors import KernelDensity\n",
    "import dask\n",
    "import seaborn as sns\n",
    "import matplotlib.pyplot as plt\n",
    "import cartopy.crs as ccrs"
   ]
  },
  {
   "cell_type": "code",
   "execution_count": 2,
   "metadata": {},
   "outputs": [],
   "source": [
    "def get_files():\n",
    "    models = glob.glob(\"/terra/data/cmip5/global/rcp85/*\")\n",
    "    avail={}\n",
    "    for model in models:\n",
    "        zg = glob.glob(str(model)+\"/r1i1p1/day/2deg/zg*\")\n",
    "        try:\n",
    "            test = zg[0]\n",
    "            avail[model.split('/')[-1]] = zg\n",
    "        except:\n",
    "             pass\n",
    "    return avail"
   ]
  },
  {
   "cell_type": "code",
   "execution_count": 3,
   "metadata": {},
   "outputs": [],
   "source": [
    "files = get_files()"
   ]
  },
  {
   "cell_type": "code",
   "execution_count": 4,
   "metadata": {},
   "outputs": [],
   "source": [
    "def contourise(x):\n",
    "    x = x.fillna(0)\n",
    "    x = x.where((x>=limit))\n",
    "    x = x/x\n",
    "    return x"
   ]
  },
  {
   "cell_type": "code",
   "execution_count": 5,
   "metadata": {},
   "outputs": [
    {
     "name": "stdout",
     "output_type": "stream",
     "text": [
      "FGOALS-g2\n",
      "1561.8729736328125\n",
      "ACCESS1-0\n",
      "1552.7299072265625\n",
      "CMCC-CM\n",
      "1554.4324340820312\n",
      "bcc-csm1-1\n",
      "1569.9281005859375\n",
      "CMCC-CMS\n",
      "1559.1117431640625\n",
      "CanESM2\n",
      "1560.0959838867188\n",
      "GFDL-CM3\n",
      "1571.4184814453124\n",
      "BNU-ESM\n",
      "1573.8772216796874\n",
      "GFDL-ESM2G\n",
      "1554.6328247070312\n",
      "CMCC-CESM\n",
      "1563.514111328125\n",
      "MRI-CGCM3\n",
      "1557.4382690429688\n",
      "IPSL-CM5A-LR\n",
      "1548.9581787109375\n",
      "CNRM-CM5\n",
      "1549.2410034179688\n",
      "ACCESS1-3\n",
      "1560.8900634765625\n",
      "GFDL-ESM2M\n",
      "1554.944091796875\n",
      "MPI-ESM-MR\n",
      "1560.2386474609375\n",
      "IPSL-CM5A-MR\n",
      "1552.9481201171875\n",
      "HadGEM2-CC\n",
      "1555.4704833984374\n",
      "bcc-csm1-1-m\n",
      "1577.1167114257812\n",
      "MIROC5\n",
      "1562.0147705078125\n",
      "MRI-ESM1\n",
      "1558.505126953125\n",
      "IPSL-CM5B-LR\n",
      "1536.89365234375\n",
      "MIROC-ESM-CHEM\n",
      "1573.0644653320312\n",
      "HadGEM2-ES\n",
      "1556.4935913085938\n",
      "MPI-ESM-LR\n",
      "1558.2178588867187\n",
      "MIROC-ESM\n",
      "1562.4359130859375\n"
     ]
    }
   ],
   "source": [
    "rcp85={}\n",
    "for model in files:\n",
    "    print(model)\n",
    "    x = xr.open_mfdataset(files[model])\n",
    "    x = x.sel(plev=85000)\n",
    "    x = x.sel(time=slice('2045','2100'))\n",
    "    x = x.load()\n",
    "    x = x.sel(lat=slice(-60,0))\n",
    "    x = x[['zg']]\n",
    "    x = x.assign_coords(lon=(((x.lon + 180) % 360) - 180))\n",
    "    with dask.config.set(**{'array.slicing.split_large_chunks': True}):\n",
    "        x = x.sortby(x.lon)\n",
    "    x = x.sel(lon=slice(-50,20))\n",
    "    x = x.resample(time=\"QS-DEC\").mean(dim=\"time\",skipna=True)\n",
    "    x = x.load()\n",
    "    limit = np.nanquantile(x.zg.values,0.9)\n",
    "    print(limit)\n",
    "    rcp85[model]={}\n",
    "    for seas in ['DJF','MAM','JJA','SON']:\n",
    "        mean_seas = x.where(x.time.dt.season==str(seas)).dropna(dim='time', how = 'all')\n",
    "        mean_seas = contourise(mean_seas).zg.fillna(0).mean(dim='time')\n",
    "        rcp85[model][seas] = mean_seas.fillna(0)\n",
    "    x.close()"
   ]
  },
  {
   "cell_type": "code",
   "execution_count": 6,
   "metadata": {},
   "outputs": [],
   "source": [
    "pickle.dump(rcp85, open( \"rcp85_dic.p\", \"wb\" ) )"
   ]
  },
  {
   "cell_type": "code",
   "execution_count": 7,
   "metadata": {},
   "outputs": [],
   "source": [
    "def get_files():\n",
    "    models = glob.glob(\"/terra/data/cmip5/global/historical/*\")\n",
    "    avail={}\n",
    "    for model in models:\n",
    "        zg = glob.glob(str(model)+\"/r1i1p1/day/2deg/zg*\")\n",
    "        try:\n",
    "            test = zg[0]\n",
    "            avail[model.split('/')[-1]] = zg\n",
    "        except:\n",
    "             pass\n",
    "    return avail"
   ]
  },
  {
   "cell_type": "code",
   "execution_count": 8,
   "metadata": {},
   "outputs": [],
   "source": [
    "files = get_files()"
   ]
  },
  {
   "cell_type": "code",
   "execution_count": 9,
   "metadata": {},
   "outputs": [
    {
     "name": "stdout",
     "output_type": "stream",
     "text": [
      "IPSL-CM5A-LR\n",
      "MPI-ESM-MR\n",
      "MRI-ESM1\n",
      "MIROC-ESM-CHEM\n",
      "EC-EARTH\n",
      "HadGEM2-CC\n",
      "bcc-csm1-1-m\n",
      "FGOALS-g2\n",
      "ACCESS1-0\n",
      "MIROC-ESM\n",
      "GFDL-CM3\n",
      "CanESM2\n",
      "IPSL-CM5B-LR\n",
      "MPI-ESM-LR\n",
      "CMCC-CM\n",
      "GFDL-ESM2G\n",
      "MIROC5\n",
      "MPI-ESM-P\n"
     ]
    },
    {
     "name": "stderr",
     "output_type": "stream",
     "text": [
      "/home/pmarsh/.local/lib/python3.8/site-packages/xarray/coding/times.py:119: SerializationWarning: Ambiguous reference date string: 850-1-1 00:00:00. The first value is assumed to be the year hence will be padded with zeros to remove the ambiguity (the padded reference date string is: 0850-1-1 00:00:00). To remove this message, remove the ambiguity by padding your reference date strings with zeros.\n",
      "  warnings.warn(warning_msg, SerializationWarning)\n"
     ]
    },
    {
     "name": "stdout",
     "output_type": "stream",
     "text": [
      "CMCC-CMS\n",
      "CNRM-CM5\n",
      "IPSL-CM5A-MR\n",
      "ACCESS1-3\n",
      "MRI-CGCM3\n",
      "bcc-csm1-1\n",
      "CMCC-CESM\n",
      "HadGEM2-AO\n",
      "BNU-ESM\n",
      "NorESM1-M\n",
      "HadCM3\n",
      "GFDL-ESM2M\n"
     ]
    }
   ],
   "source": [
    "historical={}\n",
    "for model in files.keys():\n",
    "    print(model)\n",
    "    x = xr.open_mfdataset(files[model])\n",
    "    x = x.sel(plev=85000)\n",
    "    x = x.sel(time=slice('1950','2005'))\n",
    "    x = x.load()\n",
    "    x = x.sel(lat=slice(-60,0))\n",
    "    x = x[['zg']]\n",
    "    x = x.assign_coords(lon=(((x.lon + 180) % 360) - 180))\n",
    "    with dask.config.set(**{'array.slicing.split_large_chunks': True}):\n",
    "        x = x.sortby(x.lon)\n",
    "    x = x.sel(lon=slice(-50,20))\n",
    "    x = x.resample(time=\"QS-DEC\").mean(dim=\"time\",skipna=True)\n",
    "    x = x.load()\n",
    "    limit = np.nanquantile(x.zg.values,0.9)\n",
    "    historical[model]={}\n",
    "    for seas in ['DJF','MAM','JJA','SON']:\n",
    "        mean_seas = x.where(x.time.dt.season==str(seas)).dropna(dim='time', how = 'all')\n",
    "        mean_seas = contourise(mean_seas).zg.fillna(0).mean(dim='time')\n",
    "        historical[model][seas] = mean_seas.fillna(0)\n",
    "    x.close()"
   ]
  },
  {
   "cell_type": "code",
   "execution_count": 10,
   "metadata": {},
   "outputs": [],
   "source": [
    "pickle.dump(historical, open( \"hist_dic.p\", \"wb\" ) )"
   ]
  }
 ],
 "metadata": {
  "kernelspec": {
   "display_name": "Dask [shared installation]",
   "language": "python",
   "name": "dask"
  },
  "language_info": {
   "codemirror_mode": {
    "name": "ipython",
    "version": 3
   },
   "file_extension": ".py",
   "mimetype": "text/x-python",
   "name": "python",
   "nbconvert_exporter": "python",
   "pygments_lexer": "ipython3",
   "version": "3.8.8"
  }
 },
 "nbformat": 4,
 "nbformat_minor": 4
}
