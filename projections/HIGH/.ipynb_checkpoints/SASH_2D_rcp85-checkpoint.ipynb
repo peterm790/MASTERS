{
 "cells": [
  {
   "cell_type": "code",
   "execution_count": 1,
   "metadata": {},
   "outputs": [],
   "source": [
    "import numpy as np\n",
    "import pandas as pd\n",
    "import xarray as xr\n",
    "import zarr\n",
    "import math\n",
    "import glob\n",
    "import pickle\n",
    "import statistics\n",
    "import scipy.stats as stats\n",
    "from sklearn.neighbors import KernelDensity\n",
    "import dask\n",
    "import seaborn as sns\n",
    "import matplotlib.pyplot as plt\n",
    "import cartopy.crs as ccrs"
   ]
  },
  {
   "cell_type": "code",
   "execution_count": 2,
   "metadata": {},
   "outputs": [],
   "source": [
    "def get_files():\n",
    "    models = glob.glob(\"/terra/data/cmip5/global/rcp85/*\")\n",
    "    avail={}\n",
    "    for model in models:\n",
    "        zg = glob.glob(str(model)+\"/r1i1p1/day/2deg/zg*\")\n",
    "        try:\n",
    "            test = zg[0]\n",
    "            avail[model.split('/')[-1]] = zg\n",
    "        except:\n",
    "             pass\n",
    "    return avail"
   ]
  },
  {
   "cell_type": "code",
   "execution_count": 4,
   "metadata": {},
   "outputs": [],
   "source": [
    "files = get_files()"
   ]
  },
  {
   "cell_type": "code",
   "execution_count": 5,
   "metadata": {},
   "outputs": [],
   "source": [
    "def contourise(x):\n",
    "    x = x.fillna(0)\n",
    "    x = x.where((x>=limit))\n",
    "    x = x/x\n",
    "    return x"
   ]
  },
  {
   "cell_type": "code",
   "execution_count": null,
   "metadata": {},
   "outputs": [
    {
     "name": "stdout",
     "output_type": "stream",
     "text": [
      "FGOALS-g2\n"
     ]
    }
   ],
   "source": [
    "results={}\n",
    "for model in files.keys():\n",
    "    print(model)\n",
    "    x = xr.open_mfdataset(files[model])\n",
    "    x = x.sel(plev=85000)\n",
    "    x = x.sel(time=slice('2045','2100'))\n",
    "    x = x.load()\n",
    "    x = x.sel(lat=slice(-60,0))\n",
    "    x = x[['zg']]\n",
    "    x = x.assign_coords(lon=(((x.lon + 180) % 360) - 180))\n",
    "    with dask.config.set(**{'array.slicing.split_large_chunks': True}):\n",
    "        x = x.sortby(x.lon)\n",
    "    x = x.sel(lon=slice(-50,20))\n",
    "    x = x.resample(time=\"QS-DEC\").mean(dim=\"time\",skipna=True)\n",
    "    x = x.load()\n",
    "    limit = np.nanquantile(x.zg.values,0.9)\n",
    "    results[model]={}\n",
    "    for seas in ['DJF','MAM','JJA','SON']:\n",
    "        mean_seas = x.where(x.time.dt.season==str(seas)).dropna(dim='time')\n",
    "        mean_seas = contourise(mean_seas).zg.fillna(0).mean(dim='time')\n",
    "        results[model][seas] = mean_seas.fillna(0)\n",
    "    x.close()"
   ]
  },
  {
   "cell_type": "code",
   "execution_count": null,
   "metadata": {},
   "outputs": [],
   "source": [
    "rcp85 = results"
   ]
  },
  {
   "cell_type": "code",
   "execution_count": null,
   "metadata": {},
   "outputs": [],
   "source": [
    "pickle.dump(results, open( \"rcp85_dic.p\", \"wb\" ) )"
   ]
  },
  {
   "cell_type": "code",
   "execution_count": null,
   "metadata": {},
   "outputs": [],
   "source": [
    "def get_files():\n",
    "    models = glob.glob(\"/terra/data/cmip5/global/historical/*\")\n",
    "    avail={}\n",
    "    for model in models:\n",
    "        zg = glob.glob(str(model)+\"/r1i1p1/day/2deg/zg*\")\n",
    "        try:\n",
    "            test = zg[0]\n",
    "            avail[model.split('/')[-1]] = zg\n",
    "        except:\n",
    "             pass\n",
    "    return avail"
   ]
  },
  {
   "cell_type": "code",
   "execution_count": null,
   "metadata": {},
   "outputs": [],
   "source": [
    "files = get_files()"
   ]
  },
  {
   "cell_type": "code",
   "execution_count": null,
   "metadata": {},
   "outputs": [],
   "source": [
    "results={}\n",
    "for model in files.keys():\n",
    "    print(model)\n",
    "    x = xr.open_mfdataset(files[model])\n",
    "    x = x.sel(plev=85000)\n",
    "    x = x.sel(time=slice('1950','2005'))\n",
    "    x = x.load()\n",
    "    x = x.sel(lat=slice(-60,0))\n",
    "    x = x[['zg']]\n",
    "    x = x.assign_coords(lon=(((x.lon + 180) % 360) - 180))\n",
    "    with dask.config.set(**{'array.slicing.split_large_chunks': True}):\n",
    "        x = x.sortby(x.lon)\n",
    "    x = x.sel(lon=slice(-50,20))\n",
    "    x = x.resample(time=\"QS-DEC\").mean(dim=\"time\",skipna=True)\n",
    "    x = x.load()\n",
    "    limit = np.nanquantile(x.zg.values,0.9)\n",
    "    results[model]={}\n",
    "    for seas in ['DJF','MAM','JJA','SON']:\n",
    "        mean_seas = x.where(x.time.dt.season==str(seas)).dropna(dim='time')\n",
    "        mean_seas = contourise(mean_seas).zg.fillna(0).mean(dim='time')\n",
    "        results[model][seas] = mean_seas.fillna(0)\n",
    "    x.close()"
   ]
  },
  {
   "cell_type": "code",
   "execution_count": null,
   "metadata": {},
   "outputs": [],
   "source": [
    "historical = results"
   ]
  },
  {
   "cell_type": "code",
   "execution_count": null,
   "metadata": {},
   "outputs": [],
   "source": [
    "pickle.dump(results, open( \"rcp85_dic.p\", \"wb\" ) )"
   ]
  },
  {
   "cell_type": "code",
   "execution_count": null,
   "metadata": {},
   "outputs": [],
   "source": []
  }
 ],
 "metadata": {
  "kernelspec": {
   "display_name": "Dask [shared installation]",
   "language": "python",
   "name": "dask"
  },
  "language_info": {
   "codemirror_mode": {
    "name": "ipython",
    "version": 3
   },
   "file_extension": ".py",
   "mimetype": "text/x-python",
   "name": "python",
   "nbconvert_exporter": "python",
   "pygments_lexer": "ipython3",
   "version": "3.8.8"
  }
 },
 "nbformat": 4,
 "nbformat_minor": 4
}
