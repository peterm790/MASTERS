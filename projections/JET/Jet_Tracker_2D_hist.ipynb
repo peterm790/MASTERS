{
 "cells": [
  {
   "cell_type": "code",
   "execution_count": 1,
   "metadata": {},
   "outputs": [],
   "source": [
    "import matplotlib.pyplot as plt\n",
    "import numpy as np\n",
    "import pandas as pd\n",
    "import xarray as xr\n",
    "import cartopy.crs as ccrs\n",
    "import glob\n",
    "import os\n",
    "import scipy.stats\n",
    "from matplotlib import cm\n",
    "import dask\n",
    "import pickle"
   ]
  },
  {
   "cell_type": "code",
   "execution_count": 2,
   "metadata": {},
   "outputs": [],
   "source": [
    "def get_pressure_weighted(x):\n",
    "    dPref = (x.plev.values[0]-x.plev.values[-1])  #(p-ps)\n",
    "    integral = []\n",
    "    for i in range(len(x.plev)): #Integral of variable from P to Ps calculated as area between each pressure variable trapezoid then summed\n",
    "        if i+1 < len(x.plev):\n",
    "            area=((x.loc[dict(plev=x.plev.values[i])] + x.loc[dict(plev=x.plev.values[i+1])])/2)*(x.plev.values[i]-x.plev.values[i+1])\n",
    "            integral.append(area)\n",
    "    pw = (sum(integral))/dPref\n",
    "    return(pw)"
   ]
  },
  {
   "cell_type": "code",
   "execution_count": 3,
   "metadata": {},
   "outputs": [],
   "source": [
    "def low_pass_weights(window, cutoff):\n",
    "    order = ((window - 1) // 2 ) + 1\n",
    "    nwts = 2 * order + 1\n",
    "    w = np.zeros([nwts])\n",
    "    n = nwts // 2\n",
    "    w[n] = 2 * cutoff\n",
    "    k = np.arange(1., n)\n",
    "    sigma = np.sin(np.pi * k / n) * n / (np.pi * k)\n",
    "    firstfactor = np.sin(2. * np.pi * cutoff * k) / (np.pi * k)\n",
    "    w[n-1:0:-1] = firstfactor * sigma\n",
    "    w[n+1:-1] = firstfactor * sigma\n",
    "    return w[1:-1]"
   ]
  },
  {
   "cell_type": "code",
   "execution_count": 4,
   "metadata": {},
   "outputs": [],
   "source": [
    "wgts = low_pass_weights(41, 1/10)\n",
    "weight = xr.DataArray(list(wgts), dims=['window'])"
   ]
  },
  {
   "cell_type": "code",
   "execution_count": 5,
   "metadata": {},
   "outputs": [],
   "source": [
    "def jettracker(x):\n",
    "    x = x.fillna(0)\n",
    "    x = get_pressure_weighted(x)\n",
    "    x = x.rolling(time=41, center=True).construct('window').dot(weight)\n",
    "    x = x.dropna(dim='time',how='all')\n",
    "    limit = np.quantile(x.values,0.9)\n",
    "    x = x.where((x>=limit))\n",
    "    x = x/x\n",
    "    x = x.fillna(0)\n",
    "    x = x.resample(time='QS-DEC').mean(dim='time',skipna=True)\n",
    "    return x "
   ]
  },
  {
   "cell_type": "code",
   "execution_count": 6,
   "metadata": {},
   "outputs": [],
   "source": [
    "def get_files():\n",
    "    models = glob.glob(\"/terra/data/cmip5/global/historical/*\")\n",
    "    avail={}\n",
    "    for model in models:\n",
    "        ua = glob.glob(str(model)+\"/r1i1p1/day/2deg/ua_*\")\n",
    "        va = glob.glob(str(model)+\"/r1i1p1/day/2deg/va_*\")\n",
    "        try:\n",
    "            test = ua[0]\n",
    "            avail[model.split('/')[-1]] = [ua,va]\n",
    "        except:\n",
    "             pass\n",
    "    return avail"
   ]
  },
  {
   "cell_type": "code",
   "execution_count": 7,
   "metadata": {},
   "outputs": [],
   "source": [
    "files = get_files()"
   ]
  },
  {
   "cell_type": "code",
   "execution_count": 8,
   "metadata": {},
   "outputs": [],
   "source": [
    "files_list = sorted(list(files.keys()))"
   ]
  },
  {
   "cell_type": "code",
   "execution_count": 9,
   "metadata": {},
   "outputs": [
    {
     "name": "stdout",
     "output_type": "stream",
     "text": [
      "ACCESS1-0\n",
      "ACCESS1-3\n",
      "BNU-ESM\n",
      "CMCC-CESM\n",
      "CMCC-CM\n",
      "CMCC-CMS\n",
      "CNRM-CM5\n",
      "CSIRO-Mk3-6-0\n",
      "CanESM2\n",
      "EC-EARTH\n",
      "EC-EARTH  - failed\n",
      "FGOALS-g2\n",
      "GFDL-CM3\n",
      "GFDL-ESM2G\n",
      "GFDL-ESM2M\n",
      "HadCM3\n",
      "HadGEM2-AO\n",
      "HadGEM2-CC\n",
      "IPSL-CM5A-LR\n",
      "IPSL-CM5A-MR\n",
      "IPSL-CM5B-LR\n",
      "MIROC-ESM\n",
      "MIROC-ESM-CHEM\n",
      "MIROC4h\n",
      "MIROC5\n",
      "MPI-ESM-LR\n",
      "MPI-ESM-MR\n",
      "MPI-ESM-P\n"
     ]
    },
    {
     "name": "stderr",
     "output_type": "stream",
     "text": [
      "/share/apps/anaconda3/envs/dask/lib/python3.8/site-packages/xarray/coding/times.py:113: SerializationWarning: Ambiguous reference date string: 850-1-1 00:00:00. The first value is assumed to be the year hence will be padded with zeros to remove the ambiguity (the padded reference date string is: 0850-1-1 00:00:00). To remove this message, remove the ambiguity by padding your reference date strings with zeros.\n",
      "  warnings.warn(warning_msg, SerializationWarning)\n"
     ]
    },
    {
     "name": "stdout",
     "output_type": "stream",
     "text": [
      "MRI-CGCM3\n",
      "MRI-ESM1\n",
      "NorESM1-M\n",
      "bcc-csm1-1\n",
      "bcc-csm1-1-m\n",
      "inmcm4\n"
     ]
    }
   ],
   "source": [
    "historical = {}\n",
    "for model in files_list:\n",
    "    try:\n",
    "        print(model)\n",
    "        U = xr.open_mfdataset(files[model][0])\n",
    "        V = xr.open_mfdataset(files[model][1])\n",
    "        U = U.sel(plev= [85000,70000])\n",
    "        U = U.sel(lat = slice(-75,0))\n",
    "        U = U.sel(lon = slice(-50,30))\n",
    "        U = U.sel(time=slice('1950', '2005'))\n",
    "        V = V.sel(plev= [85000,70000])\n",
    "        V = V.sel(lat = slice(-75,0))\n",
    "        V = V.sel(lon = slice(-50,30))\n",
    "        V = V.sel(time=slice('1950', '2005'))\n",
    "        x = np.sqrt(np.square(U.ua.load()) + np.square(V.va.load()))\n",
    "        historical[model] = jettracker(x)\n",
    "    except:\n",
    "        print(model, ' - failed')"
   ]
  },
  {
   "cell_type": "code",
   "execution_count": 10,
   "metadata": {},
   "outputs": [],
   "source": [
    "pickle.dump(historical, open( \"historical_dic.p\", \"wb\" ) )"
   ]
  },
  {
   "cell_type": "code",
   "execution_count": null,
   "metadata": {},
   "outputs": [],
   "source": []
  }
 ],
 "metadata": {
  "kernelspec": {
   "display_name": "Dask [shared installation]",
   "language": "python",
   "name": "dask"
  },
  "language_info": {
   "codemirror_mode": {
    "name": "ipython",
    "version": 3
   },
   "file_extension": ".py",
   "mimetype": "text/x-python",
   "name": "python",
   "nbconvert_exporter": "python",
   "pygments_lexer": "ipython3",
   "version": "3.8.8"
  }
 },
 "nbformat": 4,
 "nbformat_minor": 4
}
