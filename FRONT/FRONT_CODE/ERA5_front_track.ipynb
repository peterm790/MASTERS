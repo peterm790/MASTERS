{
 "cells": [
  {
   "cell_type": "code",
   "execution_count": 1,
   "metadata": {},
   "outputs": [],
   "source": [
    "from dask.distributed import Client, LocalCluster\n",
    "if __name__ == \"__main__\":\n",
    "    cluster=LocalCluster(host=\"tcp://127.0.0.1:37790\",dashboard_address=\"127.0.0.1:8787\",n_workers=4)\n",
    "    client = Client(cluster)"
   ]
  },
  {
   "cell_type": "code",
   "execution_count": 1,
   "metadata": {},
   "outputs": [],
   "source": [
    "import numpy as np\n",
    "import pandas as pd\n",
    "import xarray as xr\n",
    "import math\n",
    "import dask\n",
    "\n",
    "import skimage.feature\n",
    "import skimage.segmentation\n",
    "import scipy.ndimage as ndi\n",
    "\n",
    "import glob\n",
    "\n",
    "import multiprocessing\n",
    "from multiprocessing import Pool, Manager"
   ]
  },
  {
   "cell_type": "code",
   "execution_count": 2,
   "metadata": {},
   "outputs": [],
   "source": [
    "def pre_process(U,V):\n",
    "    try:\n",
    "        U.longitude\n",
    "        U.latitude\n",
    "    except:\n",
    "        V = V.rename({'lon':'longitude'})\n",
    "        V = V.rename({'lat':'latitude'})\n",
    "        U = U.rename({'lon':'longitude'})\n",
    "        U = U.rename({'lat':'latitude'})\n",
    "        U.longitude\n",
    "        U.latitude\n",
    "    try:\n",
    "        test = U.uas\n",
    "    except:\n",
    "        try:\n",
    "            test = U.ua\n",
    "            U = U.rename({'ua':'uas'})\n",
    "            V = V.rename({'va':'vas'})\n",
    "        except:\n",
    "            U = U.rename({'uwnd':'uas'})\n",
    "            V = V.rename({'vwnd':'vas'})\n",
    "    try:\n",
    "        test = U.level\n",
    "    except:\n",
    "        try:\n",
    "            test = U.plev\n",
    "            U = U.rename({'plev':'level'})\n",
    "            V = V.rename({'plev':'level'})\n",
    "        except:\n",
    "            U = U.rename({'height':'level'})\n",
    "            V = V.rename({'height':'level'})\n",
    "    return U,V"
   ]
  },
  {
   "cell_type": "code",
   "execution_count": 157,
   "metadata": {},
   "outputs": [],
   "source": [
    "def front_watershed(U,V,lon,lat):\n",
    "    print('front_watershed')\n",
    "    front = U.copy()\n",
    "    front['uas'] = front.uas*0\n",
    "    front = front.rename({'uas':'x'})\n",
    "    front['U2'] = U.uas #now\n",
    "    front['V2'] = V.vas #now\n",
    "    front['U1'] = xr.DataArray(np.concatenate([U.uas.values[:2]*np.nan,U.uas.values[:-2]]),dims=(\"time\",\"latitude\", \"longitude\"), coords={\"time\":front.time.values,\"longitude\":lon ,\"latitude\": lat})\n",
    "    front['V1'] = xr.DataArray(np.concatenate([V.vas.values[:2]*np.nan,V.vas.values[:-2]]),dims=(\"time\",\"latitude\", \"longitude\"), coords={\"time\":front.time.values,\"longitude\":lon ,\"latitude\": lat})\n",
    "    front = front.sel(time=front.time[2:])\n",
    "    x = xr.where(front['U1'].values>0,front['U1'].values/front['U1'].values,np.nan)\n",
    "    x = xr.where(front['V1'].values<0,x,np.nan)\n",
    "    x = xr.where(front['U2'].values>0,x,np.nan)\n",
    "    x = xr.where(front['V2'].values>0,x,np.nan)\n",
    "    x = xr.where(front['V2'].values - front['V1'].values >  2.0 ,x,np.nan)\n",
    "    front['x'] = xr.DataArray(x,dims=(\"time\",\"latitude\", \"longitude\"), coords={\"time\":front.time.values,\"longitude\":lon ,\"latitude\": lat}) #were above frontal criteria are met\n",
    "    front['front'] = xr.DataArray(x*np.nan,dims=(\"time\",\"latitude\", \"longitude\"), coords={\"time\":front.time.values,\"longitude\":lon ,\"latitude\": lat}) #empty for output\n",
    "    x = np.nan_to_num(x).astype('int64')\n",
    "    for d in range(2,len(front.time)): #watershed segmentation to label each front\n",
    "        front_idx = skimage.feature.peak_local_max(x[d], footprint=np.ones((3, 3)),labels=x[d])\n",
    "        front_mask = np.full_like(x[d], fill_value = False)\n",
    "        front_mask[tuple(front_idx.T)] = True\n",
    "        markers = ndi.label(front_mask)[0]\n",
    "        obj = skimage.segmentation.watershed(-x[d], markers, mask=front_mask)\n",
    "        z = xr.DataArray(obj, dims=(\"lat\", \"lon\"), coords={\"lon\": lon , \"lat\":lat})\n",
    "        front['front'][d] = z\n",
    "    front['front'] = front.front/front.front\n",
    "    return front"
   ]
  },
  {
   "cell_type": "code",
   "execution_count": 5,
   "metadata": {},
   "outputs": [],
   "source": [
    "def getfront(frontin,dx='dx',dy='dy',lat='lat',lon='lon'):\n",
    "    print('getfront')\n",
    "    front = frontin\n",
    "    front = front.sel(time=front.time[1:])\n",
    "    for d in range(len(front.time)):\n",
    "        winners=[]\n",
    "        if math.isnan(np.nanmax(front.front[d]))==False:\n",
    "            for z in range(1,int(np.nanmax(front.front[d]))+1):\n",
    "                ids =  np.argwhere(front.front[d].values==z)\n",
    "                latsid = [item[0] for item in ids]\n",
    "                lonsid = [item[1] for item in ids]\n",
    "                lats = [lat[i] for i in latsid]\n",
    "                lons = [lon[i] for i in lonsid]\n",
    "                mlat = np.mean(lats)\n",
    "                imlat = np.argmin((lat-mlat)**2) #mean lat\n",
    "                #area = dy*np.sum(dx[latsi[z]]) #area not sure why though not used again?\n",
    "                xlen = dx[imlat]*4*np.std(lons)\n",
    "                ylen = dy*4*np.std(lats)\n",
    "                length = np.sqrt((ylen**2)+(xlen**2))  #length\n",
    "                if length>500.0:   #must be greater than 500km\n",
    "                    winners.append(z)\n",
    "            front['front'][d] = front.front[d].where(np.isin(front.front[d],winners))\n",
    "    return front\n"
   ]
  },
  {
   "cell_type": "code",
   "execution_count": 3,
   "metadata": {},
   "outputs": [],
   "source": [
    "ua = glob.glob(\"/terra/data/reanalysis/global/reanalysis/ECMWF/ERA5/6hr/native/ua*\")\n",
    "va = glob.glob(\"/terra/data/reanalysis/global/reanalysis/ECMWF/ERA5/6hr/native/va*\")"
   ]
  },
  {
   "cell_type": "code",
   "execution_count": 26,
   "metadata": {},
   "outputs": [],
   "source": [
    "U = xr.open_mfdataset(ua)\n",
    "V = xr.open_mfdataset(va)"
   ]
  },
  {
   "cell_type": "code",
   "execution_count": 27,
   "metadata": {},
   "outputs": [],
   "source": [
    "U_full,V_full = pre_process(U,V)"
   ]
  },
  {
   "cell_type": "code",
   "execution_count": 33,
   "metadata": {},
   "outputs": [
    {
     "name": "stdout",
     "output_type": "stream",
     "text": [
      "1979\n",
      "front_watershed\n",
      "getfront\n"
     ]
    },
    {
     "name": "stderr",
     "output_type": "stream",
     "text": [
      "<ipython-input-5-f9f28d8ed393>:7: RuntimeWarning: All-NaN axis encountered\n",
      "  if math.isnan(np.nanmax(front.front[d]))==False:\n"
     ]
    },
    {
     "name": "stdout",
     "output_type": "stream",
     "text": [
      "1980\n",
      "front_watershed\n",
      "getfront\n"
     ]
    },
    {
     "name": "stderr",
     "output_type": "stream",
     "text": [
      "<ipython-input-5-f9f28d8ed393>:7: RuntimeWarning: All-NaN axis encountered\n",
      "  if math.isnan(np.nanmax(front.front[d]))==False:\n"
     ]
    },
    {
     "name": "stdout",
     "output_type": "stream",
     "text": [
      "1981\n",
      "front_watershed\n",
      "getfront\n"
     ]
    },
    {
     "name": "stderr",
     "output_type": "stream",
     "text": [
      "<ipython-input-5-f9f28d8ed393>:7: RuntimeWarning: All-NaN axis encountered\n",
      "  if math.isnan(np.nanmax(front.front[d]))==False:\n"
     ]
    },
    {
     "name": "stdout",
     "output_type": "stream",
     "text": [
      "1982\n",
      "front_watershed\n",
      "getfront\n"
     ]
    },
    {
     "name": "stderr",
     "output_type": "stream",
     "text": [
      "<ipython-input-5-f9f28d8ed393>:7: RuntimeWarning: All-NaN axis encountered\n",
      "  if math.isnan(np.nanmax(front.front[d]))==False:\n"
     ]
    },
    {
     "name": "stdout",
     "output_type": "stream",
     "text": [
      "1983\n",
      "front_watershed\n",
      "getfront\n"
     ]
    },
    {
     "name": "stderr",
     "output_type": "stream",
     "text": [
      "<ipython-input-5-f9f28d8ed393>:7: RuntimeWarning: All-NaN axis encountered\n",
      "  if math.isnan(np.nanmax(front.front[d]))==False:\n"
     ]
    },
    {
     "name": "stdout",
     "output_type": "stream",
     "text": [
      "1984\n",
      "front_watershed\n",
      "getfront\n"
     ]
    },
    {
     "name": "stderr",
     "output_type": "stream",
     "text": [
      "<ipython-input-5-f9f28d8ed393>:7: RuntimeWarning: All-NaN axis encountered\n",
      "  if math.isnan(np.nanmax(front.front[d]))==False:\n"
     ]
    },
    {
     "name": "stdout",
     "output_type": "stream",
     "text": [
      "1985\n",
      "front_watershed\n",
      "getfront\n"
     ]
    },
    {
     "name": "stderr",
     "output_type": "stream",
     "text": [
      "<ipython-input-5-f9f28d8ed393>:7: RuntimeWarning: All-NaN axis encountered\n",
      "  if math.isnan(np.nanmax(front.front[d]))==False:\n"
     ]
    },
    {
     "name": "stdout",
     "output_type": "stream",
     "text": [
      "1986\n",
      "front_watershed\n",
      "getfront\n"
     ]
    },
    {
     "name": "stderr",
     "output_type": "stream",
     "text": [
      "<ipython-input-5-f9f28d8ed393>:7: RuntimeWarning: All-NaN axis encountered\n",
      "  if math.isnan(np.nanmax(front.front[d]))==False:\n"
     ]
    },
    {
     "name": "stdout",
     "output_type": "stream",
     "text": [
      "1987\n",
      "front_watershed\n",
      "getfront\n"
     ]
    },
    {
     "name": "stderr",
     "output_type": "stream",
     "text": [
      "<ipython-input-5-f9f28d8ed393>:7: RuntimeWarning: All-NaN axis encountered\n",
      "  if math.isnan(np.nanmax(front.front[d]))==False:\n"
     ]
    },
    {
     "name": "stdout",
     "output_type": "stream",
     "text": [
      "1988\n",
      "front_watershed\n",
      "getfront\n"
     ]
    },
    {
     "name": "stderr",
     "output_type": "stream",
     "text": [
      "<ipython-input-5-f9f28d8ed393>:7: RuntimeWarning: All-NaN axis encountered\n",
      "  if math.isnan(np.nanmax(front.front[d]))==False:\n"
     ]
    },
    {
     "name": "stdout",
     "output_type": "stream",
     "text": [
      "1989\n",
      "front_watershed\n",
      "getfront\n"
     ]
    },
    {
     "name": "stderr",
     "output_type": "stream",
     "text": [
      "<ipython-input-5-f9f28d8ed393>:7: RuntimeWarning: All-NaN axis encountered\n",
      "  if math.isnan(np.nanmax(front.front[d]))==False:\n"
     ]
    },
    {
     "name": "stdout",
     "output_type": "stream",
     "text": [
      "1990\n",
      "front_watershed\n",
      "getfront\n"
     ]
    },
    {
     "name": "stderr",
     "output_type": "stream",
     "text": [
      "<ipython-input-5-f9f28d8ed393>:7: RuntimeWarning: All-NaN axis encountered\n",
      "  if math.isnan(np.nanmax(front.front[d]))==False:\n"
     ]
    },
    {
     "name": "stdout",
     "output_type": "stream",
     "text": [
      "1991\n",
      "front_watershed\n",
      "getfront\n"
     ]
    },
    {
     "name": "stderr",
     "output_type": "stream",
     "text": [
      "<ipython-input-5-f9f28d8ed393>:7: RuntimeWarning: All-NaN axis encountered\n",
      "  if math.isnan(np.nanmax(front.front[d]))==False:\n"
     ]
    },
    {
     "name": "stdout",
     "output_type": "stream",
     "text": [
      "1992\n",
      "front_watershed\n",
      "getfront\n"
     ]
    },
    {
     "name": "stderr",
     "output_type": "stream",
     "text": [
      "<ipython-input-5-f9f28d8ed393>:7: RuntimeWarning: All-NaN axis encountered\n",
      "  if math.isnan(np.nanmax(front.front[d]))==False:\n"
     ]
    },
    {
     "name": "stdout",
     "output_type": "stream",
     "text": [
      "1993\n",
      "front_watershed\n",
      "getfront\n"
     ]
    },
    {
     "name": "stderr",
     "output_type": "stream",
     "text": [
      "<ipython-input-5-f9f28d8ed393>:7: RuntimeWarning: All-NaN axis encountered\n",
      "  if math.isnan(np.nanmax(front.front[d]))==False:\n"
     ]
    },
    {
     "name": "stdout",
     "output_type": "stream",
     "text": [
      "1994\n",
      "front_watershed\n",
      "getfront\n"
     ]
    },
    {
     "name": "stderr",
     "output_type": "stream",
     "text": [
      "<ipython-input-5-f9f28d8ed393>:7: RuntimeWarning: All-NaN axis encountered\n",
      "  if math.isnan(np.nanmax(front.front[d]))==False:\n"
     ]
    },
    {
     "name": "stdout",
     "output_type": "stream",
     "text": [
      "1995\n",
      "front_watershed\n",
      "getfront\n"
     ]
    },
    {
     "name": "stderr",
     "output_type": "stream",
     "text": [
      "<ipython-input-5-f9f28d8ed393>:7: RuntimeWarning: All-NaN axis encountered\n",
      "  if math.isnan(np.nanmax(front.front[d]))==False:\n"
     ]
    },
    {
     "name": "stdout",
     "output_type": "stream",
     "text": [
      "1996\n",
      "front_watershed\n",
      "getfront\n"
     ]
    },
    {
     "name": "stderr",
     "output_type": "stream",
     "text": [
      "<ipython-input-5-f9f28d8ed393>:7: RuntimeWarning: All-NaN axis encountered\n",
      "  if math.isnan(np.nanmax(front.front[d]))==False:\n"
     ]
    },
    {
     "name": "stdout",
     "output_type": "stream",
     "text": [
      "1997\n",
      "front_watershed\n",
      "getfront\n"
     ]
    },
    {
     "name": "stderr",
     "output_type": "stream",
     "text": [
      "<ipython-input-5-f9f28d8ed393>:7: RuntimeWarning: All-NaN axis encountered\n",
      "  if math.isnan(np.nanmax(front.front[d]))==False:\n"
     ]
    },
    {
     "name": "stdout",
     "output_type": "stream",
     "text": [
      "1998\n",
      "front_watershed\n",
      "getfront\n"
     ]
    },
    {
     "name": "stderr",
     "output_type": "stream",
     "text": [
      "<ipython-input-5-f9f28d8ed393>:7: RuntimeWarning: All-NaN axis encountered\n",
      "  if math.isnan(np.nanmax(front.front[d]))==False:\n"
     ]
    },
    {
     "name": "stdout",
     "output_type": "stream",
     "text": [
      "1999\n",
      "front_watershed\n",
      "getfront\n"
     ]
    },
    {
     "name": "stderr",
     "output_type": "stream",
     "text": [
      "<ipython-input-5-f9f28d8ed393>:7: RuntimeWarning: All-NaN axis encountered\n",
      "  if math.isnan(np.nanmax(front.front[d]))==False:\n"
     ]
    },
    {
     "name": "stdout",
     "output_type": "stream",
     "text": [
      "2000\n",
      "front_watershed\n",
      "getfront\n"
     ]
    },
    {
     "name": "stderr",
     "output_type": "stream",
     "text": [
      "<ipython-input-5-f9f28d8ed393>:7: RuntimeWarning: All-NaN axis encountered\n",
      "  if math.isnan(np.nanmax(front.front[d]))==False:\n"
     ]
    },
    {
     "name": "stdout",
     "output_type": "stream",
     "text": [
      "2001\n",
      "front_watershed\n",
      "getfront\n"
     ]
    },
    {
     "name": "stderr",
     "output_type": "stream",
     "text": [
      "<ipython-input-5-f9f28d8ed393>:7: RuntimeWarning: All-NaN axis encountered\n",
      "  if math.isnan(np.nanmax(front.front[d]))==False:\n"
     ]
    },
    {
     "name": "stdout",
     "output_type": "stream",
     "text": [
      "2002\n",
      "front_watershed\n",
      "getfront\n"
     ]
    },
    {
     "name": "stderr",
     "output_type": "stream",
     "text": [
      "<ipython-input-5-f9f28d8ed393>:7: RuntimeWarning: All-NaN axis encountered\n",
      "  if math.isnan(np.nanmax(front.front[d]))==False:\n"
     ]
    },
    {
     "name": "stdout",
     "output_type": "stream",
     "text": [
      "2003\n",
      "front_watershed\n",
      "getfront\n"
     ]
    },
    {
     "name": "stderr",
     "output_type": "stream",
     "text": [
      "<ipython-input-5-f9f28d8ed393>:7: RuntimeWarning: All-NaN axis encountered\n",
      "  if math.isnan(np.nanmax(front.front[d]))==False:\n"
     ]
    },
    {
     "name": "stdout",
     "output_type": "stream",
     "text": [
      "2004\n",
      "front_watershed\n",
      "getfront\n"
     ]
    },
    {
     "name": "stderr",
     "output_type": "stream",
     "text": [
      "<ipython-input-5-f9f28d8ed393>:7: RuntimeWarning: All-NaN axis encountered\n",
      "  if math.isnan(np.nanmax(front.front[d]))==False:\n"
     ]
    },
    {
     "name": "stdout",
     "output_type": "stream",
     "text": [
      "2005\n",
      "front_watershed\n",
      "getfront\n"
     ]
    },
    {
     "name": "stderr",
     "output_type": "stream",
     "text": [
      "<ipython-input-5-f9f28d8ed393>:7: RuntimeWarning: All-NaN axis encountered\n",
      "  if math.isnan(np.nanmax(front.front[d]))==False:\n"
     ]
    },
    {
     "name": "stdout",
     "output_type": "stream",
     "text": [
      "2006\n",
      "front_watershed\n",
      "getfront\n"
     ]
    },
    {
     "name": "stderr",
     "output_type": "stream",
     "text": [
      "<ipython-input-5-f9f28d8ed393>:7: RuntimeWarning: All-NaN axis encountered\n",
      "  if math.isnan(np.nanmax(front.front[d]))==False:\n"
     ]
    },
    {
     "name": "stdout",
     "output_type": "stream",
     "text": [
      "2007\n",
      "front_watershed\n",
      "getfront\n"
     ]
    },
    {
     "name": "stderr",
     "output_type": "stream",
     "text": [
      "<ipython-input-5-f9f28d8ed393>:7: RuntimeWarning: All-NaN axis encountered\n",
      "  if math.isnan(np.nanmax(front.front[d]))==False:\n"
     ]
    },
    {
     "name": "stdout",
     "output_type": "stream",
     "text": [
      "2008\n",
      "front_watershed\n",
      "getfront\n"
     ]
    },
    {
     "name": "stderr",
     "output_type": "stream",
     "text": [
      "<ipython-input-5-f9f28d8ed393>:7: RuntimeWarning: All-NaN axis encountered\n",
      "  if math.isnan(np.nanmax(front.front[d]))==False:\n"
     ]
    },
    {
     "name": "stdout",
     "output_type": "stream",
     "text": [
      "2009\n",
      "front_watershed\n",
      "getfront\n"
     ]
    },
    {
     "name": "stderr",
     "output_type": "stream",
     "text": [
      "<ipython-input-5-f9f28d8ed393>:7: RuntimeWarning: All-NaN axis encountered\n",
      "  if math.isnan(np.nanmax(front.front[d]))==False:\n"
     ]
    },
    {
     "name": "stdout",
     "output_type": "stream",
     "text": [
      "2010\n",
      "front_watershed\n",
      "getfront\n"
     ]
    },
    {
     "name": "stderr",
     "output_type": "stream",
     "text": [
      "<ipython-input-5-f9f28d8ed393>:7: RuntimeWarning: All-NaN axis encountered\n",
      "  if math.isnan(np.nanmax(front.front[d]))==False:\n"
     ]
    },
    {
     "name": "stdout",
     "output_type": "stream",
     "text": [
      "2011\n",
      "front_watershed\n",
      "getfront\n"
     ]
    },
    {
     "name": "stderr",
     "output_type": "stream",
     "text": [
      "<ipython-input-5-f9f28d8ed393>:7: RuntimeWarning: All-NaN axis encountered\n",
      "  if math.isnan(np.nanmax(front.front[d]))==False:\n"
     ]
    },
    {
     "name": "stdout",
     "output_type": "stream",
     "text": [
      "2012\n",
      "front_watershed\n",
      "getfront\n"
     ]
    },
    {
     "name": "stderr",
     "output_type": "stream",
     "text": [
      "<ipython-input-5-f9f28d8ed393>:7: RuntimeWarning: All-NaN axis encountered\n",
      "  if math.isnan(np.nanmax(front.front[d]))==False:\n"
     ]
    },
    {
     "name": "stdout",
     "output_type": "stream",
     "text": [
      "2013\n",
      "front_watershed\n",
      "getfront\n"
     ]
    },
    {
     "name": "stderr",
     "output_type": "stream",
     "text": [
      "<ipython-input-5-f9f28d8ed393>:7: RuntimeWarning: All-NaN axis encountered\n",
      "  if math.isnan(np.nanmax(front.front[d]))==False:\n"
     ]
    },
    {
     "name": "stdout",
     "output_type": "stream",
     "text": [
      "2014\n",
      "front_watershed\n",
      "getfront\n"
     ]
    },
    {
     "name": "stderr",
     "output_type": "stream",
     "text": [
      "<ipython-input-5-f9f28d8ed393>:7: RuntimeWarning: All-NaN axis encountered\n",
      "  if math.isnan(np.nanmax(front.front[d]))==False:\n"
     ]
    },
    {
     "name": "stdout",
     "output_type": "stream",
     "text": [
      "2015\n",
      "front_watershed\n",
      "getfront\n"
     ]
    },
    {
     "name": "stderr",
     "output_type": "stream",
     "text": [
      "<ipython-input-5-f9f28d8ed393>:7: RuntimeWarning: All-NaN axis encountered\n",
      "  if math.isnan(np.nanmax(front.front[d]))==False:\n"
     ]
    },
    {
     "name": "stdout",
     "output_type": "stream",
     "text": [
      "2016\n",
      "front_watershed\n",
      "getfront\n"
     ]
    },
    {
     "name": "stderr",
     "output_type": "stream",
     "text": [
      "<ipython-input-5-f9f28d8ed393>:7: RuntimeWarning: All-NaN axis encountered\n",
      "  if math.isnan(np.nanmax(front.front[d]))==False:\n"
     ]
    },
    {
     "name": "stdout",
     "output_type": "stream",
     "text": [
      "2017\n",
      "front_watershed\n",
      "getfront\n"
     ]
    },
    {
     "name": "stderr",
     "output_type": "stream",
     "text": [
      "<ipython-input-5-f9f28d8ed393>:7: RuntimeWarning: All-NaN axis encountered\n",
      "  if math.isnan(np.nanmax(front.front[d]))==False:\n"
     ]
    },
    {
     "name": "stdout",
     "output_type": "stream",
     "text": [
      "2018\n",
      "front_watershed\n",
      "getfront\n"
     ]
    },
    {
     "name": "stderr",
     "output_type": "stream",
     "text": [
      "<ipython-input-5-f9f28d8ed393>:7: RuntimeWarning: All-NaN axis encountered\n",
      "  if math.isnan(np.nanmax(front.front[d]))==False:\n"
     ]
    },
    {
     "name": "stdout",
     "output_type": "stream",
     "text": [
      "2019\n",
      "front_watershed\n",
      "getfront\n"
     ]
    },
    {
     "name": "stderr",
     "output_type": "stream",
     "text": [
      "<ipython-input-5-f9f28d8ed393>:7: RuntimeWarning: All-NaN axis encountered\n",
      "  if math.isnan(np.nanmax(front.front[d]))==False:\n"
     ]
    },
    {
     "name": "stdout",
     "output_type": "stream",
     "text": [
      "2020\n",
      "front_watershed\n",
      "getfront\n"
     ]
    },
    {
     "name": "stderr",
     "output_type": "stream",
     "text": [
      "<ipython-input-5-f9f28d8ed393>:7: RuntimeWarning: All-NaN axis encountered\n",
      "  if math.isnan(np.nanmax(front.front[d]))==False:\n"
     ]
    }
   ],
   "source": [
    "for year in range(1979,2021):\n",
    "    print(year)\n",
    "    U = U_full.sel(time=str(year)) \n",
    "    V = V_full.sel(time=str(year))\n",
    "    U = U.sel(level=950) \n",
    "    V = V.sel(level=950) \n",
    "    U = U.sel(latitude = slice(-15,-75))\n",
    "    U = xr.concat([U.sel(longitude = slice(0,30)),U.sel(longitude = slice(320,360))],dim='longitude')\n",
    "    V = V.sel(latitude = slice(-15,-75))\n",
    "    V = xr.concat([V.sel(longitude = slice(0,30)),V.sel(longitude = slice(320,360))],dim='longitude')\n",
    "    V.coords['longitude'] = (V.coords['longitude'] + 180) % 360 - 180\n",
    "    U.coords['longitude'] = (U.coords['longitude'] + 180) % 360 - 180\n",
    "    U = U.sortby(U.longitude).load()\n",
    "    V = V.sortby(U.longitude).load()\n",
    "    lon = U.longitude.values\n",
    "    nlon = len(lon)\n",
    "    lat = U.latitude.values\n",
    "    nlat = len(lat)\n",
    "    front = front_watershed(U,V,lon,lat)\n",
    "    U.close()\n",
    "    V.close()\n",
    "    front = front[['front']]\n",
    "    lon = U.longitude.values\n",
    "    nlon = len(lon)\n",
    "    lat = U.latitude.values\n",
    "    nlat = len(lat)\n",
    "    dx = np.cos(lat*math.pi/180.0)*2*math.pi*6370/360*(lon[-1]-lon[1])/(nlon-1)\n",
    "    dy = ((lat[2]-lat[1])/180.0)*6370*math.pi\n",
    "    front = getfront(front,dx,dy,lat,lon)\n",
    "    front = front.front.fillna(0)\n",
    "    front.to_netcdf(path='../FRONT_FILES/native/3-hourly/ERA5_6hr/ERA5_front_native_'+str(year)+'.nc', mode='w')\n",
    "    front.close()"
   ]
  },
  {
   "cell_type": "code",
   "execution_count": null,
   "metadata": {},
   "outputs": [],
   "source": [
    "#CDO mergetime used to concatenate times"
   ]
  },
  {
   "cell_type": "code",
   "execution_count": null,
   "metadata": {},
   "outputs": [],
   "source": [
    "front = xr.open_mfdataset(glob.glob(\"/home/pmarsh/MASTERS/FRONT/FRONT_FILES/native/3-hourly/ERA5_6hr/*\"))\n",
    "\n",
    "front_seas = front.front.groupby(front.time.dt.season).mean(dim='time')\n",
    "\n",
    "front_seas.to_netcdf(path='/home/pmarsh/MASTERS/FRONT/FRONT_FILES/native/ERA5_seasonal_mean_front_density_native.nc', mode='w')"
   ]
  },
  {
   "cell_type": "code",
   "execution_count": null,
   "metadata": {},
   "outputs": [],
   "source": []
  },
  {
   "cell_type": "code",
   "execution_count": 14,
   "metadata": {},
   "outputs": [],
   "source": [
    "client.close()"
   ]
  }
 ],
 "metadata": {
  "kernelspec": {
   "display_name": "Python 3",
   "language": "python",
   "name": "python3"
  },
  "language_info": {
   "codemirror_mode": {
    "name": "ipython",
    "version": 3
   },
   "file_extension": ".py",
   "mimetype": "text/x-python",
   "name": "python",
   "nbconvert_exporter": "python",
   "pygments_lexer": "ipython3",
   "version": "3.7.6"
  }
 },
 "nbformat": 4,
 "nbformat_minor": 4
}
