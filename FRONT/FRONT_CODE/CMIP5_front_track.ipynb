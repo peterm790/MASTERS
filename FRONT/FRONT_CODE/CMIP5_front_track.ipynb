{
 "cells": [
  {
   "cell_type": "code",
   "execution_count": 1,
   "metadata": {},
   "outputs": [
    {
     "name": "stderr",
     "output_type": "stream",
     "text": [
      "/share/apps/anaconda3/envs/dask/lib/python3.8/site-packages/distributed/node.py:151: UserWarning: Port 2467 is already in use.\n",
      "Perhaps you already have a cluster running?\n",
      "Hosting the HTTP server on port 36793 instead\n",
      "  warnings.warn(\n"
     ]
    },
    {
     "ename": "OSError",
     "evalue": "[Errno 98] Address already in use",
     "output_type": "error",
     "traceback": [
      "\u001b[0;31m---------------------------------------------------------------------------\u001b[0m",
      "\u001b[0;31mOSError\u001b[0m                                   Traceback (most recent call last)",
      "\u001b[0;32m<ipython-input-1-b9fc46bde20b>\u001b[0m in \u001b[0;36m<module>\u001b[0;34m\u001b[0m\n\u001b[1;32m      1\u001b[0m \u001b[0;32mfrom\u001b[0m \u001b[0mdask\u001b[0m\u001b[0;34m.\u001b[0m\u001b[0mdistributed\u001b[0m \u001b[0;32mimport\u001b[0m \u001b[0mClient\u001b[0m\u001b[0;34m,\u001b[0m \u001b[0mLocalCluster\u001b[0m\u001b[0;34m\u001b[0m\u001b[0;34m\u001b[0m\u001b[0m\n\u001b[1;32m      2\u001b[0m \u001b[0;32mif\u001b[0m \u001b[0m__name__\u001b[0m \u001b[0;34m==\u001b[0m \u001b[0;34m\"__main__\"\u001b[0m\u001b[0;34m:\u001b[0m\u001b[0;34m\u001b[0m\u001b[0;34m\u001b[0m\u001b[0m\n\u001b[0;32m----> 3\u001b[0;31m     \u001b[0mcluster\u001b[0m\u001b[0;34m=\u001b[0m\u001b[0mLocalCluster\u001b[0m\u001b[0;34m(\u001b[0m\u001b[0mhost\u001b[0m\u001b[0;34m=\u001b[0m\u001b[0;34m\"tcp://127.0.0.1:2456\"\u001b[0m\u001b[0;34m,\u001b[0m\u001b[0mdashboard_address\u001b[0m\u001b[0;34m=\u001b[0m\u001b[0;34m\"127.0.0.1:2467\"\u001b[0m\u001b[0;34m,\u001b[0m\u001b[0mn_workers\u001b[0m\u001b[0;34m=\u001b[0m\u001b[0;36m4\u001b[0m\u001b[0;34m)\u001b[0m\u001b[0;34m\u001b[0m\u001b[0;34m\u001b[0m\u001b[0m\n\u001b[0m\u001b[1;32m      4\u001b[0m     \u001b[0mclient\u001b[0m \u001b[0;34m=\u001b[0m \u001b[0mClient\u001b[0m\u001b[0;34m(\u001b[0m\u001b[0mcluster\u001b[0m\u001b[0;34m)\u001b[0m\u001b[0;34m\u001b[0m\u001b[0;34m\u001b[0m\u001b[0m\n",
      "\u001b[0;32m/share/apps/anaconda3/envs/dask/lib/python3.8/site-packages/distributed/deploy/local.py\u001b[0m in \u001b[0;36m__init__\u001b[0;34m(self, name, n_workers, threads_per_worker, processes, loop, start, host, ip, scheduler_port, silence_logs, dashboard_address, worker_dashboard_address, diagnostics_port, services, worker_services, service_kwargs, asynchronous, security, protocol, blocked_handlers, interface, worker_class, scheduler_kwargs, **worker_kwargs)\u001b[0m\n\u001b[1;32m    229\u001b[0m         \u001b[0mworkers\u001b[0m \u001b[0;34m=\u001b[0m \u001b[0;34m{\u001b[0m\u001b[0mi\u001b[0m\u001b[0;34m:\u001b[0m \u001b[0mworker\u001b[0m \u001b[0;32mfor\u001b[0m \u001b[0mi\u001b[0m \u001b[0;32min\u001b[0m \u001b[0mrange\u001b[0m\u001b[0;34m(\u001b[0m\u001b[0mn_workers\u001b[0m\u001b[0;34m)\u001b[0m\u001b[0;34m}\u001b[0m\u001b[0;34m\u001b[0m\u001b[0;34m\u001b[0m\u001b[0m\n\u001b[1;32m    230\u001b[0m \u001b[0;34m\u001b[0m\u001b[0m\n\u001b[0;32m--> 231\u001b[0;31m         super().__init__(\n\u001b[0m\u001b[1;32m    232\u001b[0m             \u001b[0mname\u001b[0m\u001b[0;34m=\u001b[0m\u001b[0mname\u001b[0m\u001b[0;34m,\u001b[0m\u001b[0;34m\u001b[0m\u001b[0;34m\u001b[0m\u001b[0m\n\u001b[1;32m    233\u001b[0m             \u001b[0mscheduler\u001b[0m\u001b[0;34m=\u001b[0m\u001b[0mscheduler\u001b[0m\u001b[0;34m,\u001b[0m\u001b[0;34m\u001b[0m\u001b[0;34m\u001b[0m\u001b[0m\n",
      "\u001b[0;32m/share/apps/anaconda3/envs/dask/lib/python3.8/site-packages/distributed/deploy/spec.py\u001b[0m in \u001b[0;36m__init__\u001b[0;34m(self, workers, scheduler, worker, asynchronous, loop, security, silence_logs, name, shutdown_on_close)\u001b[0m\n\u001b[1;32m    280\u001b[0m         \u001b[0;32mif\u001b[0m \u001b[0;32mnot\u001b[0m \u001b[0mself\u001b[0m\u001b[0;34m.\u001b[0m\u001b[0masynchronous\u001b[0m\u001b[0;34m:\u001b[0m\u001b[0;34m\u001b[0m\u001b[0;34m\u001b[0m\u001b[0m\n\u001b[1;32m    281\u001b[0m             \u001b[0mself\u001b[0m\u001b[0;34m.\u001b[0m\u001b[0m_loop_runner\u001b[0m\u001b[0;34m.\u001b[0m\u001b[0mstart\u001b[0m\u001b[0;34m(\u001b[0m\u001b[0;34m)\u001b[0m\u001b[0;34m\u001b[0m\u001b[0;34m\u001b[0m\u001b[0m\n\u001b[0;32m--> 282\u001b[0;31m             \u001b[0mself\u001b[0m\u001b[0;34m.\u001b[0m\u001b[0msync\u001b[0m\u001b[0;34m(\u001b[0m\u001b[0mself\u001b[0m\u001b[0;34m.\u001b[0m\u001b[0m_start\u001b[0m\u001b[0;34m)\u001b[0m\u001b[0;34m\u001b[0m\u001b[0;34m\u001b[0m\u001b[0m\n\u001b[0m\u001b[1;32m    283\u001b[0m             \u001b[0mself\u001b[0m\u001b[0;34m.\u001b[0m\u001b[0msync\u001b[0m\u001b[0;34m(\u001b[0m\u001b[0mself\u001b[0m\u001b[0;34m.\u001b[0m\u001b[0m_correct_state\u001b[0m\u001b[0;34m)\u001b[0m\u001b[0;34m\u001b[0m\u001b[0;34m\u001b[0m\u001b[0m\n\u001b[1;32m    284\u001b[0m \u001b[0;34m\u001b[0m\u001b[0m\n",
      "\u001b[0;32m/share/apps/anaconda3/envs/dask/lib/python3.8/site-packages/distributed/deploy/cluster.py\u001b[0m in \u001b[0;36msync\u001b[0;34m(self, func, asynchronous, callback_timeout, *args, **kwargs)\u001b[0m\n\u001b[1;32m    186\u001b[0m             \u001b[0;32mreturn\u001b[0m \u001b[0mfuture\u001b[0m\u001b[0;34m\u001b[0m\u001b[0;34m\u001b[0m\u001b[0m\n\u001b[1;32m    187\u001b[0m         \u001b[0;32melse\u001b[0m\u001b[0;34m:\u001b[0m\u001b[0;34m\u001b[0m\u001b[0;34m\u001b[0m\u001b[0m\n\u001b[0;32m--> 188\u001b[0;31m             \u001b[0;32mreturn\u001b[0m \u001b[0msync\u001b[0m\u001b[0;34m(\u001b[0m\u001b[0mself\u001b[0m\u001b[0;34m.\u001b[0m\u001b[0mloop\u001b[0m\u001b[0;34m,\u001b[0m \u001b[0mfunc\u001b[0m\u001b[0;34m,\u001b[0m \u001b[0;34m*\u001b[0m\u001b[0margs\u001b[0m\u001b[0;34m,\u001b[0m \u001b[0;34m**\u001b[0m\u001b[0mkwargs\u001b[0m\u001b[0;34m)\u001b[0m\u001b[0;34m\u001b[0m\u001b[0;34m\u001b[0m\u001b[0m\n\u001b[0m\u001b[1;32m    189\u001b[0m \u001b[0;34m\u001b[0m\u001b[0m\n\u001b[1;32m    190\u001b[0m     \u001b[0;32mdef\u001b[0m \u001b[0m_log\u001b[0m\u001b[0;34m(\u001b[0m\u001b[0mself\u001b[0m\u001b[0;34m,\u001b[0m \u001b[0mlog\u001b[0m\u001b[0;34m)\u001b[0m\u001b[0;34m:\u001b[0m\u001b[0;34m\u001b[0m\u001b[0;34m\u001b[0m\u001b[0m\n",
      "\u001b[0;32m/share/apps/anaconda3/envs/dask/lib/python3.8/site-packages/distributed/utils.py\u001b[0m in \u001b[0;36msync\u001b[0;34m(loop, func, callback_timeout, *args, **kwargs)\u001b[0m\n\u001b[1;32m    351\u001b[0m     \u001b[0;32mif\u001b[0m \u001b[0merror\u001b[0m\u001b[0;34m[\u001b[0m\u001b[0;36m0\u001b[0m\u001b[0;34m]\u001b[0m\u001b[0;34m:\u001b[0m\u001b[0;34m\u001b[0m\u001b[0;34m\u001b[0m\u001b[0m\n\u001b[1;32m    352\u001b[0m         \u001b[0mtyp\u001b[0m\u001b[0;34m,\u001b[0m \u001b[0mexc\u001b[0m\u001b[0;34m,\u001b[0m \u001b[0mtb\u001b[0m \u001b[0;34m=\u001b[0m \u001b[0merror\u001b[0m\u001b[0;34m[\u001b[0m\u001b[0;36m0\u001b[0m\u001b[0;34m]\u001b[0m\u001b[0;34m\u001b[0m\u001b[0;34m\u001b[0m\u001b[0m\n\u001b[0;32m--> 353\u001b[0;31m         \u001b[0;32mraise\u001b[0m \u001b[0mexc\u001b[0m\u001b[0;34m.\u001b[0m\u001b[0mwith_traceback\u001b[0m\u001b[0;34m(\u001b[0m\u001b[0mtb\u001b[0m\u001b[0;34m)\u001b[0m\u001b[0;34m\u001b[0m\u001b[0;34m\u001b[0m\u001b[0m\n\u001b[0m\u001b[1;32m    354\u001b[0m     \u001b[0;32melse\u001b[0m\u001b[0;34m:\u001b[0m\u001b[0;34m\u001b[0m\u001b[0;34m\u001b[0m\u001b[0m\n\u001b[1;32m    355\u001b[0m         \u001b[0;32mreturn\u001b[0m \u001b[0mresult\u001b[0m\u001b[0;34m[\u001b[0m\u001b[0;36m0\u001b[0m\u001b[0;34m]\u001b[0m\u001b[0;34m\u001b[0m\u001b[0;34m\u001b[0m\u001b[0m\n",
      "\u001b[0;32m/share/apps/anaconda3/envs/dask/lib/python3.8/site-packages/distributed/utils.py\u001b[0m in \u001b[0;36mf\u001b[0;34m()\u001b[0m\n\u001b[1;32m    334\u001b[0m             \u001b[0;32mif\u001b[0m \u001b[0mcallback_timeout\u001b[0m \u001b[0;32mis\u001b[0m \u001b[0;32mnot\u001b[0m \u001b[0;32mNone\u001b[0m\u001b[0;34m:\u001b[0m\u001b[0;34m\u001b[0m\u001b[0;34m\u001b[0m\u001b[0m\n\u001b[1;32m    335\u001b[0m                 \u001b[0mfuture\u001b[0m \u001b[0;34m=\u001b[0m \u001b[0masyncio\u001b[0m\u001b[0;34m.\u001b[0m\u001b[0mwait_for\u001b[0m\u001b[0;34m(\u001b[0m\u001b[0mfuture\u001b[0m\u001b[0;34m,\u001b[0m \u001b[0mcallback_timeout\u001b[0m\u001b[0;34m)\u001b[0m\u001b[0;34m\u001b[0m\u001b[0;34m\u001b[0m\u001b[0m\n\u001b[0;32m--> 336\u001b[0;31m             \u001b[0mresult\u001b[0m\u001b[0;34m[\u001b[0m\u001b[0;36m0\u001b[0m\u001b[0;34m]\u001b[0m \u001b[0;34m=\u001b[0m \u001b[0;32myield\u001b[0m \u001b[0mfuture\u001b[0m\u001b[0;34m\u001b[0m\u001b[0;34m\u001b[0m\u001b[0m\n\u001b[0m\u001b[1;32m    337\u001b[0m         \u001b[0;32mexcept\u001b[0m \u001b[0mException\u001b[0m \u001b[0;32mas\u001b[0m \u001b[0mexc\u001b[0m\u001b[0;34m:\u001b[0m\u001b[0;34m\u001b[0m\u001b[0;34m\u001b[0m\u001b[0m\n\u001b[1;32m    338\u001b[0m             \u001b[0merror\u001b[0m\u001b[0;34m[\u001b[0m\u001b[0;36m0\u001b[0m\u001b[0;34m]\u001b[0m \u001b[0;34m=\u001b[0m \u001b[0msys\u001b[0m\u001b[0;34m.\u001b[0m\u001b[0mexc_info\u001b[0m\u001b[0;34m(\u001b[0m\u001b[0;34m)\u001b[0m\u001b[0;34m\u001b[0m\u001b[0;34m\u001b[0m\u001b[0m\n",
      "\u001b[0;32m/share/apps/anaconda3/envs/dask/lib/python3.8/site-packages/tornado/gen.py\u001b[0m in \u001b[0;36mrun\u001b[0;34m(self)\u001b[0m\n\u001b[1;32m    760\u001b[0m \u001b[0;34m\u001b[0m\u001b[0m\n\u001b[1;32m    761\u001b[0m                     \u001b[0;32mtry\u001b[0m\u001b[0;34m:\u001b[0m\u001b[0;34m\u001b[0m\u001b[0;34m\u001b[0m\u001b[0m\n\u001b[0;32m--> 762\u001b[0;31m                         \u001b[0mvalue\u001b[0m \u001b[0;34m=\u001b[0m \u001b[0mfuture\u001b[0m\u001b[0;34m.\u001b[0m\u001b[0mresult\u001b[0m\u001b[0;34m(\u001b[0m\u001b[0;34m)\u001b[0m\u001b[0;34m\u001b[0m\u001b[0;34m\u001b[0m\u001b[0m\n\u001b[0m\u001b[1;32m    763\u001b[0m                     \u001b[0;32mexcept\u001b[0m \u001b[0mException\u001b[0m\u001b[0;34m:\u001b[0m\u001b[0;34m\u001b[0m\u001b[0;34m\u001b[0m\u001b[0m\n\u001b[1;32m    764\u001b[0m                         \u001b[0mexc_info\u001b[0m \u001b[0;34m=\u001b[0m \u001b[0msys\u001b[0m\u001b[0;34m.\u001b[0m\u001b[0mexc_info\u001b[0m\u001b[0;34m(\u001b[0m\u001b[0;34m)\u001b[0m\u001b[0;34m\u001b[0m\u001b[0;34m\u001b[0m\u001b[0m\n",
      "\u001b[0;32m/share/apps/anaconda3/envs/dask/lib/python3.8/site-packages/distributed/deploy/spec.py\u001b[0m in \u001b[0;36m_start\u001b[0;34m(self)\u001b[0m\n\u001b[1;32m    309\u001b[0m                 \u001b[0mcls\u001b[0m \u001b[0;34m=\u001b[0m \u001b[0mimport_term\u001b[0m\u001b[0;34m(\u001b[0m\u001b[0mcls\u001b[0m\u001b[0;34m)\u001b[0m\u001b[0;34m\u001b[0m\u001b[0;34m\u001b[0m\u001b[0m\n\u001b[1;32m    310\u001b[0m             \u001b[0mself\u001b[0m\u001b[0;34m.\u001b[0m\u001b[0mscheduler\u001b[0m \u001b[0;34m=\u001b[0m \u001b[0mcls\u001b[0m\u001b[0;34m(\u001b[0m\u001b[0;34m**\u001b[0m\u001b[0mself\u001b[0m\u001b[0;34m.\u001b[0m\u001b[0mscheduler_spec\u001b[0m\u001b[0;34m.\u001b[0m\u001b[0mget\u001b[0m\u001b[0;34m(\u001b[0m\u001b[0;34m\"options\"\u001b[0m\u001b[0;34m,\u001b[0m \u001b[0;34m{\u001b[0m\u001b[0;34m}\u001b[0m\u001b[0;34m)\u001b[0m\u001b[0;34m)\u001b[0m\u001b[0;34m\u001b[0m\u001b[0;34m\u001b[0m\u001b[0m\n\u001b[0;32m--> 311\u001b[0;31m             \u001b[0mself\u001b[0m\u001b[0;34m.\u001b[0m\u001b[0mscheduler\u001b[0m \u001b[0;34m=\u001b[0m \u001b[0;32mawait\u001b[0m \u001b[0mself\u001b[0m\u001b[0;34m.\u001b[0m\u001b[0mscheduler\u001b[0m\u001b[0;34m\u001b[0m\u001b[0;34m\u001b[0m\u001b[0m\n\u001b[0m\u001b[1;32m    312\u001b[0m         self.scheduler_comm = rpc(\n\u001b[1;32m    313\u001b[0m             \u001b[0mgetattr\u001b[0m\u001b[0;34m(\u001b[0m\u001b[0mself\u001b[0m\u001b[0;34m.\u001b[0m\u001b[0mscheduler\u001b[0m\u001b[0;34m,\u001b[0m \u001b[0;34m\"external_address\"\u001b[0m\u001b[0;34m,\u001b[0m \u001b[0;32mNone\u001b[0m\u001b[0;34m)\u001b[0m \u001b[0;32mor\u001b[0m \u001b[0mself\u001b[0m\u001b[0;34m.\u001b[0m\u001b[0mscheduler\u001b[0m\u001b[0;34m.\u001b[0m\u001b[0maddress\u001b[0m\u001b[0;34m,\u001b[0m\u001b[0;34m\u001b[0m\u001b[0;34m\u001b[0m\u001b[0m\n",
      "\u001b[0;32m/share/apps/anaconda3/envs/dask/lib/python3.8/site-packages/distributed/core.py\u001b[0m in \u001b[0;36m_\u001b[0;34m()\u001b[0m\n\u001b[1;32m    283\u001b[0m                         )\n\u001b[1;32m    284\u001b[0m                 \u001b[0;32melse\u001b[0m\u001b[0;34m:\u001b[0m\u001b[0;34m\u001b[0m\u001b[0;34m\u001b[0m\u001b[0m\n\u001b[0;32m--> 285\u001b[0;31m                     \u001b[0;32mawait\u001b[0m \u001b[0mself\u001b[0m\u001b[0;34m.\u001b[0m\u001b[0mstart\u001b[0m\u001b[0;34m(\u001b[0m\u001b[0;34m)\u001b[0m\u001b[0;34m\u001b[0m\u001b[0;34m\u001b[0m\u001b[0m\n\u001b[0m\u001b[1;32m    286\u001b[0m                     \u001b[0mself\u001b[0m\u001b[0;34m.\u001b[0m\u001b[0mstatus\u001b[0m \u001b[0;34m=\u001b[0m \u001b[0mStatus\u001b[0m\u001b[0;34m.\u001b[0m\u001b[0mrunning\u001b[0m\u001b[0;34m\u001b[0m\u001b[0;34m\u001b[0m\u001b[0m\n\u001b[1;32m    287\u001b[0m             \u001b[0;32mreturn\u001b[0m \u001b[0mself\u001b[0m\u001b[0;34m\u001b[0m\u001b[0;34m\u001b[0m\u001b[0m\n",
      "\u001b[0;32m/share/apps/anaconda3/envs/dask/lib/python3.8/site-packages/distributed/scheduler.py\u001b[0m in \u001b[0;36mstart\u001b[0;34m(self)\u001b[0m\n\u001b[1;32m   3635\u001b[0m \u001b[0;34m\u001b[0m\u001b[0m\n\u001b[1;32m   3636\u001b[0m         \u001b[0;32mfor\u001b[0m \u001b[0maddr\u001b[0m \u001b[0;32min\u001b[0m \u001b[0mself\u001b[0m\u001b[0;34m.\u001b[0m\u001b[0m_start_address\u001b[0m\u001b[0;34m:\u001b[0m\u001b[0;34m\u001b[0m\u001b[0;34m\u001b[0m\u001b[0m\n\u001b[0;32m-> 3637\u001b[0;31m             await self.listen(\n\u001b[0m\u001b[1;32m   3638\u001b[0m                 \u001b[0maddr\u001b[0m\u001b[0;34m,\u001b[0m\u001b[0;34m\u001b[0m\u001b[0;34m\u001b[0m\u001b[0m\n\u001b[1;32m   3639\u001b[0m                 \u001b[0mallow_offload\u001b[0m\u001b[0;34m=\u001b[0m\u001b[0;32mFalse\u001b[0m\u001b[0;34m,\u001b[0m\u001b[0;34m\u001b[0m\u001b[0;34m\u001b[0m\u001b[0m\n",
      "\u001b[0;32m/share/apps/anaconda3/envs/dask/lib/python3.8/site-packages/distributed/core.py\u001b[0m in \u001b[0;36mlisten\u001b[0;34m(self, port_or_addr, allow_offload, **kwargs)\u001b[0m\n\u001b[1;32m    398\u001b[0m             \u001b[0maddr\u001b[0m \u001b[0;34m=\u001b[0m \u001b[0mport_or_addr\u001b[0m\u001b[0;34m\u001b[0m\u001b[0;34m\u001b[0m\u001b[0m\n\u001b[1;32m    399\u001b[0m             \u001b[0;32massert\u001b[0m \u001b[0misinstance\u001b[0m\u001b[0;34m(\u001b[0m\u001b[0maddr\u001b[0m\u001b[0;34m,\u001b[0m \u001b[0mstr\u001b[0m\u001b[0;34m)\u001b[0m\u001b[0;34m\u001b[0m\u001b[0;34m\u001b[0m\u001b[0m\n\u001b[0;32m--> 400\u001b[0;31m         listener = await listen(\n\u001b[0m\u001b[1;32m    401\u001b[0m             \u001b[0maddr\u001b[0m\u001b[0;34m,\u001b[0m\u001b[0;34m\u001b[0m\u001b[0;34m\u001b[0m\u001b[0m\n\u001b[1;32m    402\u001b[0m             \u001b[0mself\u001b[0m\u001b[0;34m.\u001b[0m\u001b[0mhandle_comm\u001b[0m\u001b[0;34m,\u001b[0m\u001b[0;34m\u001b[0m\u001b[0;34m\u001b[0m\u001b[0m\n",
      "\u001b[0;32m/share/apps/anaconda3/envs/dask/lib/python3.8/site-packages/distributed/comm/core.py\u001b[0m in \u001b[0;36m_\u001b[0;34m()\u001b[0m\n\u001b[1;32m    206\u001b[0m     \u001b[0;32mdef\u001b[0m \u001b[0m__await__\u001b[0m\u001b[0;34m(\u001b[0m\u001b[0mself\u001b[0m\u001b[0;34m)\u001b[0m\u001b[0;34m:\u001b[0m\u001b[0;34m\u001b[0m\u001b[0;34m\u001b[0m\u001b[0m\n\u001b[1;32m    207\u001b[0m         \u001b[0;32masync\u001b[0m \u001b[0;32mdef\u001b[0m \u001b[0m_\u001b[0m\u001b[0;34m(\u001b[0m\u001b[0;34m)\u001b[0m\u001b[0;34m:\u001b[0m\u001b[0;34m\u001b[0m\u001b[0;34m\u001b[0m\u001b[0m\n\u001b[0;32m--> 208\u001b[0;31m             \u001b[0;32mawait\u001b[0m \u001b[0mself\u001b[0m\u001b[0;34m.\u001b[0m\u001b[0mstart\u001b[0m\u001b[0;34m(\u001b[0m\u001b[0;34m)\u001b[0m\u001b[0;34m\u001b[0m\u001b[0;34m\u001b[0m\u001b[0m\n\u001b[0m\u001b[1;32m    209\u001b[0m             \u001b[0;32mreturn\u001b[0m \u001b[0mself\u001b[0m\u001b[0;34m\u001b[0m\u001b[0;34m\u001b[0m\u001b[0m\n\u001b[1;32m    210\u001b[0m \u001b[0;34m\u001b[0m\u001b[0m\n",
      "\u001b[0;32m/share/apps/anaconda3/envs/dask/lib/python3.8/site-packages/distributed/comm/tcp.py\u001b[0m in \u001b[0;36mstart\u001b[0;34m(self)\u001b[0m\n\u001b[1;32m    449\u001b[0m                 \u001b[0;31m# on a single worker socket, make sure the backlog\u001b[0m\u001b[0;34m\u001b[0m\u001b[0;34m\u001b[0m\u001b[0;34m\u001b[0m\u001b[0m\n\u001b[1;32m    450\u001b[0m                 \u001b[0;31m# is large enough not to lose any.\u001b[0m\u001b[0;34m\u001b[0m\u001b[0;34m\u001b[0m\u001b[0;34m\u001b[0m\u001b[0m\n\u001b[0;32m--> 451\u001b[0;31m                 sockets = netutil.bind_sockets(\n\u001b[0m\u001b[1;32m    452\u001b[0m                     \u001b[0mself\u001b[0m\u001b[0;34m.\u001b[0m\u001b[0mport\u001b[0m\u001b[0;34m,\u001b[0m \u001b[0maddress\u001b[0m\u001b[0;34m=\u001b[0m\u001b[0mself\u001b[0m\u001b[0;34m.\u001b[0m\u001b[0mip\u001b[0m\u001b[0;34m,\u001b[0m \u001b[0mbacklog\u001b[0m\u001b[0;34m=\u001b[0m\u001b[0mbacklog\u001b[0m\u001b[0;34m\u001b[0m\u001b[0;34m\u001b[0m\u001b[0m\n\u001b[1;32m    453\u001b[0m                 )\n",
      "\u001b[0;32m/share/apps/anaconda3/envs/dask/lib/python3.8/site-packages/tornado/netutil.py\u001b[0m in \u001b[0;36mbind_sockets\u001b[0;34m(port, address, family, backlog, flags, reuse_port)\u001b[0m\n\u001b[1;32m    159\u001b[0m         \u001b[0msock\u001b[0m\u001b[0;34m.\u001b[0m\u001b[0msetblocking\u001b[0m\u001b[0;34m(\u001b[0m\u001b[0;32mFalse\u001b[0m\u001b[0;34m)\u001b[0m\u001b[0;34m\u001b[0m\u001b[0;34m\u001b[0m\u001b[0m\n\u001b[1;32m    160\u001b[0m         \u001b[0;32mtry\u001b[0m\u001b[0;34m:\u001b[0m\u001b[0;34m\u001b[0m\u001b[0;34m\u001b[0m\u001b[0m\n\u001b[0;32m--> 161\u001b[0;31m             \u001b[0msock\u001b[0m\u001b[0;34m.\u001b[0m\u001b[0mbind\u001b[0m\u001b[0;34m(\u001b[0m\u001b[0msockaddr\u001b[0m\u001b[0;34m)\u001b[0m\u001b[0;34m\u001b[0m\u001b[0;34m\u001b[0m\u001b[0m\n\u001b[0m\u001b[1;32m    162\u001b[0m         \u001b[0;32mexcept\u001b[0m \u001b[0mOSError\u001b[0m \u001b[0;32mas\u001b[0m \u001b[0me\u001b[0m\u001b[0;34m:\u001b[0m\u001b[0;34m\u001b[0m\u001b[0;34m\u001b[0m\u001b[0m\n\u001b[1;32m    163\u001b[0m             if (\n",
      "\u001b[0;31mOSError\u001b[0m: [Errno 98] Address already in use"
     ]
    }
   ],
   "source": [
    "from dask.distributed import Client, LocalCluster\n",
    "if __name__ == \"__main__\":\n",
    "    cluster=LocalCluster(host=\"tcp://127.0.0.1:2456\",dashboard_address=\"127.0.0.1:2467\",n_workers=4)\n",
    "    client = Client(cluster)"
   ]
  },
  {
   "cell_type": "code",
   "execution_count": 8,
   "metadata": {},
   "outputs": [],
   "source": [
    "import numpy as np\n",
    "import pandas as pd\n",
    "import xarray as xr\n",
    "import math\n",
    "import dask\n",
    "\n",
    "import skimage.feature\n",
    "import skimage.segmentation\n",
    "import scipy.ndimage as ndi\n",
    "\n",
    "import glob\n",
    "\n",
    "import multiprocessing\n",
    "from multiprocessing import Pool, Manager"
   ]
  },
  {
   "cell_type": "code",
   "execution_count": 9,
   "metadata": {},
   "outputs": [],
   "source": [
    "def pre_process(U,V):\n",
    "    try:\n",
    "        U.longitude\n",
    "        U.latitude\n",
    "    except:\n",
    "        V = V.rename({'lon':'longitude'})\n",
    "        V = V.rename({'lat':'latitude'})\n",
    "        U = U.rename({'lon':'longitude'})\n",
    "        U = U.rename({'lat':'latitude'})\n",
    "        U.longitude\n",
    "        U.latitude\n",
    "    try:\n",
    "        test = U.uas\n",
    "    except:\n",
    "        try:\n",
    "            test = U.ua\n",
    "            U = U.rename({'ua':'uas'})\n",
    "            V = V.rename({'va':'vas'})\n",
    "        except:\n",
    "            U = U.rename({'uwnd':'uas'})\n",
    "            V = V.rename({'vwnd':'vas'})\n",
    "    try:\n",
    "        test = U.level\n",
    "    except:\n",
    "        try:\n",
    "            test = U.plev\n",
    "            U = U.rename({'plev':'level'})\n",
    "            V = V.rename({'plev':'level'})\n",
    "        except:\n",
    "            U = U.rename({'height':'level'})\n",
    "            V = V.rename({'height':'level'})\n",
    "    return U,V"
   ]
  },
  {
   "cell_type": "code",
   "execution_count": 157,
   "metadata": {},
   "outputs": [],
   "source": [
    "def front_watershed(U,V,lon,lat):\n",
    "    print('front_watershed')\n",
    "    front = U.copy()\n",
    "    front['uas'] = front.uas*0\n",
    "    front = front.rename({'uas':'x'})\n",
    "    front['U2'] = U.uas #now\n",
    "    front['V2'] = V.vas #now\n",
    "    front['U1'] = xr.DataArray(np.concatenate([U.uas.values[:2]*np.nan,U.uas.values[:-2]]),dims=(\"time\",\"latitude\", \"longitude\"), coords={\"time\":front.time.values,\"longitude\":lon ,\"latitude\": lat})\n",
    "    front['V1'] = xr.DataArray(np.concatenate([V.vas.values[:2]*np.nan,V.vas.values[:-2]]),dims=(\"time\",\"latitude\", \"longitude\"), coords={\"time\":front.time.values,\"longitude\":lon ,\"latitude\": lat})\n",
    "    front = front.sel(time=front.time[2:])\n",
    "    x = xr.where(front['U1'].values>0,front['U1'].values/front['U1'].values,np.nan)\n",
    "    x = xr.where(front['V1'].values<0,x,np.nan)\n",
    "    x = xr.where(front['U2'].values>0,x,np.nan)\n",
    "    x = xr.where(front['V2'].values>0,x,np.nan)\n",
    "    x = xr.where(front['V2'].values - front['V1'].values >  2.0 ,x,np.nan)\n",
    "    front['x'] = xr.DataArray(x,dims=(\"time\",\"latitude\", \"longitude\"), coords={\"time\":front.time.values,\"longitude\":lon ,\"latitude\": lat}) #were above frontal criteria are met\n",
    "    front['front'] = xr.DataArray(x*np.nan,dims=(\"time\",\"latitude\", \"longitude\"), coords={\"time\":front.time.values,\"longitude\":lon ,\"latitude\": lat}) #empty for output\n",
    "    x = np.nan_to_num(x).astype('int64')\n",
    "    for d in range(2,len(front.time)): #watershed segmentation to label each front\n",
    "        front_idx = skimage.feature.peak_local_max(x[d], footprint=np.ones((3, 3)),labels=x[d])\n",
    "        front_mask = np.full_like(x[d], fill_value = False)\n",
    "        front_mask[tuple(front_idx.T)] = True\n",
    "        markers = ndi.label(front_mask)[0]\n",
    "        obj = skimage.segmentation.watershed(-x[d], markers, mask=front_mask)\n",
    "        z = xr.DataArray(obj, dims=(\"lat\", \"lon\"), coords={\"lon\": lon , \"lat\":lat})\n",
    "        front['front'][d] = z\n",
    "    front['front'] = front.front/front.front\n",
    "    return front"
   ]
  },
  {
   "cell_type": "code",
   "execution_count": 11,
   "metadata": {},
   "outputs": [],
   "source": [
    "def getfront(frontin,dx='dx',dy='dy',lat='lat',lon='lon'):\n",
    "    print('getfront')\n",
    "    front = frontin\n",
    "    front = front.sel(time=front.time[2:])\n",
    "    for d in range(len(front.time)):\n",
    "        winners=[]\n",
    "        if math.isnan(np.nanmax(front.front[d]))==False:\n",
    "            for z in range(1,int(np.nanmax(front.front[d]))+1):\n",
    "                ids =  np.argwhere(front.front[d].values==z)\n",
    "                latsid = [item[0] for item in ids]\n",
    "                lonsid = [item[1] for item in ids]\n",
    "                lats = [lat[i] for i in latsid]\n",
    "                lons = [lon[i] for i in lonsid]\n",
    "                mlat = np.mean(lats)\n",
    "                imlat = np.argmin((lat-mlat)**2) #mean lat\n",
    "                #area = dy*np.sum(dx[latsi[z]]) #area not sure why though not used again?\n",
    "                xlen = dx[imlat]*4*np.std(lons)\n",
    "                ylen = dy*4*np.std(lats)\n",
    "                length = np.sqrt((ylen**2)+(xlen**2))  #length\n",
    "                if length>500.0:   #must be greater than 500km\n",
    "                    winners.append(z)\n",
    "            front['front'][d] = front.front[d].where(np.isin(front.front[d],winners))\n",
    "    return front\n"
   ]
  },
  {
   "cell_type": "code",
   "execution_count": 12,
   "metadata": {},
   "outputs": [],
   "source": [
    "def get_files():\n",
    "    models = glob.glob(\"/terra/data/cmip5/global/historical/*\")\n",
    "    avail={}\n",
    "    for model in models:\n",
    "        uas = glob.glob(str(model)+\"/r1i1p1/3hr/native/uas*\")\n",
    "        vas = glob.glob(str(model)+\"/r1i1p1/3hr/native/vas*\")\n",
    "        try:\n",
    "            test = uas[0]\n",
    "            avail[model.split('/')[-1]] = {'uas':uas,'vas':vas}\n",
    "        except:\n",
    "             pass\n",
    "    return avail"
   ]
  },
  {
   "cell_type": "code",
   "execution_count": 13,
   "metadata": {},
   "outputs": [],
   "source": [
    "def compute(dict_in ,key):\n",
    "    print(key)\n",
    "    U = xr.open_mfdataset(dict_in['uas'])\n",
    "    V = xr.open_mfdataset(dict_in['vas'])\n",
    "    U,V = pre_process(U,V)\n",
    "    U = U.sel(time=slice('1950-01-01', '2005-08-31')) #1950 to last available\n",
    "    V = V.sel(time=slice('1950-01-01', '2005-08-31'))\n",
    "    U = U.sel(latitude = slice(-75,-15))\n",
    "    U = xr.concat([U.sel(longitude = slice(0,30)),U.sel(longitude = slice(320,360))],dim='longitude')\n",
    "    V = V.sel(latitude = slice(-75,-15))\n",
    "    V = xr.concat([V.sel(longitude = slice(0,30)),V.sel(longitude = slice(320,360))],dim='longitude')\n",
    "    V.coords['longitude'] = (V.coords['longitude'] + 180) % 360 - 180\n",
    "    U.coords['longitude'] = (U.coords['longitude'] + 180) % 360 - 180\n",
    "    with dask.config.set(**{'array.slicing.split_large_chunks': True}):\n",
    "        U = U.sortby(U.longitude).load()\n",
    "        V = V.sortby(U.longitude).load()\n",
    "    lon = U.longitude.values\n",
    "    nlon = len(lon)\n",
    "    lat = U.latitude.values\n",
    "    nlat = len(lat)\n",
    "    front = front_watershed(U,V,lon,lat)\n",
    "    U.close()\n",
    "    V.close()\n",
    "    dx = np.cos(lat*math.pi/180.0)*2*math.pi*6370/360*(lon[-1]-lon[1])/(nlon-1)\n",
    "    dy = ((lat[2]-lat[1])/180.0)*6370*math.pi\n",
    "    front = getfront(front,dx,dy,lat,lon)\n",
    "    front.to_netcdf(path='../FRONT_FILES/native/3-hourly/'+str(key)+'_front_native.nc', mode='w')\n",
    "    #front = front.front.groupby(front.time.dt.season).mean(dim='time')\n",
    "    #front.to_netcdf(path='/home/pmarsh/MASTERS/FRONT/FRONT_FILES/native/'+str(key)+'seasonal_mean_front_density_native.nc', mode='w')\n",
    "    front.close()\n",
    "    return front"
   ]
  },
  {
   "cell_type": "code",
   "execution_count": 15,
   "metadata": {},
   "outputs": [],
   "source": [
    "avail = get_files()\n",
    "dict_in = avail['GFDL-CM3']"
   ]
  },
  {
   "cell_type": "code",
   "execution_count": 17,
   "metadata": {},
   "outputs": [],
   "source": [
    "U = xr.open_mfdataset(dict_in['uas'])\n",
    "V = xr.open_mfdataset(dict_in['vas'])\n",
    "U,V = pre_process(U,V)\n",
    "U = U.sel(time=slice('1950-01-01', '1955-08-31')) #1950 to last available\n",
    "V = V.sel(time=slice('1950-01-01', '1955-08-31'))\n",
    "U = U.sel(latitude = slice(-75,-15))\n",
    "U = xr.concat([U.sel(longitude = slice(0,30)),U.sel(longitude = slice(320,360))],dim='longitude')\n",
    "V = V.sel(latitude = slice(-75,-15))\n",
    "V = xr.concat([V.sel(longitude = slice(0,30)),V.sel(longitude = slice(320,360))],dim='longitude')\n",
    "V.coords['longitude'] = (V.coords['longitude'] + 180) % 360 - 180\n",
    "U.coords['longitude'] = (U.coords['longitude'] + 180) % 360 - 180\n",
    "with dask.config.set(**{'array.slicing.split_large_chunks': True}):\n",
    "    U = U.sortby(U.longitude).load()\n",
    "    V = V.sortby(U.longitude).load()\n",
    "lon = U.longitude.values\n",
    "nlon = len(lon)\n",
    "lat = U.latitude.values\n",
    "nlat = len(lat)"
   ]
  },
  {
   "cell_type": "code",
   "execution_count": 21,
   "metadata": {},
   "outputs": [],
   "source": [
    "front = U.copy()\n",
    "front['uas'] = front.uas*0\n",
    "front = front.rename({'uas':'x'})\n",
    "front['U2'] = U.uas #now\n",
    "front['V2'] = V.vas #now\n",
    "front['U1'] = xr.DataArray(np.concatenate([U.uas.values[:2]*np.nan,U.uas.values[:-2]]),dims=(\"time\",\"latitude\", \"longitude\"), coords={\"time\":front.time.values,\"longitude\":lon ,\"latitude\": lat})\n",
    "front['V1'] = xr.DataArray(np.concatenate([V.vas.values[:2]*np.nan,V.vas.values[:-2]]),dims=(\"time\",\"latitude\", \"longitude\"), coords={\"time\":front.time.values,\"longitude\":lon ,\"latitude\": lat})\n",
    "front = front.sel(time=front.time[2:])\n",
    "x = xr.where(front['U1'].values>0,front['U1'].values/front['U1'].values,np.nan)\n",
    "x = xr.where(front['V1'].values<0,x,np.nan)\n",
    "x = xr.where(front['U2'].values>0,x,np.nan)\n",
    "x = xr.where(front['V2'].values>0,x,np.nan)\n",
    "x = xr.where(front['V2'].values - front['V1'].values >  2.0 ,x,np.nan)\n",
    "front['x'] = xr.DataArray(x,dims=(\"time\",\"latitude\", \"longitude\"), coords={\"time\":front.time.values,\"longitude\":lon ,\"latitude\": lat}) #were above frontal criteria are met\n",
    "front['front'] = xr.DataArray(x*np.nan,dims=(\"time\",\"latitude\", \"longitude\"), coords={\"time\":front.time.values,\"longitude\":lon ,\"latitude\": lat}) #empty for output\n",
    "x = np.nan_to_num(x).astype('int64')"
   ]
  },
  {
   "cell_type": "code",
   "execution_count": 22,
   "metadata": {},
   "outputs": [],
   "source": [
    "d = 100"
   ]
  },
  {
   "cell_type": "code",
   "execution_count": 23,
   "metadata": {},
   "outputs": [
    {
     "name": "stderr",
     "output_type": "stream",
     "text": [
      "<ipython-input-23-a186a5477232>:1: FutureWarning: indices argument is deprecated and will be removed in version 0.20. To avoid this warning, please do not use the indices argument. Please see peak_local_max documentation for more details.\n",
      "  local_maxi = skimage.feature.peak_local_max(x[d], indices=False, footprint=np.ones((3, 3)),labels=x[d])\n"
     ]
    }
   ],
   "source": [
    "local_maxi = skimage.feature.peak_local_max(x[d], indices=False, footprint=np.ones((3, 3)),labels=x[d])\n",
    "markers = ndi.label(local_maxi)[0]\n",
    "obj = skimage.segmentation.watershed(-x[d], markers, mask=x[d])"
   ]
  },
  {
   "cell_type": "code",
   "execution_count": 26,
   "metadata": {},
   "outputs": [],
   "source": [
    "z = xr.DataArray(x[d], dims=(\"lat\", \"lon\"), coords={\"lon\": lon , \"lat\":lat})"
   ]
  },
  {
   "cell_type": "code",
   "execution_count": 29,
   "metadata": {},
   "outputs": [
    {
     "data": {
      "text/plain": [
       "<matplotlib.collections.QuadMesh at 0x7f518456c430>"
      ]
     },
     "execution_count": 29,
     "metadata": {},
     "output_type": "execute_result"
    },
    {
     "data": {
      "image/png": "[encoded data removed]",
      "text/plain": [
       "<Figure size 432x288 with 2 Axes>"
      ]
     },
     "metadata": {
      "needs_background": "light"
     },
     "output_type": "display_data"
    }
   ],
   "source": [
    "z.where(z>0).fillna(0).plot()"
   ]
  },
  {
   "cell_type": "code",
   "execution_count": null,
   "metadata": {},
   "outputs": [],
   "source": []
  },
  {
   "cell_type": "code",
   "execution_count": null,
   "metadata": {},
   "outputs": [],
   "source": []
  },
  {
   "cell_type": "code",
   "execution_count": 7,
   "metadata": {},
   "outputs": [
    {
     "ename": "NameError",
     "evalue": "name 'glob' is not defined",
     "output_type": "error",
     "traceback": [
      "\u001b[0;31m---------------------------------------------------------------------------\u001b[0m",
      "\u001b[0;31mNameError\u001b[0m                                 Traceback (most recent call last)",
      "\u001b[0;32m<ipython-input-7-41471e5ddb16>\u001b[0m in \u001b[0;36m<module>\u001b[0;34m\u001b[0m\n\u001b[0;32m----> 1\u001b[0;31m \u001b[0mavail\u001b[0m \u001b[0;34m=\u001b[0m \u001b[0mget_files\u001b[0m\u001b[0;34m(\u001b[0m\u001b[0;34m)\u001b[0m\u001b[0;34m\u001b[0m\u001b[0;34m\u001b[0m\u001b[0m\n\u001b[0m\u001b[1;32m      2\u001b[0m \u001b[0mmodels\u001b[0m \u001b[0;34m=\u001b[0m \u001b[0;34m[\u001b[0m\u001b[0;34m]\u001b[0m\u001b[0;34m\u001b[0m\u001b[0;34m\u001b[0m\u001b[0m\n\u001b[1;32m      3\u001b[0m \u001b[0;32mfor\u001b[0m \u001b[0mkey\u001b[0m \u001b[0;32min\u001b[0m \u001b[0mavail\u001b[0m\u001b[0;34m:\u001b[0m\u001b[0;34m\u001b[0m\u001b[0;34m\u001b[0m\u001b[0m\n\u001b[1;32m      4\u001b[0m     \u001b[0mmodels\u001b[0m\u001b[0;34m.\u001b[0m\u001b[0mappend\u001b[0m\u001b[0;34m(\u001b[0m\u001b[0mkey\u001b[0m\u001b[0;34m)\u001b[0m\u001b[0;34m\u001b[0m\u001b[0;34m\u001b[0m\u001b[0m\n",
      "\u001b[0;32m<ipython-input-5-28571056c46b>\u001b[0m in \u001b[0;36mget_files\u001b[0;34m()\u001b[0m\n\u001b[1;32m      1\u001b[0m \u001b[0;32mdef\u001b[0m \u001b[0mget_files\u001b[0m\u001b[0;34m(\u001b[0m\u001b[0;34m)\u001b[0m\u001b[0;34m:\u001b[0m\u001b[0;34m\u001b[0m\u001b[0;34m\u001b[0m\u001b[0m\n\u001b[0;32m----> 2\u001b[0;31m     \u001b[0mmodels\u001b[0m \u001b[0;34m=\u001b[0m \u001b[0mglob\u001b[0m\u001b[0;34m.\u001b[0m\u001b[0mglob\u001b[0m\u001b[0;34m(\u001b[0m\u001b[0;34m\"/terra/data/cmip5/global/historical/*\"\u001b[0m\u001b[0;34m)\u001b[0m\u001b[0;34m\u001b[0m\u001b[0;34m\u001b[0m\u001b[0m\n\u001b[0m\u001b[1;32m      3\u001b[0m     \u001b[0mavail\u001b[0m\u001b[0;34m=\u001b[0m\u001b[0;34m{\u001b[0m\u001b[0;34m}\u001b[0m\u001b[0;34m\u001b[0m\u001b[0;34m\u001b[0m\u001b[0m\n\u001b[1;32m      4\u001b[0m     \u001b[0;32mfor\u001b[0m \u001b[0mmodel\u001b[0m \u001b[0;32min\u001b[0m \u001b[0mmodels\u001b[0m\u001b[0;34m:\u001b[0m\u001b[0;34m\u001b[0m\u001b[0;34m\u001b[0m\u001b[0m\n\u001b[1;32m      5\u001b[0m         \u001b[0muas\u001b[0m \u001b[0;34m=\u001b[0m \u001b[0mglob\u001b[0m\u001b[0;34m.\u001b[0m\u001b[0mglob\u001b[0m\u001b[0;34m(\u001b[0m\u001b[0mstr\u001b[0m\u001b[0;34m(\u001b[0m\u001b[0mmodel\u001b[0m\u001b[0;34m)\u001b[0m\u001b[0;34m+\u001b[0m\u001b[0;34m\"/r1i1p1/3hr/native/uas*\"\u001b[0m\u001b[0;34m)\u001b[0m\u001b[0;34m\u001b[0m\u001b[0;34m\u001b[0m\u001b[0m\n",
      "\u001b[0;31mNameError\u001b[0m: name 'glob' is not defined"
     ]
    }
   ],
   "source": [
    "avail = get_files()\n",
    "models = []\n",
    "for key in avail:\n",
    "    models.append(key)"
   ]
  },
  {
   "cell_type": "code",
   "execution_count": 9,
   "metadata": {},
   "outputs": [
    {
     "name": "stdout",
     "output_type": "stream",
     "text": [
      "IPSL-CM5A-LR lon -3.75 lat -1.8947372436523438\n",
      "MRI-ESM1 lon -1.125 lat -1.1201400000000064\n",
      "MIROC-ESM-CHEM lon -2.8125 lat -2.7873063752268337\n",
      "bcc-csm1-1-m lon -1.125 lat -1.1201419304874634\n",
      "ACCESS1-0 lon -1.875 lat -1.25\n",
      "MIROC-ESM lon -2.8125 lat -2.7873063752268337\n",
      "GFDL-CM3 lon -2.5 lat -2.0\n",
      "GFDL-ESM2G lon -2.5 lat -2.022471910112344\n",
      "MIROC5 lon -1.40625 lat -1.399086510813646\n",
      "CNRM-CM5 lon -1.40625 lat -1.3990859985351562\n",
      "IPSL-CM5A-MR lon -2.5 lat -1.267608642578125\n",
      "ACCESS1-3 lon -1.875 lat -1.25\n",
      "MRI-CGCM3 lon -1.125 lat -1.1201400000000064\n",
      "bcc-csm1-1 lon -2.8125 lat -2.7873063752268337\n",
      "BNU-ESM lon -2.8125 lat -2.7873077392578125\n",
      "GFDL-ESM2M lon -2.5 lat -2.022471910112344\n",
      "MIROC4h lon -0.5625 lat -0.560945391368648\n"
     ]
    }
   ],
   "source": [
    "for model in models:\n",
    "    U = xr.open_mfdataset(avail[model]['uas'])\n",
    "    print(model , 'lon', U.lon.values[2]-U.lon.values[3], 'lat', U.lat.values[2]-U.lat.values[3])"
   ]
  },
  {
   "cell_type": "code",
   "execution_count": 11,
   "metadata": {},
   "outputs": [
    {
     "name": "stdout",
     "output_type": "stream",
     "text": [
      "IPSL-CM5A-LR\n",
      "IPSL-CM5A-LR\n",
      "front_watershed\n",
      "getfront\n"
     ]
    },
    {
     "name": "stderr",
     "output_type": "stream",
     "text": [
      "<ipython-input-5-c98648332448>:7: RuntimeWarning: All-NaN axis encountered\n",
      "  if math.isnan(np.nanmax(front.front[d]))==False:\n"
     ]
    },
    {
     "name": "stdout",
     "output_type": "stream",
     "text": [
      "MRI-ESM1\n",
      "MRI-ESM1\n",
      "front_watershed\n",
      "getfront\n",
      "MIROC-ESM-CHEM\n",
      "MIROC-ESM-CHEM\n",
      "front_watershed\n"
     ]
    },
    {
     "name": "stderr",
     "output_type": "stream",
     "text": [
      "<ipython-input-4-72c7d0ededf1>:11: RuntimeWarning: invalid value encountered in true_divide\n",
      "  x = xr.where(front['U1'].values>0,front['U1'].values/front['U1'].values,np.nan)\n"
     ]
    },
    {
     "name": "stdout",
     "output_type": "stream",
     "text": [
      "getfront\n"
     ]
    },
    {
     "name": "stderr",
     "output_type": "stream",
     "text": [
      "<ipython-input-5-c98648332448>:7: RuntimeWarning: All-NaN axis encountered\n",
      "  if math.isnan(np.nanmax(front.front[d]))==False:\n"
     ]
    },
    {
     "name": "stdout",
     "output_type": "stream",
     "text": [
      "bcc-csm1-1-m\n",
      "bcc-csm1-1-m\n",
      "front_watershed\n",
      "getfront\n"
     ]
    },
    {
     "name": "stderr",
     "output_type": "stream",
     "text": [
      "<ipython-input-5-c98648332448>:7: RuntimeWarning: All-NaN axis encountered\n",
      "  if math.isnan(np.nanmax(front.front[d]))==False:\n"
     ]
    },
    {
     "name": "stdout",
     "output_type": "stream",
     "text": [
      "ACCESS1-0\n",
      "ACCESS1-0\n",
      "front_watershed\n",
      "getfront\n"
     ]
    },
    {
     "name": "stderr",
     "output_type": "stream",
     "text": [
      "<ipython-input-5-c98648332448>:7: RuntimeWarning: All-NaN axis encountered\n",
      "  if math.isnan(np.nanmax(front.front[d]))==False:\n"
     ]
    },
    {
     "name": "stdout",
     "output_type": "stream",
     "text": [
      "MIROC-ESM\n",
      "MIROC-ESM\n",
      "front_watershed\n"
     ]
    },
    {
     "name": "stderr",
     "output_type": "stream",
     "text": [
      "<ipython-input-4-72c7d0ededf1>:11: RuntimeWarning: invalid value encountered in true_divide\n",
      "  x = xr.where(front['U1'].values>0,front['U1'].values/front['U1'].values,np.nan)\n"
     ]
    },
    {
     "name": "stdout",
     "output_type": "stream",
     "text": [
      "getfront\n"
     ]
    },
    {
     "name": "stderr",
     "output_type": "stream",
     "text": [
      "<ipython-input-5-c98648332448>:7: RuntimeWarning: All-NaN axis encountered\n",
      "  if math.isnan(np.nanmax(front.front[d]))==False:\n"
     ]
    },
    {
     "name": "stdout",
     "output_type": "stream",
     "text": [
      "GFDL-CM3\n",
      "GFDL-CM3\n",
      "front_watershed\n",
      "getfront\n"
     ]
    },
    {
     "name": "stderr",
     "output_type": "stream",
     "text": [
      "<ipython-input-5-c98648332448>:7: RuntimeWarning: All-NaN axis encountered\n",
      "  if math.isnan(np.nanmax(front.front[d]))==False:\n"
     ]
    },
    {
     "name": "stdout",
     "output_type": "stream",
     "text": [
      "GFDL-ESM2G\n",
      "GFDL-ESM2G\n",
      "front_watershed\n",
      "getfront\n"
     ]
    },
    {
     "name": "stderr",
     "output_type": "stream",
     "text": [
      "<ipython-input-5-c98648332448>:7: RuntimeWarning: All-NaN axis encountered\n",
      "  if math.isnan(np.nanmax(front.front[d]))==False:\n"
     ]
    },
    {
     "name": "stdout",
     "output_type": "stream",
     "text": [
      "MIROC5\n",
      "MIROC5\n",
      "front_watershed\n"
     ]
    },
    {
     "name": "stderr",
     "output_type": "stream",
     "text": [
      "<ipython-input-4-72c7d0ededf1>:11: RuntimeWarning: invalid value encountered in true_divide\n",
      "  x = xr.where(front['U1'].values>0,front['U1'].values/front['U1'].values,np.nan)\n"
     ]
    },
    {
     "name": "stdout",
     "output_type": "stream",
     "text": [
      "getfront\n"
     ]
    },
    {
     "name": "stderr",
     "output_type": "stream",
     "text": [
      "<ipython-input-5-c98648332448>:7: RuntimeWarning: All-NaN axis encountered\n",
      "  if math.isnan(np.nanmax(front.front[d]))==False:\n"
     ]
    },
    {
     "name": "stdout",
     "output_type": "stream",
     "text": [
      "CNRM-CM5\n",
      "CNRM-CM5\n",
      "front_watershed\n",
      "getfront\n"
     ]
    },
    {
     "name": "stderr",
     "output_type": "stream",
     "text": [
      "<ipython-input-5-c98648332448>:7: RuntimeWarning: All-NaN axis encountered\n",
      "  if math.isnan(np.nanmax(front.front[d]))==False:\n"
     ]
    },
    {
     "name": "stdout",
     "output_type": "stream",
     "text": [
      "IPSL-CM5A-MR\n",
      "IPSL-CM5A-MR\n",
      "front_watershed\n",
      "getfront\n"
     ]
    },
    {
     "name": "stderr",
     "output_type": "stream",
     "text": [
      "<ipython-input-5-c98648332448>:7: RuntimeWarning: All-NaN axis encountered\n",
      "  if math.isnan(np.nanmax(front.front[d]))==False:\n"
     ]
    },
    {
     "name": "stdout",
     "output_type": "stream",
     "text": [
      "ACCESS1-3\n",
      "ACCESS1-3\n",
      "front_watershed\n",
      "getfront\n"
     ]
    },
    {
     "name": "stderr",
     "output_type": "stream",
     "text": [
      "<ipython-input-5-c98648332448>:7: RuntimeWarning: All-NaN axis encountered\n",
      "  if math.isnan(np.nanmax(front.front[d]))==False:\n"
     ]
    },
    {
     "name": "stdout",
     "output_type": "stream",
     "text": [
      "MRI-CGCM3\n",
      "MRI-CGCM3\n",
      "front_watershed\n",
      "getfront\n"
     ]
    },
    {
     "name": "stderr",
     "output_type": "stream",
     "text": [
      "<ipython-input-5-c98648332448>:7: RuntimeWarning: All-NaN axis encountered\n",
      "  if math.isnan(np.nanmax(front.front[d]))==False:\n"
     ]
    },
    {
     "name": "stdout",
     "output_type": "stream",
     "text": [
      "bcc-csm1-1\n",
      "bcc-csm1-1\n",
      "front_watershed\n",
      "getfront\n"
     ]
    },
    {
     "name": "stderr",
     "output_type": "stream",
     "text": [
      "<ipython-input-5-c98648332448>:7: RuntimeWarning: All-NaN axis encountered\n",
      "  if math.isnan(np.nanmax(front.front[d]))==False:\n"
     ]
    },
    {
     "name": "stdout",
     "output_type": "stream",
     "text": [
      "BNU-ESM\n",
      "BNU-ESM\n",
      "front_watershed\n",
      "getfront\n"
     ]
    },
    {
     "name": "stderr",
     "output_type": "stream",
     "text": [
      "<ipython-input-5-c98648332448>:7: RuntimeWarning: All-NaN axis encountered\n",
      "  if math.isnan(np.nanmax(front.front[d]))==False:\n"
     ]
    },
    {
     "name": "stdout",
     "output_type": "stream",
     "text": [
      "GFDL-ESM2M\n",
      "GFDL-ESM2M\n",
      "front_watershed\n",
      "getfront\n"
     ]
    },
    {
     "name": "stderr",
     "output_type": "stream",
     "text": [
      "<ipython-input-5-c98648332448>:7: RuntimeWarning: All-NaN axis encountered\n",
      "  if math.isnan(np.nanmax(front.front[d]))==False:\n"
     ]
    }
   ],
   "source": [
    "for key in models[:-1]:\n",
    "    print(key)\n",
    "    compute(avail[key] ,key)"
   ]
  },
  {
   "cell_type": "code",
   "execution_count": 12,
   "metadata": {},
   "outputs": [
    {
     "name": "stdout",
     "output_type": "stream",
     "text": [
      "front_watershed\n"
     ]
    },
    {
     "name": "stderr",
     "output_type": "stream",
     "text": [
      "<ipython-input-4-72c7d0ededf1>:11: RuntimeWarning: invalid value encountered in true_divide\n",
      "  x = xr.where(front['U1'].values>0,front['U1'].values/front['U1'].values,np.nan)\n"
     ]
    },
    {
     "name": "stdout",
     "output_type": "stream",
     "text": [
      "getfront\n"
     ]
    }
   ],
   "source": [
    "U = xr.open_mfdataset(avail['MIROC4h']['uas'])\n",
    "V = xr.open_mfdataset(avail['MIROC4h']['vas'])\n",
    "U,V = pre_process(U,V)\n",
    "U = U.sel(time=slice('1950-01-01', '2005-08-31')) #1950 to last available\n",
    "V = V.sel(time=slice('1950-01-01', '2005-08-31'))\n",
    "U = U.sel(latitude = slice(-75,-15))\n",
    "U = xr.concat([U.sel(longitude = slice(0,30)),U.sel(longitude = slice(320,360))],dim='longitude')\n",
    "V = V.sel(latitude = slice(-75,-15))\n",
    "V = xr.concat([V.sel(longitude = slice(0,30)),V.sel(longitude = slice(320,360))],dim='longitude')\n",
    "V.coords['longitude'] = (V.coords['longitude'] + 180) % 360 - 180\n",
    "U.coords['longitude'] = (U.coords['longitude'] + 180) % 360 - 180\n",
    "with dask.config.set(**{'array.slicing.split_large_chunks': True}):\n",
    "    U = U.sortby(U.longitude).chunk({'time':100,'latitude':-1,'longitude':-1})\n",
    "    V = V.sortby(U.longitude).chunk({'time':100,'latitude':-1,'longitude':-1})\n",
    "lon = U.longitude.values\n",
    "nlon = len(lon)\n",
    "lat = U.latitude.values\n",
    "nlat = len(lat)\n",
    "front = front_watershed(U,V,lon,lat)\n",
    "U.close()\n",
    "V.close()\n",
    "front = front[['front']]\n",
    "dx = np.cos(lat*math.pi/180.0)*2*math.pi*6370/360*(lon[-1]-lon[1])/(nlon-1)\n",
    "dy = ((lat[2]-lat[1])/180.0)*6370*math.pi\n",
    "front = front.load()\n",
    "front = getfront(front,dx,dy,lat,lon)\n",
    "front.to_netcdf(path='../FRONT_FILES/native/3-hourly/MIROC4h_front_native.nc', mode='w')\n",
    "#front = front.front.groupby(front.time.dt.season).mean(dim='time')\n",
    "#front.to_netcdf(path='/home/pmarsh/MASTERS/FRONT/FRONT_FILES/native/MIROC4h_seasonal_mean_front_density_native.nc', mode='w')\n",
    "front.close()"
   ]
  },
  {
   "cell_type": "code",
   "execution_count": 13,
   "metadata": {},
   "outputs": [],
   "source": [
    "client.close()"
   ]
  },
  {
   "cell_type": "code",
   "execution_count": null,
   "metadata": {},
   "outputs": [],
   "source": []
  }
 ],
 "metadata": {
  "kernelspec": {
   "display_name": "Dask [shared installation]",
   "language": "python",
   "name": "dask"
  },
  "language_info": {
   "codemirror_mode": {
    "name": "ipython",
    "version": 3
   },
   "file_extension": ".py",
   "mimetype": "text/x-python",
   "name": "python",
   "nbconvert_exporter": "python",
   "pygments_lexer": "ipython3",
   "version": "3.8.8"
  }
 },
 "nbformat": 4,
 "nbformat_minor": 4
}
