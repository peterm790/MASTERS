{
 "cells": [
  {
   "cell_type": "code",
   "execution_count": 1,
   "metadata": {},
   "outputs": [],
   "source": [
    "from dask.distributed import Client, LocalCluster\n",
    "if __name__ == \"__main__\":\n",
    "    cluster=LocalCluster(host=\"tcp://127.0.0.1:2456\",dashboard_address=\"127.0.0.1:2467\",n_workers=4)\n",
    "    client = Client(cluster)"
   ]
  },
  {
   "cell_type": "code",
   "execution_count": 2,
   "metadata": {},
   "outputs": [],
   "source": [
    "import numpy as np\n",
    "import pandas as pd\n",
    "import xarray as xr\n",
    "import math\n",
    "import dask\n",
    "\n",
    "import skimage.feature\n",
    "import skimage.segmentation\n",
    "import scipy.ndimage as ndi\n",
    "\n",
    "import glob"
   ]
  },
  {
   "cell_type": "code",
   "execution_count": 3,
   "metadata": {},
   "outputs": [],
   "source": [
    "def pre_process(U,V):\n",
    "    try:\n",
    "        U.longitude\n",
    "        U.latitude\n",
    "    except:\n",
    "        V = V.rename({'lon':'longitude'})\n",
    "        V = V.rename({'lat':'latitude'})\n",
    "        U = U.rename({'lon':'longitude'})\n",
    "        U = U.rename({'lat':'latitude'})\n",
    "        U.longitude\n",
    "        U.latitude\n",
    "    try:\n",
    "        test = U.uas\n",
    "    except:\n",
    "        try:\n",
    "            test = U.ua\n",
    "            U = U.rename({'ua':'uas'})\n",
    "            V = V.rename({'va':'vas'})\n",
    "        except:\n",
    "            U = U.rename({'uwnd':'uas'})\n",
    "            V = V.rename({'vwnd':'vas'})\n",
    "    try:\n",
    "        test = U.level\n",
    "    except:\n",
    "        try:\n",
    "            test = U.plev\n",
    "            U = U.rename({'plev':'level'})\n",
    "            V = V.rename({'plev':'level'})\n",
    "        except:\n",
    "            U = U.rename({'height':'level'})\n",
    "            V = V.rename({'height':'level'})\n",
    "    return U,V"
   ]
  },
  {
   "cell_type": "code",
   "execution_count": 157,
   "metadata": {},
   "outputs": [],
   "source": [
    "def front_watershed(U,V,lon,lat):\n",
    "    print('front_watershed')\n",
    "    front = U.copy()\n",
    "    front['uas'] = front.uas*0\n",
    "    front = front.rename({'uas':'x'})\n",
    "    front['U2'] = U.uas #now\n",
    "    front['V2'] = V.vas #now\n",
    "    front['U1'] = xr.DataArray(np.concatenate([U.uas.values[:2]*np.nan,U.uas.values[:-2]]),dims=(\"time\",\"latitude\", \"longitude\"), coords={\"time\":front.time.values,\"longitude\":lon ,\"latitude\": lat})\n",
    "    front['V1'] = xr.DataArray(np.concatenate([V.vas.values[:2]*np.nan,V.vas.values[:-2]]),dims=(\"time\",\"latitude\", \"longitude\"), coords={\"time\":front.time.values,\"longitude\":lon ,\"latitude\": lat})\n",
    "    front = front.sel(time=front.time[2:])\n",
    "    x = xr.where(front['U1'].values>0,front['U1'].values/front['U1'].values,np.nan)\n",
    "    x = xr.where(front['V1'].values<0,x,np.nan)\n",
    "    x = xr.where(front['U2'].values>0,x,np.nan)\n",
    "    x = xr.where(front['V2'].values>0,x,np.nan)\n",
    "    x = xr.where(front['V2'].values - front['V1'].values >  2.0 ,x,np.nan)\n",
    "    front['x'] = xr.DataArray(x,dims=(\"time\",\"latitude\", \"longitude\"), coords={\"time\":front.time.values,\"longitude\":lon ,\"latitude\": lat}) #were above frontal criteria are met\n",
    "    front['front'] = xr.DataArray(x*np.nan,dims=(\"time\",\"latitude\", \"longitude\"), coords={\"time\":front.time.values,\"longitude\":lon ,\"latitude\": lat}) #empty for output\n",
    "    x = np.nan_to_num(x).astype('int64')\n",
    "    for d in range(2,len(front.time)): #watershed segmentation to label each front\n",
    "        front_idx = skimage.feature.peak_local_max(x[d], footprint=np.ones((3, 3)),labels=x[d])\n",
    "        front_mask = np.full_like(x[d], fill_value = False)\n",
    "        front_mask[tuple(front_idx.T)] = True\n",
    "        markers = ndi.label(front_mask)[0]\n",
    "        obj = skimage.segmentation.watershed(-x[d], markers, mask=front_mask)\n",
    "        z = xr.DataArray(obj, dims=(\"lat\", \"lon\"), coords={\"lon\": lon , \"lat\":lat})\n",
    "        front['front'][d] = z\n",
    "    front['front'] = front.front/front.front\n",
    "    return front"
   ]
  },
  {
   "cell_type": "code",
   "execution_count": 5,
   "metadata": {},
   "outputs": [],
   "source": [
    "def getfront(frontin,dx='dx',dy='dy',lat='lat',lon='lon'):\n",
    "    print('getfront')\n",
    "    front = frontin\n",
    "    front = front.sel(time=front.time[2:])\n",
    "    for d in range(len(front.time)):\n",
    "        winners=[]\n",
    "        if math.isnan(np.nanmax(front.front[d]))==False:\n",
    "            for z in range(1,int(np.nanmax(front.front[d]))+1):\n",
    "                ids =  np.argwhere(front.front[d].values==z)\n",
    "                latsid = [item[0] for item in ids]\n",
    "                lonsid = [item[1] for item in ids]\n",
    "                lats = [lat[i] for i in latsid]\n",
    "                lons = [lon[i] for i in lonsid]\n",
    "                mlat = np.mean(lats)\n",
    "                imlat = np.argmin((lat-mlat)**2) #mean lat\n",
    "                #area = dy*np.sum(dx[latsi[z]]) #area not sure why though not used again?\n",
    "                xlen = dx[imlat]*4*np.std(lons)\n",
    "                ylen = dy*4*np.std(lats)\n",
    "                length = np.sqrt((ylen**2)+(xlen**2))  #length\n",
    "                if length>500.0:   #must be greater than 500km\n",
    "                    winners.append(z)\n",
    "            front['front'][d] = front.front[d].where(np.isin(front.front[d],winners))\n",
    "    return front\n"
   ]
  },
  {
   "cell_type": "code",
   "execution_count": 6,
   "metadata": {},
   "outputs": [],
   "source": [
    "def get_files():\n",
    "    models = glob.glob(\"/terra/data/cmip5/global/historical/*\")\n",
    "    avail={}\n",
    "    for model in models:\n",
    "        model = model.split('/')[-1]\n",
    "        uas = glob.glob(\"/home/pmarsh/Front_Input_Regrid/uas/*\"+str(model)+\"*\")\n",
    "        vas = glob.glob(\"./home/pmarsh/Front_Input_Regrid/vas/*\"+str(model)+\"*\")\n",
    "        try:\n",
    "            test = uas[0]\n",
    "            avail[model.split('/')[-1]] = {'uas':uas,'vas':vas}\n",
    "        except:\n",
    "             pass\n",
    "    return avail"
   ]
  },
  {
   "cell_type": "code",
   "execution_count": 7,
   "metadata": {},
   "outputs": [],
   "source": [
    "files = get_files()"
   ]
  },
  {
   "cell_type": "code",
   "execution_count": 8,
   "metadata": {},
   "outputs": [],
   "source": [
    "#bcc-csm1-1 and bcc-csm1-1-m seperator\n",
    "correct={}\n",
    "correct['uas'] = []\n",
    "for file in files['bcc-csm1-1']['uas']:\n",
    "    if file.split('_')[4] == str('bcc-csm1-1'):\n",
    "        correct['uas'].append(file)\n",
    "        \n",
    "correct['vas'] = []\n",
    "for file in files['bcc-csm1-1']['vas']:\n",
    "    if file.split('_')[4] == str('bcc-csm1-1'):\n",
    "        correct['vas'].append(file)\n",
    "        \n",
    "        \n",
    "files['bcc-csm1-1'] = correct"
   ]
  },
  {
   "cell_type": "code",
   "execution_count": 12,
   "metadata": {},
   "outputs": [],
   "source": [
    "def compute(dict_in ,key):\n",
    "    print(key)\n",
    "    U = xr.open_mfdataset(dict_in['uas'])\n",
    "    V = xr.open_mfdataset(dict_in['vas'])\n",
    "    U,V = pre_process(U,V)\n",
    "    U = U.sel(time=slice('1950-01-01', '2005-08-31')).load() #1950 to last available\n",
    "    V = V.sel(time=slice('1950-01-01', '2005-08-31')).load()\n",
    "    lon = U.longitude.values\n",
    "    nlon = len(lon)\n",
    "    lat = U.latitude.values\n",
    "    nlat = len(lat)\n",
    "    front = front_watershed(U,V,lon,lat)\n",
    "    U.close()\n",
    "    V.close()\n",
    "    dx = np.cos(lat*math.pi/180.0)*2*math.pi*6370/360*(lon[-1]-lon[1])/(nlon-1)\n",
    "    dy = ((lat[2]-lat[1])/180.0)*6370*math.pi\n",
    "    front = getfront(front,dx,dy,lat,lon)\n",
    "    front.front.to_netcdf(path='../FRONT_FILES/2deg/3-hourly/'+str(key)+'_front.nc', mode='w')\n",
    "    front = front.front.groupby(front.time.dt.season).mean(dim='time')\n",
    "    front.to_netcdf(path='../FRONT_FILES/2deg/seasonal_mean/'+str(key)+'seasonal_mean_front_density.nc', mode='w')\n",
    "    front.close()\n",
    "    return"
   ]
  },
  {
   "cell_type": "code",
   "execution_count": 14,
   "metadata": {},
   "outputs": [],
   "source": [
    "for key in list(files.keys()):\n",
    "    compute(files[key] ,key)"
   ]
  },
  {
   "cell_type": "code",
   "execution_count": 13,
   "metadata": {},
   "outputs": [],
   "source": [
    "client.close()"
   ]
  }
 ],
 "metadata": {
  "kernelspec": {
   "display_name": "Python 3",
   "language": "python",
   "name": "python3"
  },
  "language_info": {
   "codemirror_mode": {
    "name": "ipython",
    "version": 3
   },
   "file_extension": ".py",
   "mimetype": "text/x-python",
   "name": "python",
   "nbconvert_exporter": "python",
   "pygments_lexer": "ipython3",
   "version": "3.7.6"
  }
 },
 "nbformat": 4,
 "nbformat_minor": 4
}
