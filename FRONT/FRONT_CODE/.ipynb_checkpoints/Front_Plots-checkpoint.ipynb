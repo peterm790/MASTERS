{
 "cells": [
  {
   "cell_type": "code",
   "execution_count": null,
   "metadata": {},
   "outputs": [],
   "source": [
    "import numpy as np\n",
    "import pandas as pd\n",
    "import xarray as xr\n",
    "import math\n",
    "import dask\n",
    "import glob\n",
    "import seaborn as sns\n",
    "import seaborn as sns\n",
    "import matplotlib.pyplot as plt\n",
    "import cartopy.crs as ccrs"
   ]
  },
  {
   "cell_type": "code",
   "execution_count": null,
   "metadata": {},
   "outputs": [],
   "source": [
    "from dask.distributed import Client, LocalCluster\n",
    "if __name__ == \"__main__\":\n",
    "    cluster=LocalCluster(host=\"tcp://127.0.0.1:2452\",dashboard_address=\"127.0.0.1:2462\",n_workers=4)\n",
    "    client = Client(cluster)"
   ]
  },
  {
   "cell_type": "code",
   "execution_count": null,
   "metadata": {},
   "outputs": [],
   "source": [
    "files = glob.glob(\"../FRONT_FILES/native/3-hourly/*.nc\")"
   ]
  },
  {
   "cell_type": "code",
   "execution_count": null,
   "metadata": {},
   "outputs": [],
   "source": [
    "models = []\n",
    "for file in files:\n",
    "    models.append(file.split('/')[-1].split('_')[0])"
   ]
  },
  {
   "cell_type": "code",
   "execution_count": null,
   "metadata": {},
   "outputs": [],
   "source": [
    "two_deg = xr.open_dataset('../FRONT_FILES/2deg/3-hourly/ERA5_seasonal_fronts_2deg.nc')\n",
    "new_lat = two_deg.latitude.values\n",
    "new_lon = two_deg.longitude.values"
   ]
  },
  {
   "cell_type": "code",
   "execution_count": null,
   "metadata": {},
   "outputs": [],
   "source": [
    "dic = {}\n",
    "for model,file in zip(models,files):\n",
    "    print(model)\n",
    "    dic[model] = xr.open_dataset(file)\n",
    "    dic[model] = dic[model].rename({'__xarray_dataarray_variable__':'front'})\n",
    "    dic[model] = dic[model].front.fillna(0)\n",
    "    dic[model] = dic[model].sortby('lat')\n",
    "    dic[model] = dic[model].sortby('lon')\n",
    "    dic[model] = dic[model].sel(time = slice('1981-03-01','2005-11-30'))\n",
    "    dic[model] = dic[model].groupby(dic[model].time.dt.season).mean(dim='time',skipna=True)\n",
    "    dic[model] = dic[model].interp(lat=new_lat, lon=new_lon,method='linear')\n",
    "    dic[model] = dic[model].fillna(0)\n",
    "    dic[model] = dic[model].sel(lat = slice(-60,-25))\n",
    "    dic[model] = dic[model].sel(lon = slice(-30,10))\n",
    "    dic[model] = dic[model]/(np.max(dic[model].values))"
   ]
  },
  {
   "cell_type": "code",
   "execution_count": null,
   "metadata": {},
   "outputs": [],
   "source": [
    "import matplotlib.ticker as mticker\n",
    "\n",
    "from cartopy.mpl.gridliner import LONGITUDE_FORMATTER, LATITUDE_FORMATTER"
   ]
  },
  {
   "cell_type": "code",
   "execution_count": null,
   "metadata": {},
   "outputs": [],
   "source": [
    "levels = np.linspace(0, 1, 101) "
   ]
  },
  {
   "cell_type": "code",
   "execution_count": 9,
   "metadata": {},
   "outputs": [],
   "source": [
    "for index in ['NOAA']:\n",
    "    for seas in ['DJF','MAM','JJA','SON']:\n",
    "        ax = plt.axes(projection=ccrs.PlateCarree())\n",
    "        #ax.coastlines('50m', linewidth=0.8)\n",
    "        a = ax.contourf(dic[index].lon.values,dic[index].lat.values,dic[index].sel(season = seas).values,levels = levels,cmap='bwr_r')\n",
    "        for c in a.collections:\n",
    "            c.set_edgecolor(\"face\")\n",
    "        gl = ax.gridlines(crs=ccrs.PlateCarree(), linewidth=2, color='black', alpha=0.5, linestyle='--', draw_labels=True)\n",
    "        gl.top_labels = False\n",
    "        gl.left_lables = False\n",
    "        gl.right_labels=True\n",
    "        gl.xlines = True\n",
    "        gl.xlocator = mticker.FixedLocator([-25,-15,-5,5,15])\n",
    "        gl.ylocator = mticker.FixedLocator([-32,-40,-48,-56])\n",
    "        gl.xformatter = LONGITUDE_FORMATTER\n",
    "        gl.yformatter = LATITUDE_FORMATTER\n",
    "        plt.title(str(seas))\n",
    "        plt.savefig('../FRONT_OUT/seasonality/'+str(index)+'_'+str(seas)+\".png\")\n",
    "        plt.savefig('../FRONT_OUT/seasonality/'+str(index)+'_'+str(seas)+\".pdf\")\n",
    "        plt.close()\n",
    "\n"
   ]
  },
  {
   "cell_type": "code",
   "execution_count": null,
   "metadata": {},
   "outputs": [],
   "source": [
    "plt.colorbar(a)\n",
    "plt.savefig('../FRONT_OUT/seasonality/seasonality_cbar.pdf',orientation= 'horizontal')"
   ]
  },
  {
   "cell_type": "code",
   "execution_count": 8,
   "metadata": {},
   "outputs": [],
   "source": [
    "levels = np.linspace(-1, 1, 201) "
   ]
  },
  {
   "cell_type": "code",
   "execution_count": 11,
   "metadata": {},
   "outputs": [],
   "source": [
    "for index in dic:\n",
    "    if index == 'NOAA':\n",
    "        pass\n",
    "    else: \n",
    "        ref = dic['NOAA'].mean(dim='season')\n",
    "        anom = dic[index].mean(dim='season') - ref\n",
    "        ax = plt.axes(projection=ccrs.PlateCarree())\n",
    "        ax.coastlines('50m', linewidth=0.8)\n",
    "        a = ax.contourf(anom.lon.values,anom.lat.values,anom.values,levels = levels, cmap = 'bwr_r')\n",
    "        for c in a.collections:\n",
    "            c.set_edgecolor(\"face\") \n",
    "        gl = ax.gridlines(crs=ccrs.PlateCarree(), linewidth=2, color='black', alpha=0.5, linestyle='--', draw_labels=True)\n",
    "        gl.top_labels = False\n",
    "        gl.left_lables = False\n",
    "        gl.right_labels=True\n",
    "        gl.xlines = True\n",
    "        gl.xlocator = mticker.FixedLocator([-25,-15,-5,5,15])\n",
    "        gl.ylocator = mticker.FixedLocator([-32,-40,-48,-56])\n",
    "        gl.xformatter = LONGITUDE_FORMATTER\n",
    "        gl.yformatter = LATITUDE_FORMATTER        \n",
    "        plt.title(str(index))\n",
    "        plt.savefig('../FRONT_OUT/annual_1981/'+str(index)+\"_annual_1981.png\")\n",
    "        plt.savefig('../FRONT_OUT/annual_1981/'+str(index)+\"_annual_1981.pdf\")\n",
    "        plt.close()"
   ]
  },
  {
   "cell_type": "code",
   "execution_count": 16,
   "metadata": {},
   "outputs": [],
   "source": [
    "for index in dic:\n",
    "    ref = dic[index].sel(season = 'DJF')\n",
    "    anom = dic[index].sel(season = 'JJA') - ref\n",
    "    ax = plt.axes(projection=ccrs.PlateCarree())\n",
    "    ax.coastlines('50m', linewidth=0.8) \n",
    "    a = ax.contourf(anom.lon.values,anom.lat.values,anom.values,levels = levels, cmap = 'bwr_r')\n",
    "    for c in a.collections:\n",
    "        c.set_edgecolor(\"face\")\n",
    "    plt.title(str(index))\n",
    "    plt.savefig('../FRONT_OUT/'+str(index)+'/'+str(index)+\"_seasonality.png\")\n",
    "    plt.savefig('../FRONT_OUT/'+str(index)+'/'+str(index)+\"_seasonality.pdf\")\n",
    "    plt.close()"
   ]
  },
  {
   "cell_type": "code",
   "execution_count": 17,
   "metadata": {},
   "outputs": [
    {
     "data": {
      "image/png": "[encoded data removed]",
      "text/plain": [
       "<Figure size 432x288 with 2 Axes>"
      ]
     },
     "metadata": {
      "needs_background": "light"
     },
     "output_type": "display_data"
    }
   ],
   "source": [
    "plt.colorbar(a)\n",
    "plt.savefig('../FRONT_OUT/anom_cbar.pdf')"
   ]
  },
  {
   "cell_type": "code",
   "execution_count": 18,
   "metadata": {},
   "outputs": [],
   "source": [
    "#client.close()"
   ]
  },
  {
   "cell_type": "code",
   "execution_count": 19,
   "metadata": {},
   "outputs": [],
   "source": [
    "files = glob.glob(\"../FRONT_FILES/2deg/3-hourly/*\")"
   ]
  },
  {
   "cell_type": "code",
   "execution_count": 20,
   "metadata": {},
   "outputs": [],
   "source": [
    "models = []\n",
    "for file in files:\n",
    "    models.append(file.split('/')[-1].split('_')[0])"
   ]
  },
  {
   "cell_type": "code",
   "execution_count": 21,
   "metadata": {},
   "outputs": [
    {
     "name": "stdout",
     "output_type": "stream",
     "text": [
      "GFDL-ESM2M\n",
      "MIROC-ESM-CHEM\n",
      "NOAA\n",
      "ACCESS1-3\n",
      "BNU-ESM\n",
      "MIROC4h\n",
      "IPSL-CM5A-LR\n",
      "MRI-CGCM3\n",
      "IPSL-CM5A-MR\n",
      "CNRM-CM5\n",
      "ERA5\n",
      "MIROC-ESM\n",
      "bcc-csm1-1-m\n",
      "GFDL-CM3\n",
      "ACCESS1-0\n",
      "MRI-ESM1\n",
      "bcc-csm1-1\n",
      "MIROC5\n",
      "GFDL-ESM2G\n"
     ]
    }
   ],
   "source": [
    "dic = {}\n",
    "for model,file in zip(models,files):\n",
    "    print(model)\n",
    "    dic[model] = xr.open_dataset(file)\n",
    "    dic[model] = dic[model].rename({'__xarray_dataarray_variable__':'front'})\n",
    "    dic[model] = dic[model].front.fillna(0)\n",
    "    dic[model] = dic[model].sel(lat = slice(-60,-25))\n",
    "    dic[model] = dic[model].sel(lon = slice(-30,10))\n",
    "    dic[model] = dic[model].sortby('lat')\n",
    "    dic[model] = dic[model].sortby('lon')\n",
    "    dic[model] = dic[model].groupby(dic[model].time.dt.season).mean(dim='time',skipna=True)\n",
    "    dic[model] = dic[model]/(np.max(dic[model].values))"
   ]
  },
  {
   "cell_type": "code",
   "execution_count": 22,
   "metadata": {},
   "outputs": [],
   "source": [
    "for index in dic:\n",
    "    if index == 'NOAA':\n",
    "        pass\n",
    "    else: \n",
    "        ref = dic['NOAA'].mean(dim='season')\n",
    "        anom = dic[index].mean(dim='season') - ref\n",
    "        ax = plt.axes(projection=ccrs.PlateCarree())\n",
    "        ax.coastlines('50m', linewidth=0.8)\n",
    "        a = ax.contourf(anom.lon.values,anom.lat.values,anom.values,levels = levels, cmap = 'bwr_r')\n",
    "        for c in a.collections:\n",
    "            c.set_edgecolor(\"face\")   \n",
    "        gl = ax.gridlines(crs=ccrs.PlateCarree(), linewidth=2, color='black', alpha=0.5, linestyle='--', draw_labels=True)\n",
    "        gl.top_labels = False\n",
    "        gl.left_lables = False\n",
    "        gl.right_labels=True\n",
    "        gl.xlines = True\n",
    "        gl.xlocator = mticker.FixedLocator([-25,-15,-5,5,15])\n",
    "        gl.ylocator = mticker.FixedLocator([-32,-40,-48,-56])\n",
    "        gl.xformatter = LONGITUDE_FORMATTER\n",
    "        gl.yformatter = LATITUDE_FORMATTER\n",
    "        plt.title(str(index))\n",
    "        plt.savefig('../FRONT_OUT/'+str(index)+'/'+str(index)+\"_annual_2deg.png\")\n",
    "        plt.savefig('../FRONT_OUT/'+str(index)+'/'+str(index)+\"_annual_2deg.pdf\")\n",
    "        plt.close()"
   ]
  },
  {
   "cell_type": "code",
   "execution_count": null,
   "metadata": {},
   "outputs": [],
   "source": []
  },
  {
   "cell_type": "code",
   "execution_count": 23,
   "metadata": {},
   "outputs": [],
   "source": [
    "client.close()"
   ]
  },
  {
   "cell_type": "code",
   "execution_count": null,
   "metadata": {},
   "outputs": [],
   "source": []
  }
 ],
 "metadata": {
  "kernelspec": {
   "display_name": "Python 3",
   "language": "python",
   "name": "python3"
  },
  "language_info": {
   "codemirror_mode": {
    "name": "ipython",
    "version": 3
   },
   "file_extension": ".py",
   "mimetype": "text/x-python",
   "name": "python",
   "nbconvert_exporter": "python",
   "pygments_lexer": "ipython3",
   "version": "3.7.6"
  }
 },
 "nbformat": 4,
 "nbformat_minor": 4
}
