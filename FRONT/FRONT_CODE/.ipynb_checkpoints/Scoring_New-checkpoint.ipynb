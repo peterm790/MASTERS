{
 "cells": [
  {
   "cell_type": "code",
   "execution_count": 1,
   "metadata": {},
   "outputs": [],
   "source": [
    "import numpy as np\n",
    "import pandas as pd\n",
    "import xarray as xr\n",
    "import math\n",
    "import dask\n",
    "import glob\n",
    "import seaborn as sns\n",
    "import seaborn as sns\n",
    "import matplotlib.pyplot as plt"
   ]
  },
  {
   "cell_type": "code",
   "execution_count": 2,
   "metadata": {},
   "outputs": [],
   "source": [
    "from dask.distributed import Client, LocalCluster\n",
    "if __name__ == \"__main__\":\n",
    "    cluster=LocalCluster(host=\"tcp://127.0.0.1:2419\",dashboard_address=\"127.0.0.1:2429\",n_workers=4)\n",
    "    client = Client(cluster)"
   ]
  },
  {
   "cell_type": "code",
   "execution_count": 3,
   "metadata": {},
   "outputs": [],
   "source": [
    "files = glob.glob(\"../FRONT_FILES/2deg/3-hourly/*\")\n",
    "\n",
    "models = []\n",
    "for file in files:\n",
    "    models.append(file.split('/')[-1].split('_')[0])"
   ]
  },
  {
   "cell_type": "code",
   "execution_count": 7,
   "metadata": {},
   "outputs": [
    {
     "name": "stdout",
     "output_type": "stream",
     "text": [
      "GFDL-ESM2M\n",
      "MIROC-ESM-CHEM\n",
      "NOAA\n",
      "ACCESS1-3\n",
      "BNU-ESM\n",
      "MIROC4h\n",
      "IPSL-CM5A-LR\n",
      "MRI-CGCM3\n",
      "IPSL-CM5A-MR\n",
      "CNRM-CM5\n",
      "ERA5\n",
      "MIROC-ESM\n",
      "bcc-csm1-1-m\n",
      "GFDL-CM3\n",
      "ACCESS1-0\n",
      "MRI-ESM1\n",
      "bcc-csm1-1\n",
      "MIROC5\n",
      "GFDL-ESM2G\n"
     ]
    }
   ],
   "source": [
    "dic = {}\n",
    "for model in models:\n",
    "    print(model)\n",
    "    if model == 'ERA5':\n",
    "        dic[model] = xr.open_dataset('../FRONT_FILES/2deg/3-hourly/ERA5_front_6hr.nc')\n",
    "    elif model == 'NOAA':\n",
    "        dic[model] = xr.open_dataset('../FRONT_FILES/2deg/3-hourly/NOAA_front_6hr.nc')\n",
    "    else:\n",
    "        dic[model] = xr.open_dataset('../FRONT_FILES/2deg/3-hourly/'+str(model)+'_front.nc')\n",
    "    dic[model] = dic[model].rename({'longitude':'lon'})\n",
    "    dic[model] = dic[model].rename({'latitude':'lat'})\n",
    "    zero = dic[model].where(dic[model].time.dt.hour == 0).dropna(dim='time',how='all')\n",
    "    twelve = dic[model].where(dic[model].time.dt.hour == 12).dropna(dim='time',how='all')\n",
    "    dic[model] = xr.DataArray(np.concatenate([zero.front.values,twelve.front.values]),dims=(\"time\",\"lat\", \"lon\"), coords={\"time\":np.concatenate([zero.time.values,twelve.time.values]),\"lon\":zero.lon.values ,\"lat\": zero.lat.values})\n",
    "    dic[model] = dic[model].sortby(dic[model].time)\n",
    "    dic[model] = dic[model].fillna(0)\n",
    "    dic[model] = dic[model].sel(lat = slice(-60,-25))\n",
    "    dic[model] = dic[model].sel(lon = slice(-30,10))\n",
    "    dic[model] = dic[model].sortby('lat')\n",
    "    dic[model] = dic[model].sortby('lon')\n",
    "    dic[model] = dic[model].sel(time = slice('1981-03-01','2005-11-30')) #change from 1950/1981 here\n",
    "    dic[model] = dic[model].groupby(dic[model].time.dt.season).mean(dim='time',skipna=True)\n",
    "    dic[model] = dic[model]/(np.max(dic[model].values))"
   ]
  },
  {
   "cell_type": "code",
   "execution_count": 8,
   "metadata": {},
   "outputs": [],
   "source": [
    "dic_2deg = dic"
   ]
  },
  {
   "cell_type": "code",
   "execution_count": 9,
   "metadata": {},
   "outputs": [],
   "source": [
    "files = glob.glob(\"../FRONT_FILES/native/3-hourly/*.nc\")\n",
    "\n",
    "models = []\n",
    "for file in files:\n",
    "    models.append(file.split('/')[-1].split('_')[0])"
   ]
  },
  {
   "cell_type": "code",
   "execution_count": 11,
   "metadata": {},
   "outputs": [],
   "source": [
    "new_lat = dic_2deg['NOAA'].lat.values\n",
    "new_lon = dic_2deg['NOAA'].lon.values"
   ]
  },
  {
   "cell_type": "code",
   "execution_count": 12,
   "metadata": {},
   "outputs": [
    {
     "name": "stdout",
     "output_type": "stream",
     "text": [
      "ERA5\n",
      "GFDL-CM3\n",
      "CNRM-CM5\n",
      "GFDL-ESM2M\n",
      "MIROC5\n",
      "GFDL-ESM2G\n",
      "bcc-csm1-1\n",
      "MIROC-ESM\n",
      "MIROC-ESM-CHEM\n",
      "MRI-ESM1\n",
      "IPSL-CM5A-MR\n",
      "NOAA\n",
      "MRI-CGCM3\n",
      "BNU-ESM\n",
      "ACCESS1-3\n",
      "ACCESS1-0\n",
      "bcc-csm1-1-m\n",
      "IPSL-CM5A-LR\n",
      "MIROC4h\n"
     ]
    }
   ],
   "source": [
    "dic = {}\n",
    "for model in models:\n",
    "    print(model)\n",
    "    dic[model] = xr.open_dataset('../FRONT_FILES/native/3-hourly/'+str(model)+'_front_native.nc')\n",
    "    dic[model] = dic[model].rename({'longitude':'lon'})\n",
    "    dic[model] = dic[model].rename({'latitude':'lat'})\n",
    "    zero = dic[model].where(dic[model].time.dt.hour == 0).dropna(dim='time',how='all')\n",
    "    twelve = dic[model].where(dic[model].time.dt.hour == 12).dropna(dim='time',how='all')\n",
    "    dic[model] = xr.DataArray(np.concatenate([zero.front.values,twelve.front.values]),dims=(\"time\",\"lat\", \"lon\"), coords={\"time\":np.concatenate([zero.time.values,twelve.time.values]),\"lon\":zero.lon.values ,\"lat\": zero.lat.values})\n",
    "    dic[model] = dic[model].sortby(dic[model].time)\n",
    "    dic[model] = dic[model].fillna(0)\n",
    "    dic[model] = dic[model].sortby('lat')\n",
    "    dic[model] = dic[model].sortby('lon')\n",
    "    dic[model] = dic[model].sel(time = slice('1981-03-01','2005-12-30'))  #change from 1950/1981 here\n",
    "    dic[model] = dic[model].groupby(dic[model].time.dt.season).mean(dim='time',skipna=True)\n",
    "    dic[model] = dic[model].interp(lat=new_lat, lon=new_lon,method='linear')\n",
    "    dic[model] = dic[model].fillna(0)\n",
    "    dic[model] = dic[model].sel(lat = slice(-60,-25))\n",
    "    dic[model] = dic[model].sel(lon = slice(-30,10))\n",
    "    dic[model] = dic[model]/(np.max(dic[model].values))"
   ]
  },
  {
   "cell_type": "code",
   "execution_count": 13,
   "metadata": {},
   "outputs": [],
   "source": [
    "dic_native = dic"
   ]
  },
  {
   "cell_type": "code",
   "execution_count": 14,
   "metadata": {},
   "outputs": [],
   "source": [
    "scores=[]\n",
    "for index in dic_native:\n",
    "    if index == 'MIROC4h':\n",
    "        pass\n",
    "    else:\n",
    "        MAE=[]\n",
    "        for seas in ['DJF','MAM','JJA','SON']:\n",
    "            ref = dic_native['NOAA'].sel(season = seas)\n",
    "            x = dic_native[index].sel(season = seas)\n",
    "            for i in ref.lat.values:\n",
    "                for j in ref.lon.values:\n",
    "                    MAE.append(float(np.abs(ref.sel(lat=i).sel(lon=j).values - x.sel(lat=i).sel(lon=j)).values))\n",
    "        scores.append([index,np.mean(MAE)])\n",
    "\n",
    "resultsdf = pd.DataFrame(np.array(scores),columns=['model','Score_Native'])"
   ]
  },
  {
   "cell_type": "code",
   "execution_count": 16,
   "metadata": {},
   "outputs": [],
   "source": [
    "scores=[]\n",
    "for index in dic_2deg:\n",
    "    if index == 'MIROC4h':\n",
    "        pass\n",
    "    else:\n",
    "        MAE=[]\n",
    "        for seas in ['DJF','MAM','JJA','SON']:\n",
    "            ref = dic_2deg['NOAA'].sel(season = seas)\n",
    "            x = dic_2deg[index].sel(season = seas)\n",
    "            for i in ref.lat.values:\n",
    "                for j in ref.lon.values:\n",
    "                    MAE.append(float(np.abs(ref.sel(lat=i).sel(lon=j).values - x.sel(lat=i).sel(lon=j)).values))\n",
    "        scores.append([index,np.mean(MAE)])\n",
    "\n",
    "resultsdf['Score_2deg'] = pd.DataFrame(np.array(scores),columns=['model','Score_2deg']).Score_2deg"
   ]
  },
  {
   "cell_type": "code",
   "execution_count": 18,
   "metadata": {},
   "outputs": [],
   "source": [
    "def getnormalized(df):\n",
    "    normalized_df=(df-df.min())/(df.max()-df.min())\n",
    "    return normalized_df"
   ]
  },
  {
   "cell_type": "code",
   "execution_count": 19,
   "metadata": {},
   "outputs": [],
   "source": [
    "resultsdf.Score_Native = getnormalized(resultsdf.Score_Native.astype(float))\n",
    "resultsdf.Score_2deg = getnormalized(resultsdf.Score_2deg.astype(float))"
   ]
  },
  {
   "cell_type": "code",
   "execution_count": 21,
   "metadata": {},
   "outputs": [],
   "source": [
    "resultsdf = resultsdf.set_index('model')"
   ]
  },
  {
   "cell_type": "code",
   "execution_count": 22,
   "metadata": {},
   "outputs": [],
   "source": [
    "resultsdf = resultsdf.sort_values('Score_Native')"
   ]
  },
  {
   "cell_type": "code",
   "execution_count": 23,
   "metadata": {},
   "outputs": [],
   "source": [
    "resultsdf.to_csv('../FRONT_OUT/scores_1981.csv')"
   ]
  },
  {
   "cell_type": "code",
   "execution_count": 2,
   "metadata": {},
   "outputs": [],
   "source": [
    "#previously computed by changing time selection above\n",
    "df = pd.read_csv('../FRONT_OUT/scores_1950.csv').set_index('model')"
   ]
  },
  {
   "cell_type": "code",
   "execution_count": 3,
   "metadata": {},
   "outputs": [],
   "source": [
    "df_1981 = pd.read_csv('../FRONT_OUT/scores_final_1981.csv').set_index('model').add_suffix('_1981')"
   ]
  },
  {
   "cell_type": "code",
   "execution_count": 4,
   "metadata": {},
   "outputs": [],
   "source": [
    "df['Score_Native_1981'] = df_1981.Score_Native_1981\n",
    "df['Score_2deg_1981'] = df_1981.Score_Native_1981"
   ]
  },
  {
   "cell_type": "code",
   "execution_count": 5,
   "metadata": {},
   "outputs": [],
   "source": [
    "df = df.sort_values('Score_Native_1981')"
   ]
  },
  {
   "cell_type": "code",
   "execution_count": 8,
   "metadata": {},
   "outputs": [
    {
     "data": {
      "image/png": "[encoded data removed]",
      "text/plain": [
       "<Figure size 1152x864 with 2 Axes>"
      ]
     },
     "metadata": {
      "needs_background": "light"
     },
     "output_type": "display_data"
    }
   ],
   "source": [
    "f, ax = plt.subplots(figsize=(16,12))\n",
    "map = sns.heatmap(df.round(3),cmap=sns.color_palette(\"RdPu\", 4), annot=True, linewidths=.5, ax=ax, xticklabels=1, yticklabels=1)\n",
    "map.set_xticklabels(['native','2deg','native 1981','2deg 1981'],rotation=45,horizontalalignment='right')\n",
    "plt.title('Cold Front Scores')\n",
    "plt.savefig('../FRONT_OUT/Scores_heatmap.pdf')\n",
    "plt.savefig('../FRONT_OUT/Scores_heatmap.png')\n",
    "plt.show()"
   ]
  },
  {
   "cell_type": "code",
   "execution_count": null,
   "metadata": {},
   "outputs": [],
   "source": []
  },
  {
   "cell_type": "code",
   "execution_count": null,
   "metadata": {},
   "outputs": [],
   "source": []
  },
  {
   "cell_type": "code",
   "execution_count": null,
   "metadata": {},
   "outputs": [],
   "source": [
    "# experimenting with including pressure or vwnd as a proxy to increase ensemble size "
   ]
  },
  {
   "cell_type": "code",
   "execution_count": null,
   "metadata": {},
   "outputs": [],
   "source": [
    "psl_files = []\n",
    "for model in models:\n",
    "    if model=='NOAA':\n",
    "        psl_files.append('../NOAA_files/NOAA_vwnd_1950_2005_sel.nc')\n",
    "    elif model=='ERA5':\n",
    "        pass\n",
    "        #psl_files.append(glob.glob('/home/pmarsh/MASTERS/FRONT/FRONT_FILES/2deg/psl/ERA5/*'))\n",
    "    else:\n",
    "        file = glob.glob(str('/terra/data/cmip5/global/historical/'+str(model)+'/r1i1p1/mon/2deg/vas*'))\n",
    "        if len(file)>=1:\n",
    "            psl_files.append(file)\n",
    "        else:\n",
    "            psl_files.append('NaN')\n",
    "\n",
    "psl_dic = {}\n",
    "for model,file in zip(models,psl_files):\n",
    "    if file == 'NaN':\n",
    "        pass\n",
    "    else:\n",
    "        psl = xr.open_mfdataset(file)\n",
    "        psl = psl.sel(lat = slice(-60,-25))\n",
    "        psl = psl.sel(lon = slice(-30,10))\n",
    "        psl = psl.vas.groupby(vas.time.dt.season).mean(dim='time',skipna=True) \n",
    "        psl_dic[model] = psl/np.max(psl.values)\n",
    "        psl_dic[model] = psl_dic[model].load()\n",
    "\n",
    "scores=[]\n",
    "for index,file in zip(models,psl_files):\n",
    "    if file == 'NaN':\n",
    "        scores.append([index,np.NaN])\n",
    "    else:\n",
    "        MAE=[]\n",
    "        for seas in ['DJF','MAM','JJA','SON']:\n",
    "            ref = psl_dic['NOAA'].sel(season = seas)#/np.max(dic['NOAA'].sel(season = seas))\n",
    "            x = psl_dic[index].sel(season = seas)#/np.max(dic[index].sel(season = seas))\n",
    "            for i in ref.lat.values:\n",
    "                for j in ref.lon.values:\n",
    "                    MAE.append(float(np.abs(ref.sel(lat=i).sel(lon=j).values - x.sel(lat=i).sel(lon=j)).values))\n",
    "        scores.append([index,np.mean(MAE)])\n",
    "\n",
    "df2 = pd.DataFrame(np.array(scores),columns=['model','Score_psl'])\n",
    "df2.Score_psl = getnormalizerd(df2.Score_psl.astype(float))\n",
    "df2 = df2.set_index('model')\n",
    "\n",
    "resultsdf['psl'] = df2.Score_psl\n",
    "\n",
    "df = resultsdf.sort_values('Score_2deg')"
   ]
  },
  {
   "cell_type": "code",
   "execution_count": null,
   "metadata": {},
   "outputs": [],
   "source": [
    "df"
   ]
  },
  {
   "cell_type": "code",
   "execution_count": null,
   "metadata": {},
   "outputs": [],
   "source": [
    "f, ax = plt.subplots(figsize=(16,12))\n",
    "map = sns.heatmap(df.round(3),cmap=sns.color_palette(\"RdPu\", 4), annot=True, linewidths=.5, ax=ax, xticklabels=1, yticklabels=1)\n",
    "map.set_xticklabels(['Native','2deg','psl'],rotation=45,horizontalalignment='right')\n",
    "plt.title('Cold Front Scores')\n",
    "plt.show()"
   ]
  },
  {
   "cell_type": "code",
   "execution_count": null,
   "metadata": {},
   "outputs": [],
   "source": []
  },
  {
   "cell_type": "code",
   "execution_count": null,
   "metadata": {},
   "outputs": [],
   "source": []
  },
  {
   "cell_type": "code",
   "execution_count": null,
   "metadata": {},
   "outputs": [],
   "source": []
  },
  {
   "cell_type": "code",
   "execution_count": 31,
   "metadata": {},
   "outputs": [],
   "source": [
    "client.close()"
   ]
  }
 ],
 "metadata": {
  "kernelspec": {
   "display_name": "Python 3",
   "language": "python",
   "name": "python3"
  },
  "language_info": {
   "codemirror_mode": {
    "name": "ipython",
    "version": 3
   },
   "file_extension": ".py",
   "mimetype": "text/x-python",
   "name": "python",
   "nbconvert_exporter": "python",
   "pygments_lexer": "ipython3",
   "version": "3.8.3"
  }
 },
 "nbformat": 4,
 "nbformat_minor": 4
}
