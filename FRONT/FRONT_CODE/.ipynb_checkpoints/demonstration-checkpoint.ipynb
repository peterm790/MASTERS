{
 "cells": [
  {
   "cell_type": "code",
   "execution_count": 1,
   "metadata": {},
   "outputs": [],
   "source": [
    "import numpy as np\n",
    "import pandas as pd\n",
    "import xarray as xr\n",
    "import math\n",
    "import dask\n",
    "import glob\n",
    "import seaborn as sns\n",
    "import seaborn as sns\n",
    "import matplotlib.pyplot as plt"
   ]
  },
  {
   "cell_type": "code",
   "execution_count": 2,
   "metadata": {},
   "outputs": [],
   "source": [
    "from dask.distributed import Client, LocalCluster\n",
    "if __name__ == \"__main__\":\n",
    "    cluster=LocalCluster(host=\"tcp://127.0.0.1:2452\",dashboard_address=\"127.0.0.1:2462\",n_workers=4)\n",
    "    client = Client(cluster)"
   ]
  },
  {
   "cell_type": "code",
   "execution_count": null,
   "metadata": {},
   "outputs": [],
   "source": []
  },
  {
   "cell_type": "code",
   "execution_count": null,
   "metadata": {},
   "outputs": [],
   "source": []
  },
  {
   "cell_type": "code",
   "execution_count": null,
   "metadata": {},
   "outputs": [],
   "source": []
  },
  {
   "cell_type": "code",
   "execution_count": null,
   "metadata": {},
   "outputs": [],
   "source": [
    "    fig = plt.figure(figsize=(16, 9))\n",
    "    plt.gca().set_visible(False)\n",
    "    gs = gridspec.GridSpec(nrows=9,\n",
    "                           ncols=9,\n",
    "                           figure=fig,\n",
    "                           width_ratios= [1, 1, 1, 1, 1, 1, 1, 1, 1],\n",
    "                           height_ratios=[1, 1, 1, 1, 1, 1, 1, 1, 1],\n",
    "                           wspace=0.1,\n",
    "                           hspace=0.1)\n",
    "    ax1 = fig.add_subplot(gs[1:8,0:3], projection=ccrs.PlateCarree())\n",
    "    ax1.coastlines()\n",
    "    z = dhigh.sel(time=dhigh.time[i].values).plot(ax=ax1,vmin=vmin, vmax=vmax,cmap=cmap, norm=DivergingNorm(0),add_colorbar=False)\n",
    "    plt.gca().outline_patch.set_visible(False)\n",
    "    plt.title('250 hPa', fontsize=16, ha='center')\n",
    "    ax2 = fig.add_subplot(gs[1:8,3:6], projection=ccrs.PlateCarree())\n",
    "    ax2.coastlines()\n",
    "    dnofilter.sel(time=dnofilter.time[i].values).plot(ax=ax2,vmin=vmin, vmax=vmax,cmap=cmap, norm=DivergingNorm(0),add_colorbar=False)\n",
    "    plt.gca().outline_patch.set_visible(False)\n",
    "    plt.title('850-700 hPa Pressure Weighted', fontsize=16, ha='center')\n",
    "    plt.text(0.5, 1.08,str(models)+' Zonal Wind \\n '+str(dhigh.time[i].values), fontsize=16, ha='center')\n",
    "    ax3 = fig.add_subplot(gs[1:8,6:9], projection=ccrs.PlateCarree())\n",
    "    ax3.coastlines()\n",
    "    d10day.sel(time=d10day.time[i].values).plot(ax=ax3,vmin=vmin, vmax=vmax,cmap=cmap, norm=DivergingNorm(0),add_colorbar=False)\n",
    "    plt.axhline(y=values[0][i],color='r', linestyle='-')\n",
    "    plt.text(35, values[0][i], str(round(values[1][i],1)))\n",
    "    plt.axhline(y=values[2][i][0],color='r', linestyle='dashed')\n",
    "    plt.axhline(y=values[2][i][1],color='r', linestyle='dashed')\n",
    "    plt.gca().outline_patch.set_visible(False)\n",
    "    plt.title('Lanczos Filter Applied', fontsize=16, ha='center')\n",
    "    ax4 = fig.add_subplot(gs[8:9,0:9])\n",
    "    img = dhigh.sel(time=dhigh.time[i].values).plot(ax=ax4,vmin=vmin, vmax=vmax,cmap=cmap, norm=DivergingNorm(0),add_colorbar=False)\n",
    "    plt.gca().set_visible(False)\n",
    "    cax = plt.axes([0.12, 0.25, 0.789, 0.03])\n",
    "    plt.colorbar(z,orientation= 'horizontal', cax=cax)\n",
    "    plt.text(27, -140,'m/s', fontsize=16, ha='center')\n",
    "    plt.savefig('../../JET_STREAM_OUT/jet1D/demonstration/'+str(i)+'_togif.png')\n",
    "    plt.close()"
   ]
  }
 ],
 "metadata": {
  "kernelspec": {
   "display_name": "Dask [shared installation]",
   "language": "python",
   "name": "dask"
  },
  "language_info": {
   "codemirror_mode": {
    "name": "ipython",
    "version": 3
   },
   "file_extension": ".py",
   "mimetype": "text/x-python",
   "name": "python",
   "nbconvert_exporter": "python",
   "pygments_lexer": "ipython3",
   "version": "3.8.8"
  }
 },
 "nbformat": 4,
 "nbformat_minor": 4
}
