{
 "cells": [
  {
   "cell_type": "code",
   "execution_count": 1,
   "metadata": {},
   "outputs": [],
   "source": [
    "import numpy as np\n",
    "import pandas as pd\n",
    "import xarray as xr\n",
    "import math\n",
    "import dask\n",
    "import glob\n",
    "import seaborn as sns\n",
    "import seaborn as sns\n",
    "import matplotlib.pyplot as plt"
   ]
  },
  {
   "cell_type": "code",
   "execution_count": 2,
   "metadata": {},
   "outputs": [],
   "source": [
    "from dask.distributed import Client, LocalCluster\n",
    "if __name__ == \"__main__\":\n",
    "    cluster=LocalCluster(host=\"tcp://127.0.0.1:2459\",dashboard_address=\"127.0.0.1:2469\",n_workers=4)\n",
    "    client = Client(cluster)"
   ]
  },
  {
   "cell_type": "code",
   "execution_count": 3,
   "metadata": {},
   "outputs": [],
   "source": [
    "files = glob.glob(\"/home/pmarsh/MASTERS/FRONT/FRONT_FILES/native/3-hourly/2deg/*\")"
   ]
  },
  {
   "cell_type": "code",
   "execution_count": 4,
   "metadata": {},
   "outputs": [],
   "source": [
    "models = []\n",
    "for file in files:\n",
    "    models.append(file.split('/')[-1].split('_')[1])"
   ]
  },
  {
   "cell_type": "code",
   "execution_count": 5,
   "metadata": {},
   "outputs": [
    {
     "data": {
      "text/plain": [
       "['MRI-CGCM3',\n",
       " 'GFDL-CM3',\n",
       " 'ACCESS1-3',\n",
       " 'IPSL-CM5A-LR',\n",
       " 'CNRM-CM5',\n",
       " 'GFDL-ESM2G',\n",
       " 'MIROC-ESM',\n",
       " 'MIROC-ESM-CHEM',\n",
       " 'NOAA',\n",
       " 'ERA5',\n",
       " 'bcc-csm1-1-m',\n",
       " 'MRI-ESM1',\n",
       " 'ACCESS1-0',\n",
       " 'MIROC5',\n",
       " 'BNU-ESM',\n",
       " 'GFDL-ESM2M',\n",
       " 'bcc-csm1-1',\n",
       " 'MIROC4h',\n",
       " 'IPSL-CM5A-MR']"
      ]
     },
     "execution_count": 5,
     "metadata": {},
     "output_type": "execute_result"
    }
   ],
   "source": [
    "models"
   ]
  },
  {
   "cell_type": "code",
   "execution_count": 6,
   "metadata": {},
   "outputs": [
    {
     "name": "stdout",
     "output_type": "stream",
     "text": [
      "CPU times: user 1min 27s, sys: 42.8 s, total: 2min 10s\n",
      "Wall time: 7min 33s\n"
     ]
    }
   ],
   "source": [
    "%%time\n",
    "dic = {}\n",
    "for model,file in zip(models,files):\n",
    "    dic[model] = xr.open_dataset(file)\n",
    "    zero = dic[model].where(dic[model].time.dt.hour == 0).dropna(dim='time',how='all')\n",
    "    #six = dic[model].where(dic[model].time.dt.hour == 6).dropna(dim='time',how='all')\n",
    "    twelve = dic[model].where(dic[model].time.dt.hour == 12).dropna(dim='time',how='all')\n",
    "    #eighteen = dic[model].where(dic[model].time.dt.hour == 18).dropna(dim='time',how='all')\n",
    "    #dic[model] = xr.DataArray(np.concatenate([zero.front.values,six.front.values,twelve.front.values,eighteen.front.values]),dims=(\"time\",\"lat\", \"lon\"), coords={\"time\":np.concatenate([zero.time.values,six.time.values,twelve.time.values,eighteen.time.values]),\"lon\":zero.lon.values ,\"lat\": zero.lat.values})\n",
    "    dic[model] = xr.DataArray(np.concatenate([zero.front.values,twelve.front.values]),dims=(\"time\",\"lat\", \"lon\"), coords={\"time\":np.concatenate([zero.time.values,twelve.time.values]),\"lon\":zero.lon.values ,\"lat\": zero.lat.values})\n",
    "    dic[model] = dic[model].sortby(dic[model].time)\n",
    "    #dic[model] = dic[model].where(dic[model].time.dt.hour == 0).dropna(dim='time',how='all').front\n",
    "    dic[model] = dic[model].sel(lat = slice(-70,-14))\n",
    "    dic[model] = dic[model].sel(lon = slice(-36,26))\n",
    "    dic[model] = dic[model].fillna(0)\n",
    "    dic[model] = dic[model].groupby(dic[model].time.dt.season).mean(dim='time',skipna=True)\n",
    "    dic[model] = dic[model]/(np.max(dic[model].values))"
   ]
  },
  {
   "cell_type": "code",
   "execution_count": null,
   "metadata": {},
   "outputs": [],
   "source": []
  },
  {
   "cell_type": "code",
   "execution_count": null,
   "metadata": {},
   "outputs": [],
   "source": []
  },
  {
   "cell_type": "code",
   "execution_count": 7,
   "metadata": {},
   "outputs": [],
   "source": [
    "scores=[]\n",
    "for index in dic:\n",
    "    MAE=[]\n",
    "    for seas in ['DJF','MAM','JJA','SON']:\n",
    "        ref = dic['NOAA'].sel(season = seas)#/np.max(dic['NOAA'].sel(season = seas))\n",
    "        x = dic[index].sel(season = seas)#/np.max(dic[index].sel(season = seas))\n",
    "        for i in ref.lat.values:\n",
    "            for j in ref.lon.values:\n",
    "                MAE.append(float(np.abs(ref.sel(lat=i).sel(lon=j).values - x.sel(lat=i).sel(lon=j)).values))\n",
    "    scores.append([index,np.mean(MAE)])"
   ]
  },
  {
   "cell_type": "code",
   "execution_count": 8,
   "metadata": {},
   "outputs": [],
   "source": [
    "resultsdf = pd.DataFrame(np.array(scores),columns=['model','Score_Native'])\n",
    "#resultsdf = resultsdf.sort_values('Score_Native')"
   ]
  },
  {
   "cell_type": "code",
   "execution_count": 9,
   "metadata": {},
   "outputs": [],
   "source": [
    "def getnormalizerd(df):\n",
    "    normalized_df=(df-df.min())/(df.max()-df.min())\n",
    "    return normalized_df"
   ]
  },
  {
   "cell_type": "code",
   "execution_count": 10,
   "metadata": {},
   "outputs": [],
   "source": [
    "resultsdf.Score_Native = getnormalizerd(resultsdf.Score_Native.astype(float))"
   ]
  },
  {
   "cell_type": "code",
   "execution_count": 11,
   "metadata": {},
   "outputs": [],
   "source": [
    "resultsdf = resultsdf.set_index('model')"
   ]
  },
  {
   "cell_type": "code",
   "execution_count": null,
   "metadata": {},
   "outputs": [],
   "source": []
  },
  {
   "cell_type": "code",
   "execution_count": 12,
   "metadata": {},
   "outputs": [],
   "source": [
    "dic = {}\n",
    "for model in models:\n",
    "    if model == 'ERA5':\n",
    "        dic[model] = xr.open_dataset('/home/pmarsh/MASTERS/FRONT/FRONT_FILES/2deg/3-hourly/ERA5_front_6hr.nc')\n",
    "    elif model == 'NOAA':\n",
    "        dic[model] = xr.open_dataset('/home/pmarsh/MASTERS/FRONT/FRONT_FILES/2deg/3-hourly/NOAA_front_6hr.nc')\n",
    "    else:\n",
    "        dic[model] = xr.open_dataset('/home/pmarsh/MASTERS/FRONT/FRONT_FILES/2deg/3-hourly/'+str(model)+'_front.nc')\n",
    "    dic[model] = dic[model].rename({'longitude':'lon'})\n",
    "    dic[model] = dic[model].rename({'latitude':'lat'})\n",
    "    dic[model] = dic[model].sel(lat = slice(-70,-14))\n",
    "    dic[model] = dic[model].sel(lon = slice(-36,26))\n",
    "    zero = dic[model].where(dic[model].time.dt.hour == 0).dropna(dim='time',how='all')\n",
    "    #six = dic[model].where(dic[model].time.dt.hour == 6).dropna(dim='time',how='all')\n",
    "    twelve = dic[model].where(dic[model].time.dt.hour == 12).dropna(dim='time',how='all')\n",
    "    #eighteen = dic[model].where(dic[model].time.dt.hour == 18).dropna(dim='time',how='all')\n",
    "    #dic[model] = xr.DataArray(np.concatenate([zero.front.values,six.front.values,twelve.front.values,eighteen.front.values]),dims=(\"time\",\"lat\", \"lon\"), coords={\"time\":np.concatenate([zero.time.values,six.time.values,twelve.time.values,eighteen.time.values]),\"lon\":zero.lon.values ,\"lat\": zero.lat.values})\n",
    "    dic[model] = xr.DataArray(np.concatenate([zero.front.values,twelve.front.values]),dims=(\"time\",\"lat\", \"lon\"), coords={\"time\":np.concatenate([zero.time.values,twelve.time.values]),\"lon\":zero.lon.values ,\"lat\": zero.lat.values})\n",
    "    dic[model] = dic[model].sortby(dic[model].time)\n",
    "    #dic[model] = dic[model].where(dic[model].time.dt.hour == 12).dropna(dim='time',how='all')\n",
    "    dic[model] = dic[model].fillna(0)\n",
    "    dic[model] = dic[model].groupby(dic[model].time.dt.season).mean(dim='time',skipna=True)\n",
    "    dic[model] = dic[model]/(np.max(dic[model].values))"
   ]
  },
  {
   "cell_type": "code",
   "execution_count": 13,
   "metadata": {},
   "outputs": [],
   "source": [
    "scores=[]\n",
    "for index in dic:\n",
    "    MAE=[]\n",
    "    for seas in ['DJF','MAM','JJA','SON']:\n",
    "        ref = dic['NOAA'].sel(season = seas)#/np.max(dic['NOAA'].sel(season = seas))\n",
    "        x = dic[index].sel(season = seas)#/np.max(dic[index].sel(season = seas))\n",
    "        for i in ref.lat.values:\n",
    "            for j in ref.lon.values:\n",
    "                MAE.append(float(np.abs(ref.sel(lat=i).sel(lon=j).values - x.sel(lat=i).sel(lon=j)).values))\n",
    "    scores.append([index,np.mean(MAE)])"
   ]
  },
  {
   "cell_type": "code",
   "execution_count": 14,
   "metadata": {},
   "outputs": [],
   "source": [
    "df2 = pd.DataFrame(np.array(scores),columns=['model','Score_2deg'])\n",
    "#df2 = df2.sort_values('Score_2deg')\n",
    "df2.Score_2deg = getnormalizerd(df2.Score_2deg.astype(float))\n",
    "df2 = df2.set_index('model')"
   ]
  },
  {
   "cell_type": "code",
   "execution_count": 15,
   "metadata": {},
   "outputs": [],
   "source": [
    "resultsdf['two_deg'] = df2.Score_2deg"
   ]
  },
  {
   "cell_type": "code",
   "execution_count": 16,
   "metadata": {},
   "outputs": [],
   "source": [
    "df = resultsdf.sort_values('Score_Native')"
   ]
  },
  {
   "cell_type": "code",
   "execution_count": 87,
   "metadata": {},
   "outputs": [],
   "source": [
    "df.to_csv('/home/pmarsh/MASTERS/FRONT/FRONT_OUT/scores_final.csv')"
   ]
  },
  {
   "cell_type": "code",
   "execution_count": 17,
   "metadata": {},
   "outputs": [
    {
     "data": {
      "image/png": "[encoded data removed]",
      "text/plain": [
       "<Figure size 1152x864 with 2 Axes>"
      ]
     },
     "metadata": {
      "needs_background": "light"
     },
     "output_type": "display_data"
    }
   ],
   "source": [
    "f, ax = plt.subplots(figsize=(16,12))\n",
    "map = sns.heatmap(df.round(3),cmap=sns.color_palette(\"RdPu\", 4), annot=True, linewidths=.5, ax=ax, xticklabels=1, yticklabels=1)\n",
    "map.set_xticklabels(['Native','Regridded'],rotation=45,horizontalalignment='right')\n",
    "plt.title('Cold Front Scores')\n",
    "plt.savefig('/home/pmarsh/MASTERS/FRONT/FRONT_OUTScores_heatmap_6hr_final.pdf')\n",
    "plt.savefig('/home/pmarsh/MASTERS/FRONT/FRONT_OUT/Scores_heatmap_6hr_final.png')\n",
    "plt.show()"
   ]
  },
  {
   "cell_type": "code",
   "execution_count": 18,
   "metadata": {},
   "outputs": [
    {
     "data": {
      "text/html": [
       "<div>\n",
       "<style scoped>\n",
       "    .dataframe tbody tr th:only-of-type {\n",
       "        vertical-align: middle;\n",
       "    }\n",
       "\n",
       "    .dataframe tbody tr th {\n",
       "        vertical-align: top;\n",
       "    }\n",
       "\n",
       "    .dataframe thead th {\n",
       "        text-align: right;\n",
       "    }\n",
       "</style>\n",
       "<table border=\"1\" class=\"dataframe\">\n",
       "  <thead>\n",
       "    <tr style=\"text-align: right;\">\n",
       "      <th></th>\n",
       "      <th>Score_Native</th>\n",
       "      <th>two_deg</th>\n",
       "    </tr>\n",
       "    <tr>\n",
       "      <th>model</th>\n",
       "      <th></th>\n",
       "      <th></th>\n",
       "    </tr>\n",
       "  </thead>\n",
       "  <tbody>\n",
       "    <tr>\n",
       "      <th>MRI-CGCM3</th>\n",
       "      <td>0.417066</td>\n",
       "      <td>0.536462</td>\n",
       "    </tr>\n",
       "    <tr>\n",
       "      <th>GFDL-CM3</th>\n",
       "      <td>0.469458</td>\n",
       "      <td>0.854603</td>\n",
       "    </tr>\n",
       "    <tr>\n",
       "      <th>ACCESS1-3</th>\n",
       "      <td>0.448746</td>\n",
       "      <td>0.713084</td>\n",
       "    </tr>\n",
       "    <tr>\n",
       "      <th>IPSL-CM5A-LR</th>\n",
       "      <td>1.000000</td>\n",
       "      <td>1.000000</td>\n",
       "    </tr>\n",
       "    <tr>\n",
       "      <th>CNRM-CM5</th>\n",
       "      <td>0.534470</td>\n",
       "      <td>0.609212</td>\n",
       "    </tr>\n",
       "    <tr>\n",
       "      <th>GFDL-ESM2G</th>\n",
       "      <td>0.434191</td>\n",
       "      <td>0.780106</td>\n",
       "    </tr>\n",
       "    <tr>\n",
       "      <th>MIROC-ESM</th>\n",
       "      <td>0.641540</td>\n",
       "      <td>0.507646</td>\n",
       "    </tr>\n",
       "    <tr>\n",
       "      <th>MIROC-ESM-CHEM</th>\n",
       "      <td>0.612976</td>\n",
       "      <td>0.562211</td>\n",
       "    </tr>\n",
       "    <tr>\n",
       "      <th>NOAA</th>\n",
       "      <td>0.000000</td>\n",
       "      <td>0.000000</td>\n",
       "    </tr>\n",
       "    <tr>\n",
       "      <th>ERA5</th>\n",
       "      <td>0.243568</td>\n",
       "      <td>0.408990</td>\n",
       "    </tr>\n",
       "    <tr>\n",
       "      <th>bcc-csm1-1-m</th>\n",
       "      <td>0.293644</td>\n",
       "      <td>0.821887</td>\n",
       "    </tr>\n",
       "    <tr>\n",
       "      <th>MRI-ESM1</th>\n",
       "      <td>0.425693</td>\n",
       "      <td>0.541903</td>\n",
       "    </tr>\n",
       "    <tr>\n",
       "      <th>ACCESS1-0</th>\n",
       "      <td>0.431752</td>\n",
       "      <td>0.758284</td>\n",
       "    </tr>\n",
       "    <tr>\n",
       "      <th>MIROC5</th>\n",
       "      <td>0.345011</td>\n",
       "      <td>0.398578</td>\n",
       "    </tr>\n",
       "    <tr>\n",
       "      <th>BNU-ESM</th>\n",
       "      <td>0.489113</td>\n",
       "      <td>0.719067</td>\n",
       "    </tr>\n",
       "    <tr>\n",
       "      <th>GFDL-ESM2M</th>\n",
       "      <td>0.492854</td>\n",
       "      <td>0.834437</td>\n",
       "    </tr>\n",
       "    <tr>\n",
       "      <th>bcc-csm1-1</th>\n",
       "      <td>0.473002</td>\n",
       "      <td>0.555270</td>\n",
       "    </tr>\n",
       "    <tr>\n",
       "      <th>MIROC4h</th>\n",
       "      <td>0.391619</td>\n",
       "      <td>0.518786</td>\n",
       "    </tr>\n",
       "    <tr>\n",
       "      <th>IPSL-CM5A-MR</th>\n",
       "      <td>0.598889</td>\n",
       "      <td>0.611126</td>\n",
       "    </tr>\n",
       "  </tbody>\n",
       "</table>\n",
       "</div>"
      ],
      "text/plain": [
       "                Score_Native   two_deg\n",
       "model                                 \n",
       "MRI-CGCM3           0.417066  0.536462\n",
       "GFDL-CM3            0.469458  0.854603\n",
       "ACCESS1-3           0.448746  0.713084\n",
       "IPSL-CM5A-LR        1.000000  1.000000\n",
       "CNRM-CM5            0.534470  0.609212\n",
       "GFDL-ESM2G          0.434191  0.780106\n",
       "MIROC-ESM           0.641540  0.507646\n",
       "MIROC-ESM-CHEM      0.612976  0.562211\n",
       "NOAA                0.000000  0.000000\n",
       "ERA5                0.243568  0.408990\n",
       "bcc-csm1-1-m        0.293644  0.821887\n",
       "MRI-ESM1            0.425693  0.541903\n",
       "ACCESS1-0           0.431752  0.758284\n",
       "MIROC5              0.345011  0.398578\n",
       "BNU-ESM             0.489113  0.719067\n",
       "GFDL-ESM2M          0.492854  0.834437\n",
       "bcc-csm1-1          0.473002  0.555270\n",
       "MIROC4h             0.391619  0.518786\n",
       "IPSL-CM5A-MR        0.598889  0.611126"
      ]
     },
     "execution_count": 18,
     "metadata": {},
     "output_type": "execute_result"
    }
   ],
   "source": [
    "resultsdf"
   ]
  },
  {
   "cell_type": "code",
   "execution_count": 53,
   "metadata": {},
   "outputs": [],
   "source": [
    "psl_files = []\n",
    "for model in models:\n",
    "    if model=='NOAA':\n",
    "        psl_files.append('/home/pmarsh/MASTERS/FRONT/NOAA_files/2deg_NOAA_psl_1950_2005_sel.nc')\n",
    "    elif model=='ERA5':\n",
    "        psl_files.append(glob.glob('/home/pmarsh/MASTERS/FRONT/FRONT_FILES/2deg/psl/ERA5/*'))\n",
    "    else:\n",
    "        file = glob.glob(str('/terra/data/cmip5/global/historical/'+str(model)+'/r1i1p1/mon/2deg/psl*'))\n",
    "        if len(file)>=1:\n",
    "            psl_files.append(file)\n",
    "        else:\n",
    "            psl_files.append('NaN')"
   ]
  },
  {
   "cell_type": "code",
   "execution_count": 85,
   "metadata": {},
   "outputs": [],
   "source": [
    "psl_dic = {}\n",
    "for model,file in zip(models,psl_files):\n",
    "    if file == 'NaN':\n",
    "        pass\n",
    "    else:\n",
    "        psl = xr.open_mfdataset(file)\n",
    "        psl = psl.sel(lat = slice(-70,-14))\n",
    "        psl = psl.sel(lon = slice(-36,26))\n",
    "        psl = psl.psl.groupby(psl.time.dt.season).mean(dim='time',skipna=True) \n",
    "        psl_dic[model] = psl/np.max(psl.values)\n",
    "        psl_dic[model] = psl_dic[model].load()"
   ]
  },
  {
   "cell_type": "code",
   "execution_count": null,
   "metadata": {},
   "outputs": [],
   "source": []
  },
  {
   "cell_type": "code",
   "execution_count": 96,
   "metadata": {},
   "outputs": [],
   "source": [
    "scores=[]\n",
    "for index,file in zip(models,psl_files):\n",
    "    if file == 'NaN':\n",
    "        scores.append([index,np.NaN])\n",
    "    else:\n",
    "        MAE=[]\n",
    "        for seas in ['DJF','MAM','JJA','SON']:\n",
    "            ref = psl_dic['NOAA'].sel(season = seas)#/np.max(dic['NOAA'].sel(season = seas))\n",
    "            x = psl_dic[index].sel(season = seas)#/np.max(dic[index].sel(season = seas))\n",
    "            for i in ref.lat.values:\n",
    "                for j in ref.lon.values:\n",
    "                    MAE.append(float(np.abs(ref.sel(lat=i).sel(lon=j).values - x.sel(lat=i).sel(lon=j)).values))\n",
    "        scores.append([index,np.mean(MAE)])"
   ]
  },
  {
   "cell_type": "code",
   "execution_count": 97,
   "metadata": {},
   "outputs": [
    {
     "data": {
      "text/plain": [
       "[['MRI-CGCM3', 0.0018160676284294044],\n",
       " ['GFDL-CM3', nan],\n",
       " ['ACCESS1-3', 0.001014039884986622],\n",
       " ['IPSL-CM5A-LR', 0.002930958938252713],\n",
       " ['CNRM-CM5', 0.001407191057556442],\n",
       " ['GFDL-ESM2G', nan],\n",
       " ['MIROC-ESM', 0.0029117002517783214],\n",
       " ['MIROC-ESM-CHEM', 0.002862654676261757],\n",
       " ['NOAA', 0.0],\n",
       " ['ERA5', 0.000939192100694137],\n",
       " ['bcc-csm1-1-m', 0.0026645334104874303],\n",
       " ['MRI-ESM1', 0.0016405266110918351],\n",
       " ['ACCESS1-0', 0.0008196864842570253],\n",
       " ['MIROC5', 0.002187537295477731],\n",
       " ['BNU-ESM', nan],\n",
       " ['GFDL-ESM2M', nan],\n",
       " ['bcc-csm1-1', 0.0016654511148642217],\n",
       " ['MIROC4h', nan],\n",
       " ['IPSL-CM5A-MR', 0.0021112325069095406]]"
      ]
     },
     "execution_count": 97,
     "metadata": {},
     "output_type": "execute_result"
    }
   ],
   "source": [
    "scores"
   ]
  },
  {
   "cell_type": "code",
   "execution_count": 98,
   "metadata": {},
   "outputs": [],
   "source": [
    "df3 = pd.DataFrame(np.array(scores),columns=['model','Score_psl'])\n",
    "df3.Score_psl = getnormalizerd(df3.Score_psl.astype(float))\n",
    "df3 = df3.set_index('model')"
   ]
  },
  {
   "cell_type": "code",
   "execution_count": 99,
   "metadata": {},
   "outputs": [],
   "source": [
    "resultsdf['psl'] = df3.Score_psl"
   ]
  },
  {
   "cell_type": "code",
   "execution_count": 112,
   "metadata": {},
   "outputs": [],
   "source": [
    "df = resultsdf.sort_values('psl')"
   ]
  },
  {
   "cell_type": "code",
   "execution_count": 109,
   "metadata": {},
   "outputs": [],
   "source": [
    "dfsub = df[['Score_Native','psl']]"
   ]
  },
  {
   "cell_type": "code",
   "execution_count": 113,
   "metadata": {},
   "outputs": [
    {
     "data": {
      "image/png": "[encoded data removed]",
      "text/plain": [
       "<Figure size 1152x864 with 2 Axes>"
      ]
     },
     "metadata": {
      "needs_background": "light"
     },
     "output_type": "display_data"
    }
   ],
   "source": [
    "f, ax = plt.subplots(figsize=(16,12))\n",
    "map = sns.heatmap(df.round(3),cmap=sns.color_palette(\"RdPu\", 4), annot=True, linewidths=.5, ax=ax, xticklabels=1, yticklabels=1)\n",
    "map.set_xticklabels(['Native','Regridded','psl'],rotation=45,horizontalalignment='right')\n",
    "plt.title('Cold Front Scores')\n",
    "plt.show()"
   ]
  },
  {
   "cell_type": "code",
   "execution_count": null,
   "metadata": {},
   "outputs": [],
   "source": []
  },
  {
   "cell_type": "code",
   "execution_count": null,
   "metadata": {},
   "outputs": [],
   "source": []
  },
  {
   "cell_type": "code",
   "execution_count": null,
   "metadata": {},
   "outputs": [],
   "source": []
  },
  {
   "cell_type": "code",
   "execution_count": 114,
   "metadata": {},
   "outputs": [],
   "source": [
    "client.close()"
   ]
  },
  {
   "cell_type": "code",
   "execution_count": null,
   "metadata": {},
   "outputs": [],
   "source": []
  }
 ],
 "metadata": {
  "kernelspec": {
   "display_name": "Dask [shared installation]",
   "language": "python",
   "name": "dask"
  },
  "language_info": {
   "codemirror_mode": {
    "name": "ipython",
    "version": 3
   },
   "file_extension": ".py",
   "mimetype": "text/x-python",
   "name": "python",
   "nbconvert_exporter": "python",
   "pygments_lexer": "ipython3",
   "version": "3.8.8"
  }
 },
 "nbformat": 4,
 "nbformat_minor": 4
}
