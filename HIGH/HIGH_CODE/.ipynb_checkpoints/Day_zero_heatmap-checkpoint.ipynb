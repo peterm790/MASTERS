{
 "cells": [
  {
   "cell_type": "code",
   "execution_count": 1,
   "metadata": {},
   "outputs": [],
   "source": [
    "import numpy as np\n",
    "import pandas as pd\n",
    "import xarray as xr\n",
    "import zarr\n",
    "import math\n",
    "import glob\n",
    "import pickle\n",
    "import statistics\n",
    "import scipy.stats as stats\n",
    "from sklearn.neighbors import KernelDensity\n",
    "import dask\n",
    "import seaborn as sns\n",
    "import matplotlib.pyplot as plt"
   ]
  },
  {
   "cell_type": "code",
   "execution_count": 2,
   "metadata": {},
   "outputs": [],
   "source": [
    "pr = xr.open_mfdataset('/terra/data/reanalysis/global/reanalysis/ECMWF/ERA5/1hr/native/pr*')\n",
    "pr = pr.sel(latitude=-34).sel(longitude=18)\n",
    "pr = pr.resample(time='QS-DEC').mean(dim='time',skipna=True)\n",
    "pr = pr.load()"
   ]
  },
  {
   "cell_type": "code",
   "execution_count": 123,
   "metadata": {},
   "outputs": [],
   "source": [
    "df = pd.DataFrame(np.array([pr.time,pr.pr*86400]).T,columns=['time','pr'])\n",
    "df.time = pd.to_datetime(df.time)"
   ]
  },
  {
   "cell_type": "code",
   "execution_count": 124,
   "metadata": {},
   "outputs": [
    {
     "data": {
      "text/html": [
       "<div>\n",
       "<style scoped>\n",
       "    .dataframe tbody tr th:only-of-type {\n",
       "        vertical-align: middle;\n",
       "    }\n",
       "\n",
       "    .dataframe tbody tr th {\n",
       "        vertical-align: top;\n",
       "    }\n",
       "\n",
       "    .dataframe thead th {\n",
       "        text-align: right;\n",
       "    }\n",
       "</style>\n",
       "<table border=\"1\" class=\"dataframe\">\n",
       "  <thead>\n",
       "    <tr style=\"text-align: right;\">\n",
       "      <th></th>\n",
       "      <th>time</th>\n",
       "      <th>pr</th>\n",
       "    </tr>\n",
       "  </thead>\n",
       "  <tbody>\n",
       "    <tr>\n",
       "      <th>0</th>\n",
       "      <td>1978-12-01</td>\n",
       "      <td>1.20941</td>\n",
       "    </tr>\n",
       "    <tr>\n",
       "      <th>1</th>\n",
       "      <td>1979-03-01</td>\n",
       "      <td>0.873243</td>\n",
       "    </tr>\n",
       "    <tr>\n",
       "      <th>2</th>\n",
       "      <td>1979-06-01</td>\n",
       "      <td>1.52027</td>\n",
       "    </tr>\n",
       "    <tr>\n",
       "      <th>3</th>\n",
       "      <td>1979-09-01</td>\n",
       "      <td>1.10467</td>\n",
       "    </tr>\n",
       "    <tr>\n",
       "      <th>4</th>\n",
       "      <td>1979-12-01</td>\n",
       "      <td>0.243123</td>\n",
       "    </tr>\n",
       "    <tr>\n",
       "      <th>...</th>\n",
       "      <td>...</td>\n",
       "      <td>...</td>\n",
       "    </tr>\n",
       "    <tr>\n",
       "      <th>161</th>\n",
       "      <td>2019-03-01</td>\n",
       "      <td>0.9524</td>\n",
       "    </tr>\n",
       "    <tr>\n",
       "      <th>162</th>\n",
       "      <td>2019-06-01</td>\n",
       "      <td>1.79835</td>\n",
       "    </tr>\n",
       "    <tr>\n",
       "      <th>163</th>\n",
       "      <td>2019-09-01</td>\n",
       "      <td>1.03869</td>\n",
       "    </tr>\n",
       "    <tr>\n",
       "      <th>164</th>\n",
       "      <td>2019-12-01</td>\n",
       "      <td>0.405642</td>\n",
       "    </tr>\n",
       "    <tr>\n",
       "      <th>165</th>\n",
       "      <td>2020-03-01</td>\n",
       "      <td>0.481692</td>\n",
       "    </tr>\n",
       "  </tbody>\n",
       "</table>\n",
       "<p>166 rows × 2 columns</p>\n",
       "</div>"
      ],
      "text/plain": [
       "          time        pr\n",
       "0   1978-12-01   1.20941\n",
       "1   1979-03-01  0.873243\n",
       "2   1979-06-01   1.52027\n",
       "3   1979-09-01   1.10467\n",
       "4   1979-12-01  0.243123\n",
       "..         ...       ...\n",
       "161 2019-03-01    0.9524\n",
       "162 2019-06-01   1.79835\n",
       "163 2019-09-01   1.03869\n",
       "164 2019-12-01  0.405642\n",
       "165 2020-03-01  0.481692\n",
       "\n",
       "[166 rows x 2 columns]"
      ]
     },
     "execution_count": 124,
     "metadata": {},
     "output_type": "execute_result"
    }
   ],
   "source": [
    "df"
   ]
  },
  {
   "cell_type": "code",
   "execution_count": 125,
   "metadata": {},
   "outputs": [],
   "source": [
    "seasons =[]\n",
    "for i in range(len(df.time)):\n",
    "    if df.iloc[i].time.month == 12:\n",
    "        seasons.append('Summer')\n",
    "    elif df.iloc[i].time.month == 3:\n",
    "        seasons.append('Autumn')\n",
    "    elif df.iloc[i].time.month == 6:\n",
    "        seasons.append('Winter')\n",
    "    else:\n",
    "        seasons.append('Spring')\n",
    "\n",
    "\n",
    "df['season'] = seasons"
   ]
  },
  {
   "cell_type": "code",
   "execution_count": 126,
   "metadata": {},
   "outputs": [],
   "source": [
    "D0 = df.where(df.time.dt.year.isin([2015,2016,2017])).dropna()"
   ]
  },
  {
   "cell_type": "code",
   "execution_count": 127,
   "metadata": {},
   "outputs": [],
   "source": [
    "percent={}\n",
    "for seas in ['Summer','Autumn','Winter','Spring']:\n",
    "    percent[seas]=[]\n",
    "    D0_seas = D0.where(D0.season==seas).dropna().reset_index()\n",
    "    df_seas = df.where(df.season==seas).dropna().reset_index()\n",
    "    for i in range(len(D0_seas)):\n",
    "        percent[seas].append(stats.percentileofscore(df_seas.pr,D0_seas.pr[i]))"
   ]
  },
  {
   "cell_type": "code",
   "execution_count": 128,
   "metadata": {},
   "outputs": [],
   "source": [
    "dayzero = pd.DataFrame(percent)\n",
    "dayzero['Year'] = D0_seas.time.dt.year"
   ]
  },
  {
   "cell_type": "code",
   "execution_count": 129,
   "metadata": {},
   "outputs": [],
   "source": [
    "annual = pr.resample(time='A').mean(dim='time',skipna=True)\n",
    "D0_annual = annual.sel(time=slice('2015','2017'))"
   ]
  },
  {
   "cell_type": "code",
   "execution_count": 130,
   "metadata": {},
   "outputs": [],
   "source": [
    "annum=[]\n",
    "for i in range(len(D0_annual.time)):\n",
    "    annum.append(stats.percentileofscore(annual.pr.values,D0_annual.pr[i].values))"
   ]
  },
  {
   "cell_type": "code",
   "execution_count": 133,
   "metadata": {},
   "outputs": [],
   "source": [
    "dayzero['Annual'] = annum"
   ]
  },
  {
   "cell_type": "code",
   "execution_count": 134,
   "metadata": {},
   "outputs": [],
   "source": [
    "day_zero = dayzero.set_index('Year')"
   ]
  },
  {
   "cell_type": "code",
   "execution_count": 136,
   "metadata": {},
   "outputs": [
    {
     "data": {
      "image/png": "[encoded data removed]",
      "text/plain": [
       "<Figure size 432x288 with 2 Axes>"
      ]
     },
     "metadata": {
      "needs_background": "light"
     },
     "output_type": "display_data"
    }
   ],
   "source": [
    "sns.heatmap(day_zero,cmap=sns.color_palette(\"bwr_r\", 10), annot=True, linewidths=1 ,xticklabels=1, yticklabels=1,vmin=0,vmax=100)\n",
    "plt.title('Day Zero Seasonal Percentiles')\n",
    "plt.savefig('/home/pmarsh/MASTERS/PR')\n",
    "plt.savefig('/home/pmarsh/MASTERS/PR')\n",
    "plt.show()"
   ]
  },
  {
   "cell_type": "code",
   "execution_count": null,
   "metadata": {},
   "outputs": [],
   "source": []
  }
 ],
 "metadata": {
  "kernelspec": {
   "display_name": "Dask [shared installation]",
   "language": "python",
   "name": "dask"
  },
  "language_info": {
   "codemirror_mode": {
    "name": "ipython",
    "version": 3
   },
   "file_extension": ".py",
   "mimetype": "text/x-python",
   "name": "python",
   "nbconvert_exporter": "python",
   "pygments_lexer": "ipython3",
   "version": "3.8.6"
  }
 },
 "nbformat": 4,
 "nbformat_minor": 4
}
