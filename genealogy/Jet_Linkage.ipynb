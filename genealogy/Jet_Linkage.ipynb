{
 "cells": [
  {
   "cell_type": "code",
   "execution_count": 4,
   "metadata": {},
   "outputs": [],
   "source": [
    "import matplotlib.pyplot as plt\n",
    "import numpy as np\n",
    "import pandas as pd\n",
    "import xarray as xr\n",
    "import cartopy.crs as ccrs\n",
    "import glob\n",
    "import os\n",
    "import scipy.stats\n",
    "from matplotlib import cm\n",
    "import seaborn as sns\n",
    "import pickle"
   ]
  },
  {
   "cell_type": "code",
   "execution_count": 5,
   "metadata": {},
   "outputs": [],
   "source": [
    "jetdic = pickle.load(open( \"../JET/JET_OUT/jettrack_2D.p\", \"rb\" ))"
   ]
  },
  {
   "cell_type": "code",
   "execution_count": 6,
   "metadata": {},
   "outputs": [],
   "source": [
    "weights = np.cos(np.deg2rad(jetdic['NOAA'].lat)) #area weighted"
   ]
  },
  {
   "cell_type": "code",
   "execution_count": 8,
   "metadata": {},
   "outputs": [],
   "source": [
    "#mean absolute error calc\n",
    "results=[]\n",
    "for reference in jetdic:\n",
    "    for index in jetdic:\n",
    "        MAE={}\n",
    "        for season in ['DJF','MAM','JJA','SON']:\n",
    "            ref = jetdic[reference].where(jetdic[reference].time.dt.season==season).mean(dim='time')\n",
    "            x = jetdic[index].where(jetdic[index].time.dt.season==season).mean(dim='time')\n",
    "            MAE[season] = (np.abs(ref - x)).weighted(weights).sum(('lat','lon'))\n",
    "        results.append([reference, index,np.mean(MAE['DJF'].values + MAE['MAM'].values + MAE['JJA'].values + MAE['SON'].values)])"
   ]
  },
  {
   "cell_type": "code",
   "execution_count": 10,
   "metadata": {},
   "outputs": [],
   "source": [
    "models = jetdic.keys()"
   ]
  },
  {
   "cell_type": "code",
   "execution_count": 11,
   "metadata": {},
   "outputs": [],
   "source": [
    "df = pd.DataFrame(models,columns = ['models'])\n",
    "start = 0\n",
    "end = len(models)\n",
    "for index in models:\n",
    "    df[index] = np.array(results[start:end])[:,-1].astype(float)\n",
    "    start = start + len(models)\n",
    "    end = end + len(models)"
   ]
  },
  {
   "cell_type": "code",
   "execution_count": 12,
   "metadata": {},
   "outputs": [],
   "source": [
    "df = df.set_index('models')\n",
    "\n",
    "df.to_csv('Jet_2D_Linkage.csv')"
   ]
  }
 ],
 "metadata": {
  "kernelspec": {
   "display_name": "Dask [shared installation]",
   "language": "python",
   "name": "dask"
  },
  "language_info": {
   "codemirror_mode": {
    "name": "ipython",
    "version": 3
   },
   "file_extension": ".py",
   "mimetype": "text/x-python",
   "name": "python",
   "nbconvert_exporter": "python",
   "pygments_lexer": "ipython3",
   "version": "3.8.8"
  }
 },
 "nbformat": 4,
 "nbformat_minor": 4
}
