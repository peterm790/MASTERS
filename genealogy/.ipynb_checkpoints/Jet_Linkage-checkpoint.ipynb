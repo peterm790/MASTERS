{
 "cells": [
  {
   "cell_type": "code",
   "execution_count": 1,
   "metadata": {},
   "outputs": [],
   "source": [
    "import matplotlib.pyplot as plt\n",
    "import numpy as np\n",
    "import pandas as pd\n",
    "import xarray as xr\n",
    "import cartopy.crs as ccrs\n",
    "import glob\n",
    "import os\n",
    "import scipy.stats\n",
    "from matplotlib import cm\n",
    "import seaborn as sns"
   ]
  },
  {
   "cell_type": "code",
   "execution_count": 2,
   "metadata": {},
   "outputs": [],
   "source": [
    "def get_pressure_weighted(x):\n",
    "    dPref = (x.plev.values[0]-x.plev.values[-1])  #(p-ps)\n",
    "    integral = []\n",
    "    for i in range(len(x.plev)): #Integral of variable from P to Ps calculated as area between each pressure variable trapezoid then summed\n",
    "        if i+1 < len(x.plev):\n",
    "            area=((x.loc[dict(plev=x.plev.values[i])] + x.loc[dict(plev=x.plev.values[i+1])])/2)*(x.plev.values[i]-x.plev.values[i+1])\n",
    "            integral.append(area)\n",
    "    pw = (sum(integral))/dPref\n",
    "    return(pw)"
   ]
  },
  {
   "cell_type": "code",
   "execution_count": 3,
   "metadata": {},
   "outputs": [],
   "source": [
    "def low_pass_weights(window, cutoff):\n",
    "    order = ((window - 1) // 2 ) + 1\n",
    "    nwts = 2 * order + 1\n",
    "    w = np.zeros([nwts])\n",
    "    n = nwts // 2\n",
    "    w[n] = 2 * cutoff\n",
    "    k = np.arange(1., n)\n",
    "    sigma = np.sin(np.pi * k / n) * n / (np.pi * k)\n",
    "    firstfactor = np.sin(2. * np.pi * cutoff * k) / (np.pi * k)\n",
    "    w[n-1:0:-1] = firstfactor * sigma\n",
    "    w[n+1:-1] = firstfactor * sigma\n",
    "    return w[1:-1]\n",
    "\n",
    "wgts = low_pass_weights(41, 1/10)\n",
    "weight = xr.DataArray(list(wgts), dims=['window'])"
   ]
  },
  {
   "cell_type": "code",
   "execution_count": 10,
   "metadata": {},
   "outputs": [],
   "source": [
    "def jettracker(x):\n",
    "    x = x.fillna(0)\n",
    "    x = x.rolling(time=41, center=True).construct('window').dot(weight)\n",
    "    x = x.dropna(dim='time',how='all')\n",
    "    limit = np.quantile(x.values,0.9)\n",
    "    x = x.where((x>=limit))\n",
    "    x = x/x\n",
    "    x = x.fillna(0)\n",
    "    x = x.resample(time='QS-DEC').mean(dim='time',skipna=True)\n",
    "    return x\n"
   ]
  },
  {
   "cell_type": "code",
   "execution_count": 20,
   "metadata": {},
   "outputs": [],
   "source": [
    "def get_files():\n",
    "    models = glob.glob(\"/terra/data/cmip5/global/historical/*\")\n",
    "    avail={}\n",
    "    for model in models:\n",
    "        ua = glob.glob(str(model)+\"/r1i1p1/day/2deg/ua_*\")\n",
    "        va = glob.glob(str(model)+\"/r1i1p1/day/2deg/va_*\")\n",
    "        try:\n",
    "            test = va[0]\n",
    "            avail[model.split('/')[-1]] = [ua,va]\n",
    "        except:\n",
    "             pass\n",
    "    return avail"
   ]
  },
  {
   "cell_type": "code",
   "execution_count": 35,
   "metadata": {},
   "outputs": [],
   "source": [
    "files = get_files()\n",
    "files['NOAA'] = ['/home/pmarsh/NOAA_2deg/NOAA/NOAA_ua_850_700_2deg.nc','/home/pmarsh/NOAA_2deg/NOAA/NOAA_va_850_700_2deg.nc']"
   ]
  },
  {
   "cell_type": "code",
   "execution_count": 40,
   "metadata": {},
   "outputs": [],
   "source": [
    "files['ERA5'] = [glob.glob(\"/home/pmarsh/NOAA_2deg/ERA5/ERA5_ua_850_700_2deg.nc\"),glob.glob(\"/home/pmarsh/NOAA_2deg/ERA5/ERA5_va_850_700_2deg.nc\")]"
   ]
  },
  {
   "cell_type": "code",
   "execution_count": 24,
   "metadata": {},
   "outputs": [],
   "source": [
    "jetdic={}"
   ]
  },
  {
   "cell_type": "code",
   "execution_count": 41,
   "metadata": {},
   "outputs": [
    {
     "name": "stdout",
     "output_type": "stream",
     "text": [
      "ERA5\n"
     ]
    }
   ],
   "source": [
    "for model in files:\n",
    "    print(model)\n",
    "    U = xr.open_mfdataset(files[model][0])\n",
    "    V = xr.open_mfdataset(files[model][1])\n",
    "    levels=[85000,70000]\n",
    "    if model == 'NOAA':\n",
    "        U = U.rename({'uwnd':'ua'})\n",
    "        U = U.rename({'level':'plev'})\n",
    "        V = V.rename({'vwnd':'va'})\n",
    "        V = V.rename({'level':'plev'})\n",
    "        levels=[850,700]\n",
    "    elif model == 'ERA5':\n",
    "        U = U.rename({'level':'plev'})\n",
    "        V = V.rename({'level':'plev'})\n",
    "        levels=[850,700]\n",
    "    x = np.sqrt(np.square(U.ua) + np.square(V.va))\n",
    "    x['ws'] = x\n",
    "    x = x.sel(plev=levels)\n",
    "    x = x.sel(lat = slice(-75,-15))\n",
    "    x = xr.concat([x.sel(lon = slice(0,30)),x.sel(lon = slice(320,360))],dim='lon')\n",
    "    x.coords['lon'] = (x.coords['lon'] + 180) % 360 - 180\n",
    "    x = get_pressure_weighted(x)\n",
    "    if model == 'ERA5':\n",
    "        x = x.sel(time=slice('1980', '2020'))\n",
    "    else:\n",
    "        x = x.sel(time=slice('1950', '2005'))\n",
    "    jetdic[model] = jettracker(x)"
   ]
  },
  {
   "cell_type": "code",
   "execution_count": null,
   "metadata": {},
   "outputs": [],
   "source": [
    "results=[]\n",
    "for index in jetdic:\n",
    "    reference = index\n",
    "    for index in jetdic:\n",
    "        MAE=[]\n",
    "        for season in ['DJF','MAM','JJA','SON']:\n",
    "            ref = jetdic[reference].where(jetdic[reference].time.dt.season==season).mean(dim='time')\n",
    "            x = jetdic[index].where(jetdic[index].time.dt.season==season).mean(dim='time')\n",
    "            for i in ref.lat.values:\n",
    "                for j in ref.lon.values:\n",
    "                    MAE.append(float(np.abs(ref.sel(lat=i).sel(lon=j) - x.sel(lat=i).sel(lon=j))))\n",
    "        results.append([reference,index,np.mean(MAE)])"
   ]
  },
  {
   "cell_type": "code",
   "execution_count": null,
   "metadata": {},
   "outputs": [],
   "source": [
    "df = pd.DataFrame(models,columns = ['models'])\n",
    "start = 0\n",
    "end = len(models)\n",
    "for index in models:\n",
    "    df[index] = np.array(results[start:end])[:,-1].astype(float)\n",
    "    start = start + len(models)\n",
    "    end = end + len(models)"
   ]
  },
  {
   "cell_type": "code",
   "execution_count": null,
   "metadata": {},
   "outputs": [],
   "source": [
    "df = df.set_index('models')\n",
    "\n",
    "df.to_csv('Jet_2D_Linkage.csv')"
   ]
  },
  {
   "cell_type": "code",
   "execution_count": null,
   "metadata": {},
   "outputs": [],
   "source": []
  }
 ],
 "metadata": {
  "kernelspec": {
   "display_name": "Dask [shared installation]",
   "language": "python",
   "name": "dask"
  },
  "language_info": {
   "codemirror_mode": {
    "name": "ipython",
    "version": 3
   },
   "file_extension": ".py",
   "mimetype": "text/x-python",
   "name": "python",
   "nbconvert_exporter": "python",
   "pygments_lexer": "ipython3",
   "version": "3.8.8"
  }
 },
 "nbformat": 4,
 "nbformat_minor": 4
}
