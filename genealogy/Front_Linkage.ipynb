{
 "cells": [
  {
   "cell_type": "code",
   "execution_count": 53,
   "metadata": {},
   "outputs": [],
   "source": [
    "import numpy as np\n",
    "import pandas as pd\n",
    "import xarray as xr\n",
    "import math\n",
    "import dask\n",
    "import glob\n",
    "import seaborn as sns\n",
    "import seaborn as sns\n",
    "import matplotlib.pyplot as plt"
   ]
  },
  {
   "cell_type": "code",
   "execution_count": 54,
   "metadata": {},
   "outputs": [],
   "source": [
    "files = glob.glob(\"../FRONT/FRONT_FILES/native/seasonal/*.nc\")\n",
    "\n",
    "models = []\n",
    "for file in files:\n",
    "    models.append(file.split('/')[-1].split('_')[0])"
   ]
  },
  {
   "cell_type": "code",
   "execution_count": 55,
   "metadata": {},
   "outputs": [],
   "source": [
    "NOAA_2deg = xr.open_dataset('../FRONT/FRONT_FILES/2deg/seasonal/NOAA_seasonal_fronts_2deg.nc')\n",
    "new_lat = NOAA_2deg.lat.values\n",
    "new_lon = NOAA_2deg.lon.values"
   ]
  },
  {
   "cell_type": "code",
   "execution_count": 68,
   "metadata": {},
   "outputs": [],
   "source": [
    "dic = {}\n",
    "for model,file in zip(models,files):\n",
    "    dic[model] = xr.open_dataset(file)\n",
    "    dic[model] = dic[model].rename({'__xarray_dataarray_variable__':'front'})  \n",
    "    dic[model] = dic[model].front.fillna(0)\n",
    "    dic[model] = dic[model].sel(time = slice('1981-03-01','2005-12-30'))  #change from 1950/1981 here\n",
    "    dic[model] = dic[model].groupby(dic[model].time.dt.season).mean(dim='time',skipna=True)\n",
    "    dic[model] = dic[model].interp(lat=new_lat, lon=new_lon,method='linear')  #interpolate to 2deg grid\n",
    "    dic[model] = dic[model].sel(lat = slice(-60,-25))\n",
    "    dic[model] = dic[model].sel(lon = slice(-30,10))\n",
    "    dic[model] = dic[model]/(np.max(dic[model].values))"
   ]
  },
  {
   "cell_type": "code",
   "execution_count": 69,
   "metadata": {},
   "outputs": [],
   "source": [
    "dic_native = dic"
   ]
  },
  {
   "cell_type": "code",
   "execution_count": 70,
   "metadata": {},
   "outputs": [],
   "source": [
    "weights = np.cos(np.deg2rad(dic_native['NOAA'].lat)) #area weighted"
   ]
  },
  {
   "cell_type": "code",
   "execution_count": 73,
   "metadata": {},
   "outputs": [],
   "source": [
    "#mean absolute error calc\n",
    "scores=[]\n",
    "for reference in dic_native:\n",
    "    for index in dic_native:\n",
    "        MAE={}\n",
    "        for season in ['DJF','MAM','JJA','SON']:\n",
    "            ref = dic_native[reference].sel(season = season)\n",
    "            x = dic_native[index].sel(season = season)\n",
    "            MAE[season] = (np.abs(ref - x)).weighted(weights).sum(('lat','lon'))\n",
    "        scores.append([reference, index,np.mean(MAE['DJF'].values + MAE['MAM'].values + MAE['JJA'].values + MAE['SON'].values)])\n",
    "        \n",
    "models = list(dic_native.keys())"
   ]
  },
  {
   "cell_type": "code",
   "execution_count": 74,
   "metadata": {},
   "outputs": [],
   "source": [
    "df = pd.DataFrame(models,columns = ['models'])\n",
    "start = 0\n",
    "end = len(models)\n",
    "for index in models:\n",
    "    df[index] = np.array(scores[start:end])[:,-1].astype(float)\n",
    "    start = start + len(models)\n",
    "    end = end + len(models)"
   ]
  },
  {
   "cell_type": "code",
   "execution_count": 75,
   "metadata": {},
   "outputs": [],
   "source": [
    "df = df.set_index('models')\n",
    "\n",
    "df.to_csv('Front_Linkage.csv')"
   ]
  },
  {
   "cell_type": "code",
   "execution_count": null,
   "metadata": {},
   "outputs": [],
   "source": []
  }
 ],
 "metadata": {
  "kernelspec": {
   "display_name": "Dask [shared installation]",
   "language": "python",
   "name": "dask"
  },
  "language_info": {
   "codemirror_mode": {
    "name": "ipython",
    "version": 3
   },
   "file_extension": ".py",
   "mimetype": "text/x-python",
   "name": "python",
   "nbconvert_exporter": "python",
   "pygments_lexer": "ipython3",
   "version": "3.8.8"
  }
 },
 "nbformat": 4,
 "nbformat_minor": 4
}
